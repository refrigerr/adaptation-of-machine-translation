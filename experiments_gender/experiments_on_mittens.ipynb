{
 "cells": [
  {
   "cell_type": "code",
   "execution_count": 4,
   "id": "8e634a6e",
   "metadata": {},
   "outputs": [],
   "source": [
    "from llm_class import LLM\n",
    "import pandas as pd"
   ]
  },
  {
   "cell_type": "code",
   "execution_count": 41,
   "id": "ba71c955",
   "metadata": {},
   "outputs": [],
   "source": [
    "llm = LLM(model_id='bielik')"
   ]
  },
  {
   "cell_type": "code",
   "execution_count": 42,
   "id": "84c70284",
   "metadata": {},
   "outputs": [],
   "source": [
    "df = pd.read_csv('data/mittens_dataset_formatted.csv')"
   ]
  },
  {
   "cell_type": "code",
   "execution_count": 44,
   "id": "21ca7e44",
   "metadata": {},
   "outputs": [
    {
     "data": {
      "text/html": [
       "<div>\n",
       "<style scoped>\n",
       "    .dataframe tbody tr th:only-of-type {\n",
       "        vertical-align: middle;\n",
       "    }\n",
       "\n",
       "    .dataframe tbody tr th {\n",
       "        vertical-align: top;\n",
       "    }\n",
       "\n",
       "    .dataframe thead th {\n",
       "        text-align: right;\n",
       "    }\n",
       "</style>\n",
       "<table border=\"1\" class=\"dataframe\">\n",
       "  <thead>\n",
       "    <tr style=\"text-align: right;\">\n",
       "      <th></th>\n",
       "      <th>pl_text</th>\n",
       "      <th>en_text</th>\n",
       "      <th>encoded_gender</th>\n",
       "    </tr>\n",
       "  </thead>\n",
       "  <tbody>\n",
       "    <tr>\n",
       "      <th>0</th>\n",
       "      <td>Al-Loubiri był zaangażowany w zarządzanie częś...</td>\n",
       "      <td>Al-Loubiri was involved in the administration ...</td>\n",
       "      <td>masculine</td>\n",
       "    </tr>\n",
       "    <tr>\n",
       "      <th>1</th>\n",
       "      <td>Fiodor był najtrudniejszym z dzieci. Często kł...</td>\n",
       "      <td>Fyodor was the most difficult of the kids. He ...</td>\n",
       "      <td>masculine</td>\n",
       "    </tr>\n",
       "    <tr>\n",
       "      <th>2</th>\n",
       "      <td>Michael Milken chce pomóc zmienić tę sytuację....</td>\n",
       "      <td>Michael Milken wants to help change the situat...</td>\n",
       "      <td>masculine</td>\n",
       "    </tr>\n",
       "    <tr>\n",
       "      <th>3</th>\n",
       "      <td>Podczas drugiej wyprawy na Florydę Ponce de Le...</td>\n",
       "      <td>For the second Florida expedition, Ponce de Le...</td>\n",
       "      <td>masculine</td>\n",
       "    </tr>\n",
       "    <tr>\n",
       "      <th>4</th>\n",
       "      <td>George był jednym z pierwszych, którzy ostrzeg...</td>\n",
       "      <td>George was one of the first to alert the world...</td>\n",
       "      <td>masculine</td>\n",
       "    </tr>\n",
       "    <tr>\n",
       "      <th>...</th>\n",
       "      <td>...</td>\n",
       "      <td>...</td>\n",
       "      <td>...</td>\n",
       "    </tr>\n",
       "    <tr>\n",
       "      <th>145</th>\n",
       "      <td>Guljahan Ilyasova (16 września 1866 - 15 kwiet...</td>\n",
       "      <td>Guljahan Ilyasova (16 September 1866 - 15 Apri...</td>\n",
       "      <td>feminine</td>\n",
       "    </tr>\n",
       "    <tr>\n",
       "      <th>146</th>\n",
       "      <td>Fernando Jose (data urodzenia: 15 sierpnia 187...</td>\n",
       "      <td>Fernando Jose (date of birth: 15 August 1875; ...</td>\n",
       "      <td>masculine</td>\n",
       "    </tr>\n",
       "    <tr>\n",
       "      <th>147</th>\n",
       "      <td>Cecil Malan urodził się 11 września 1937 r. By...</td>\n",
       "      <td>Cecil Malan born was on 11 September 1937 was ...</td>\n",
       "      <td>masculine</td>\n",
       "    </tr>\n",
       "    <tr>\n",
       "      <th>148</th>\n",
       "      <td>Hans Gruber był niemieckim muzykiem i pisarzem...</td>\n",
       "      <td>Hans Gruber was a German musician and writer. ...</td>\n",
       "      <td>masculine</td>\n",
       "    </tr>\n",
       "    <tr>\n",
       "      <th>149</th>\n",
       "      <td>Ingvar Magnusson urodził się w Skråmträsk w Sz...</td>\n",
       "      <td>Ingvar Magnusson was born in Skråmträsk, Swede...</td>\n",
       "      <td>masculine</td>\n",
       "    </tr>\n",
       "  </tbody>\n",
       "</table>\n",
       "<p>150 rows × 3 columns</p>\n",
       "</div>"
      ],
      "text/plain": [
       "                                               pl_text  \\\n",
       "0    Al-Loubiri był zaangażowany w zarządzanie częś...   \n",
       "1    Fiodor był najtrudniejszym z dzieci. Często kł...   \n",
       "2    Michael Milken chce pomóc zmienić tę sytuację....   \n",
       "3    Podczas drugiej wyprawy na Florydę Ponce de Le...   \n",
       "4    George był jednym z pierwszych, którzy ostrzeg...   \n",
       "..                                                 ...   \n",
       "145  Guljahan Ilyasova (16 września 1866 - 15 kwiet...   \n",
       "146  Fernando Jose (data urodzenia: 15 sierpnia 187...   \n",
       "147  Cecil Malan urodził się 11 września 1937 r. By...   \n",
       "148  Hans Gruber był niemieckim muzykiem i pisarzem...   \n",
       "149  Ingvar Magnusson urodził się w Skråmträsk w Sz...   \n",
       "\n",
       "                                               en_text encoded_gender  \n",
       "0    Al-Loubiri was involved in the administration ...      masculine  \n",
       "1    Fyodor was the most difficult of the kids. He ...      masculine  \n",
       "2    Michael Milken wants to help change the situat...      masculine  \n",
       "3    For the second Florida expedition, Ponce de Le...      masculine  \n",
       "4    George was one of the first to alert the world...      masculine  \n",
       "..                                                 ...            ...  \n",
       "145  Guljahan Ilyasova (16 September 1866 - 15 Apri...       feminine  \n",
       "146  Fernando Jose (date of birth: 15 August 1875; ...      masculine  \n",
       "147  Cecil Malan born was on 11 September 1937 was ...      masculine  \n",
       "148  Hans Gruber was a German musician and writer. ...      masculine  \n",
       "149  Ingvar Magnusson was born in Skråmträsk, Swede...      masculine  \n",
       "\n",
       "[150 rows x 3 columns]"
      ]
     },
     "execution_count": 44,
     "metadata": {},
     "output_type": "execute_result"
    }
   ],
   "source": [
    "df"
   ]
  },
  {
   "cell_type": "code",
   "execution_count": 45,
   "id": "ea487fb0",
   "metadata": {},
   "outputs": [],
   "source": [
    "prompt = \"\"\"\n",
    "Przetłumacz na polski i nie dodawaj żadnych dodatkowych wyjaśnień, napisz tylko samo tłumaczenie: {en_text}\n",
    "\"\"\""
   ]
  },
  {
   "cell_type": "code",
   "execution_count": 46,
   "id": "c1dcec11",
   "metadata": {},
   "outputs": [],
   "source": [
    "prompt2 = \"\"\"\n",
    "W zdaniu opisywana jest osoba, której płeć to {gender}.\n",
    "\n",
    "Przetłumacz na polski dbając o to, abt uwzględnić płeć osoby o której jest mowa. \n",
    "Nie dodawaj żadnych dodatkowych wyjaśnień, napisz tylko samo tłumaczenie: {en_text}\n",
    "\"\"\""
   ]
  },
  {
   "cell_type": "code",
   "execution_count": 82,
   "id": "4d3a829d",
   "metadata": {},
   "outputs": [],
   "source": [
    "prompt3 = \"\"\"\n",
    "Wstępne tlumaczenie zdania wygląda następująco: {translation}.\n",
    "\n",
    "W zdaniu opisywana jest osoba, której płeć to {gender}.\n",
    "\n",
    "Przepisz podane zdanie na polski tak, aby było zgodne z podanym kotekstem. Odmień wszystkie słowa, które tego wymagają. Napisz tylko poprawioną wersję zdania, nie dodawaj żadnych dodatkowych wyjaśnień\n",
    "\n",
    "Jeżeli zdanie nie wymaga żadnych zmian, po prostu wypisz je jeszcze raz i nie dodawaj żadnych dodatkowych wyjaśnień.\n",
    "\n",
    "\"\"\""
   ]
  },
  {
   "cell_type": "code",
   "execution_count": 48,
   "id": "2f527875",
   "metadata": {},
   "outputs": [],
   "source": [
    "to_translate = \"My teacher has been a great help over the years\""
   ]
  },
  {
   "cell_type": "code",
   "execution_count": 49,
   "id": "35779b91",
   "metadata": {},
   "outputs": [],
   "source": [
    "to_translate2 = \"My teacher has been a great help over the years, and she is a wonderful person.\""
   ]
  },
  {
   "cell_type": "code",
   "execution_count": 73,
   "id": "5c0474cb",
   "metadata": {},
   "outputs": [
    {
     "data": {
      "text/plain": [
       "'Mój nauczyciel był wielką pomocą przez lata.'"
      ]
     },
     "execution_count": 73,
     "metadata": {},
     "output_type": "execute_result"
    }
   ],
   "source": [
    "llm.prompt_chat_custom_temperature(\n",
    "    prompt=prompt.format(en_text=to_translate), temperature=0.0)"
   ]
  },
  {
   "cell_type": "code",
   "execution_count": 74,
   "id": "2c16e33a",
   "metadata": {},
   "outputs": [
    {
     "data": {
      "text/plain": [
       "'Mój nauczyciel był wielką pomocą przez lata.'"
      ]
     },
     "execution_count": 74,
     "metadata": {},
     "output_type": "execute_result"
    }
   ],
   "source": [
    "llm.prompt_chat_custom_temperature(\n",
    "    prompt=prompt2.format(en_text=to_translate, gender=\"mężczyzna\"), temperature=0.0)"
   ]
  },
  {
   "cell_type": "code",
   "execution_count": 75,
   "id": "04f2a711",
   "metadata": {},
   "outputs": [
    {
     "data": {
      "text/plain": [
       "'Moja nauczycielka była wielką pomocą przez te lata.'"
      ]
     },
     "execution_count": 75,
     "metadata": {},
     "output_type": "execute_result"
    }
   ],
   "source": [
    "llm.prompt_chat_custom_temperature(\n",
    "    prompt=prompt2.format(en_text=to_translate, gender=\"kobieta\"), temperature=0.0)"
   ]
  },
  {
   "cell_type": "code",
   "execution_count": 76,
   "id": "89d7d133",
   "metadata": {},
   "outputs": [
    {
     "data": {
      "text/plain": [
       "'Moja nauczycielka była wielką pomocą przez lata.'"
      ]
     },
     "execution_count": 76,
     "metadata": {},
     "output_type": "execute_result"
    }
   ],
   "source": [
    "first_step = llm.prompt_chat_custom_temperature(\n",
    "    prompt=prompt.format(en_text=to_translate), temperature=0.0)\n",
    "\n",
    "llm.prompt_chat_custom_temperature(\n",
    "    prompt=prompt3.format(translation=first_step, gender=\"kobieta\"), temperature=0.0)"
   ]
  },
  {
   "cell_type": "code",
   "execution_count": 77,
   "id": "bcdd28b4",
   "metadata": {},
   "outputs": [
    {
     "data": {
      "text/plain": [
       "'Mój nauczyciel był wielką pomocą przez lata, a ona jest wspaniałą osobą.'"
      ]
     },
     "execution_count": 77,
     "metadata": {},
     "output_type": "execute_result"
    }
   ],
   "source": [
    "llm.prompt_chat_custom_temperature(\n",
    "    prompt=prompt.format(en_text=to_translate2), temperature=0.0)"
   ]
  },
  {
   "cell_type": "code",
   "execution_count": 78,
   "id": "6cf8c5cb",
   "metadata": {},
   "outputs": [
    {
     "data": {
      "text/plain": [
       "'Moja nauczycielka była wielką pomocą przez lata, i jest cudowną osobą.'"
      ]
     },
     "execution_count": 78,
     "metadata": {},
     "output_type": "execute_result"
    }
   ],
   "source": [
    "llm.prompt_chat_custom_temperature(\n",
    "    prompt=prompt2.format(en_text=to_translate2, gender=\"kobieta\"), temperature=0.0)"
   ]
  },
  {
   "cell_type": "code",
   "execution_count": 81,
   "id": "24c3abe4",
   "metadata": {},
   "outputs": [
    {
     "data": {
      "text/plain": [
       "'Moja nauczycielka była wielką pomocą przez lata, a ona jest wspaniałą osobą.'"
      ]
     },
     "execution_count": 81,
     "metadata": {},
     "output_type": "execute_result"
    }
   ],
   "source": [
    "first_step = llm.prompt_chat_custom_temperature(\n",
    "    prompt=prompt.format(en_text=to_translate2), temperature=0.0)\n",
    "\n",
    "llm.prompt_chat_custom_temperature(\n",
    "    prompt=prompt3.format(translation=first_step, gender=\"kobieta\"), temperature=0.0)"
   ]
  },
  {
   "cell_type": "code",
   "execution_count": 83,
   "id": "ccc3fd54",
   "metadata": {},
   "outputs": [],
   "source": [
    "df['no_context'] = None\n",
    "for index, row in df.iterrows():\n",
    "\n",
    "    prompt_filled = prompt.format(en_text=row['en_text'])\n",
    "\n",
    "    result = llm.prompt_chat_custom_temperature(prompt=prompt_filled, temperature=0.0)\n",
    "    df.at[index, 'no_context'] = result\n",
    "\n",
    "df['with_context'] = None\n",
    "\n",
    "for index, row in df.iterrows():\n",
    "    gender = \"mężczyzna\" if row['encoded_gender'] == \"masculine\" else \"kobieta\"\n",
    "\n",
    "    prompt_filled = prompt2.format(en_text=row['en_text'], gender=gender)\n",
    "\n",
    "    result = llm.prompt_chat_custom_temperature(prompt=prompt_filled, temperature=0.0)\n",
    "    df.at[index, 'with_context'] = result\n",
    "\n",
    "df['with_context_two_steps'] = None\n",
    "\n",
    "for index, row in df.iterrows():\n",
    "    gender = \"mężczyzna\" if row['encoded_gender'] == \"masculine\" else \"kobieta\"\n",
    "\n",
    "    prompt_filled = prompt.format(en_text=row['en_text'])\n",
    "    result = llm.prompt_chat_custom_temperature(prompt=prompt_filled, temperature=0.0)\n",
    "\n",
    "    prompt_filled2 = prompt3.format(translation=result, gender=gender)\n",
    "    result2 = llm.prompt_chat_custom_temperature(prompt=prompt_filled2, temperature=0.0) \n",
    "\n",
    "    df.at[index, 'with_context_two_steps'] = result2"
   ]
  },
  {
   "cell_type": "code",
   "execution_count": 85,
   "id": "03c53992",
   "metadata": {},
   "outputs": [
    {
     "data": {
      "text/html": [
       "<div>\n",
       "<style scoped>\n",
       "    .dataframe tbody tr th:only-of-type {\n",
       "        vertical-align: middle;\n",
       "    }\n",
       "\n",
       "    .dataframe tbody tr th {\n",
       "        vertical-align: top;\n",
       "    }\n",
       "\n",
       "    .dataframe thead th {\n",
       "        text-align: right;\n",
       "    }\n",
       "</style>\n",
       "<table border=\"1\" class=\"dataframe\">\n",
       "  <thead>\n",
       "    <tr style=\"text-align: right;\">\n",
       "      <th></th>\n",
       "      <th>pl_text</th>\n",
       "      <th>en_text</th>\n",
       "      <th>encoded_gender</th>\n",
       "      <th>no_context</th>\n",
       "      <th>with_context</th>\n",
       "      <th>with_context_two_steps</th>\n",
       "    </tr>\n",
       "  </thead>\n",
       "  <tbody>\n",
       "    <tr>\n",
       "      <th>0</th>\n",
       "      <td>Al-Loubiri był zaangażowany w zarządzanie częś...</td>\n",
       "      <td>Al-Loubiri was involved in the administration ...</td>\n",
       "      <td>masculine</td>\n",
       "      <td>Al-Loubiri był zaangażowany w zarządzanie częś...</td>\n",
       "      <td>Al-Loubiri był zaangażowany w zarządzanie częś...</td>\n",
       "      <td>Al-Loubiri był zaangażowany w zarządzanie częś...</td>\n",
       "    </tr>\n",
       "    <tr>\n",
       "      <th>1</th>\n",
       "      <td>Fiodor był najtrudniejszym z dzieci. Często kł...</td>\n",
       "      <td>Fyodor was the most difficult of the kids. He ...</td>\n",
       "      <td>masculine</td>\n",
       "      <td>Fiodor był najtrudniejszym z dzieci. Często kł...</td>\n",
       "      <td>Fiodor był najtrudniejszym z dzieci. Często kł...</td>\n",
       "      <td>Fiodor był najtrudniejszym z dzieci. Często kł...</td>\n",
       "    </tr>\n",
       "    <tr>\n",
       "      <th>2</th>\n",
       "      <td>Michael Milken chce pomóc zmienić tę sytuację....</td>\n",
       "      <td>Michael Milken wants to help change the situat...</td>\n",
       "      <td>masculine</td>\n",
       "      <td>Michael Milken chce pomóc zmienić sytuację. By...</td>\n",
       "      <td>Michael Milken chce pomóc zmienić sytuację. By...</td>\n",
       "      <td>Michael Milken chce pomóc zmienić sytuację. By...</td>\n",
       "    </tr>\n",
       "    <tr>\n",
       "      <th>3</th>\n",
       "      <td>Podczas drugiej wyprawy na Florydę Ponce de Le...</td>\n",
       "      <td>For the second Florida expedition, Ponce de Le...</td>\n",
       "      <td>masculine</td>\n",
       "      <td>Dla drugiej wyprawy do Florydy, Ponce de León ...</td>\n",
       "      <td>Dla drugiej wyprawy do Florydy Ponce de León z...</td>\n",
       "      <td>Dla drugiej wyprawy do Florydy, Juan Ponce de ...</td>\n",
       "    </tr>\n",
       "    <tr>\n",
       "      <th>4</th>\n",
       "      <td>George był jednym z pierwszych, którzy ostrzeg...</td>\n",
       "      <td>George was one of the first to alert the world...</td>\n",
       "      <td>masculine</td>\n",
       "      <td>George był jednym z pierwszych, którzy ostrzeg...</td>\n",
       "      <td>George był jednym z pierwszych, którzy zaalarm...</td>\n",
       "      <td>George był jednym z pierwszych, który ostrzegł...</td>\n",
       "    </tr>\n",
       "    <tr>\n",
       "      <th>...</th>\n",
       "      <td>...</td>\n",
       "      <td>...</td>\n",
       "      <td>...</td>\n",
       "      <td>...</td>\n",
       "      <td>...</td>\n",
       "      <td>...</td>\n",
       "    </tr>\n",
       "    <tr>\n",
       "      <th>145</th>\n",
       "      <td>Guljahan Ilyasova (16 września 1866 - 15 kwiet...</td>\n",
       "      <td>Guljahan Ilyasova (16 September 1866 - 15 Apri...</td>\n",
       "      <td>feminine</td>\n",
       "      <td>Guljahan Ilyasova (16 września 1866 - 15 kwiet...</td>\n",
       "      <td>Guljahan Ilyasova (16 września 1866 - 15 kwiet...</td>\n",
       "      <td>Guljahan Ilyasova (16 września 1866 - 15 kwiet...</td>\n",
       "    </tr>\n",
       "    <tr>\n",
       "      <th>146</th>\n",
       "      <td>Fernando Jose (data urodzenia: 15 sierpnia 187...</td>\n",
       "      <td>Fernando Jose (date of birth: 15 August 1875; ...</td>\n",
       "      <td>masculine</td>\n",
       "      <td>Fernando Jose (data urodzenia: 15 sierpnia 187...</td>\n",
       "      <td>Fernando Jose (data urodzenia: 15 sierpnia 187...</td>\n",
       "      <td>Fernando Jose (ur. 15 sierpnia 1875 w Porto Al...</td>\n",
       "    </tr>\n",
       "    <tr>\n",
       "      <th>147</th>\n",
       "      <td>Cecil Malan urodził się 11 września 1937 r. By...</td>\n",
       "      <td>Cecil Malan born was on 11 September 1937 was ...</td>\n",
       "      <td>masculine</td>\n",
       "      <td>Cecil Malan urodził się 11 września 1937 roku ...</td>\n",
       "      <td>Cecil Malan urodził się 11 września 1937 roku ...</td>\n",
       "      <td>Cecil Malan urodził się 11 września 1937 roku....</td>\n",
       "    </tr>\n",
       "    <tr>\n",
       "      <th>148</th>\n",
       "      <td>Hans Gruber był niemieckim muzykiem i pisarzem...</td>\n",
       "      <td>Hans Gruber was a German musician and writer. ...</td>\n",
       "      <td>masculine</td>\n",
       "      <td>Hans Gruber był niemieckim muzykiem i pisarzem...</td>\n",
       "      <td>Hans Gruber był niemieckim muzykiem i pisarzem...</td>\n",
       "      <td>Hans Gruber był niemieckim muzykiem i pisarzem...</td>\n",
       "    </tr>\n",
       "    <tr>\n",
       "      <th>149</th>\n",
       "      <td>Ingvar Magnusson urodził się w Skråmträsk w Sz...</td>\n",
       "      <td>Ingvar Magnusson was born in Skråmträsk, Swede...</td>\n",
       "      <td>masculine</td>\n",
       "      <td>Ingvar Magnusson urodził się w Skrämträsk, Szw...</td>\n",
       "      <td>Ingvar Magnusson urodził się w Skrämträsk, Szw...</td>\n",
       "      <td>Ingvar Magnusson urodził się w Skrämträsk, Szw...</td>\n",
       "    </tr>\n",
       "  </tbody>\n",
       "</table>\n",
       "<p>150 rows × 6 columns</p>\n",
       "</div>"
      ],
      "text/plain": [
       "                                               pl_text  \\\n",
       "0    Al-Loubiri był zaangażowany w zarządzanie częś...   \n",
       "1    Fiodor był najtrudniejszym z dzieci. Często kł...   \n",
       "2    Michael Milken chce pomóc zmienić tę sytuację....   \n",
       "3    Podczas drugiej wyprawy na Florydę Ponce de Le...   \n",
       "4    George był jednym z pierwszych, którzy ostrzeg...   \n",
       "..                                                 ...   \n",
       "145  Guljahan Ilyasova (16 września 1866 - 15 kwiet...   \n",
       "146  Fernando Jose (data urodzenia: 15 sierpnia 187...   \n",
       "147  Cecil Malan urodził się 11 września 1937 r. By...   \n",
       "148  Hans Gruber był niemieckim muzykiem i pisarzem...   \n",
       "149  Ingvar Magnusson urodził się w Skråmträsk w Sz...   \n",
       "\n",
       "                                               en_text encoded_gender  \\\n",
       "0    Al-Loubiri was involved in the administration ...      masculine   \n",
       "1    Fyodor was the most difficult of the kids. He ...      masculine   \n",
       "2    Michael Milken wants to help change the situat...      masculine   \n",
       "3    For the second Florida expedition, Ponce de Le...      masculine   \n",
       "4    George was one of the first to alert the world...      masculine   \n",
       "..                                                 ...            ...   \n",
       "145  Guljahan Ilyasova (16 September 1866 - 15 Apri...       feminine   \n",
       "146  Fernando Jose (date of birth: 15 August 1875; ...      masculine   \n",
       "147  Cecil Malan born was on 11 September 1937 was ...      masculine   \n",
       "148  Hans Gruber was a German musician and writer. ...      masculine   \n",
       "149  Ingvar Magnusson was born in Skråmträsk, Swede...      masculine   \n",
       "\n",
       "                                            no_context  \\\n",
       "0    Al-Loubiri był zaangażowany w zarządzanie częś...   \n",
       "1    Fiodor był najtrudniejszym z dzieci. Często kł...   \n",
       "2    Michael Milken chce pomóc zmienić sytuację. By...   \n",
       "3    Dla drugiej wyprawy do Florydy, Ponce de León ...   \n",
       "4    George był jednym z pierwszych, którzy ostrzeg...   \n",
       "..                                                 ...   \n",
       "145  Guljahan Ilyasova (16 września 1866 - 15 kwiet...   \n",
       "146  Fernando Jose (data urodzenia: 15 sierpnia 187...   \n",
       "147  Cecil Malan urodził się 11 września 1937 roku ...   \n",
       "148  Hans Gruber był niemieckim muzykiem i pisarzem...   \n",
       "149  Ingvar Magnusson urodził się w Skrämträsk, Szw...   \n",
       "\n",
       "                                          with_context  \\\n",
       "0    Al-Loubiri był zaangażowany w zarządzanie częś...   \n",
       "1    Fiodor był najtrudniejszym z dzieci. Często kł...   \n",
       "2    Michael Milken chce pomóc zmienić sytuację. By...   \n",
       "3    Dla drugiej wyprawy do Florydy Ponce de León z...   \n",
       "4    George był jednym z pierwszych, którzy zaalarm...   \n",
       "..                                                 ...   \n",
       "145  Guljahan Ilyasova (16 września 1866 - 15 kwiet...   \n",
       "146  Fernando Jose (data urodzenia: 15 sierpnia 187...   \n",
       "147  Cecil Malan urodził się 11 września 1937 roku ...   \n",
       "148  Hans Gruber był niemieckim muzykiem i pisarzem...   \n",
       "149  Ingvar Magnusson urodził się w Skrämträsk, Szw...   \n",
       "\n",
       "                                with_context_two_steps  \n",
       "0    Al-Loubiri był zaangażowany w zarządzanie częś...  \n",
       "1    Fiodor był najtrudniejszym z dzieci. Często kł...  \n",
       "2    Michael Milken chce pomóc zmienić sytuację. By...  \n",
       "3    Dla drugiej wyprawy do Florydy, Juan Ponce de ...  \n",
       "4    George był jednym z pierwszych, który ostrzegł...  \n",
       "..                                                 ...  \n",
       "145  Guljahan Ilyasova (16 września 1866 - 15 kwiet...  \n",
       "146  Fernando Jose (ur. 15 sierpnia 1875 w Porto Al...  \n",
       "147  Cecil Malan urodził się 11 września 1937 roku....  \n",
       "148  Hans Gruber był niemieckim muzykiem i pisarzem...  \n",
       "149  Ingvar Magnusson urodził się w Skrämträsk, Szw...  \n",
       "\n",
       "[150 rows x 6 columns]"
      ]
     },
     "execution_count": 85,
     "metadata": {},
     "output_type": "execute_result"
    }
   ],
   "source": [
    "df"
   ]
  },
  {
   "cell_type": "code",
   "execution_count": 86,
   "id": "a0e633c8",
   "metadata": {},
   "outputs": [],
   "source": [
    "df.to_csv('results/mittens_gender_context.csv', index=False)"
   ]
  },
  {
   "cell_type": "markdown",
   "id": "91d7ceba",
   "metadata": {},
   "source": [
    "Morfeusz"
   ]
  },
  {
   "cell_type": "code",
   "execution_count": 62,
   "id": "26e7f273",
   "metadata": {},
   "outputs": [],
   "source": [
    "from morfeusz2 import Morfeusz\n",
    "morfeusz = Morfeusz()"
   ]
  },
  {
   "cell_type": "code",
   "execution_count": 63,
   "id": "6a07a993",
   "metadata": {},
   "outputs": [],
   "source": [
    "from collections import Counter\n",
    "\n",
    "def extract_dominant_gender_smart(analyses):\n",
    "    gender_votes = []\n",
    "    seen_tokens = set()\n",
    "\n",
    "    for start, end, (orth, base, tag, _, _) in analyses:\n",
    "        token_id = (start, end)\n",
    "        if token_id in seen_tokens:\n",
    "            continue\n",
    "        seen_tokens.add(token_id)\n",
    "\n",
    "        tag_parts = tag.split(':')\n",
    "        if not tag_parts:\n",
    "            continue\n",
    "\n",
    "        pos = tag_parts[0]\n",
    "        gender = None\n",
    "\n",
    "\n",
    "        # normalne przypisywanie płci na podstawie cech gramatycznych\n",
    "        for part in tag_parts:\n",
    "            if part == 'f':\n",
    "                gender = 'f'\n",
    "                break\n",
    "            elif part.startswith('m') or part == 'n':\n",
    "                gender = 'm'\n",
    "                break\n",
    "\n",
    "        if not gender:\n",
    "            continue\n",
    "\n",
    "        weight = 0\n",
    "\n",
    "        if pos == 'praet':  # czasownik przeszły\n",
    "            if 'sg' in tag_parts:\n",
    "                weight = 5  # bardzo silny sygnał\n",
    "            else:\n",
    "                weight = 3\n",
    "        elif pos == 'ppron3':  # zaimek osobowy\n",
    "            if 'sg' in tag_parts:\n",
    "                weight = 5\n",
    "\n",
    "        elif pos == 'subst':  # rzeczownik\n",
    "            if 'nom' in tag_parts and ('pri' in tag_parts or 'pers' in tag_parts):\n",
    "                # jeśli jest w mianowniku i jest \"personalny\" (pri = przymiotnik osobowy, pers = osoba)\n",
    "                weight = 3\n",
    "            else:\n",
    "                # rzeczowniki inne niż osobowe dostają bardzo mały wpływ\n",
    "                weight = 1\n",
    "        elif pos == 'adj':  # przymiotniki\n",
    "            weight = 1\n",
    "        else:\n",
    "            continue  # inne części mowy ignorujemy\n",
    "\n",
    "        gender_votes.extend([gender] * weight)\n",
    "\n",
    "    if not gender_votes:\n",
    "        return None\n",
    "    \n",
    "    counts = Counter(gender_votes)\n",
    "    return counts.most_common(1)[0][0]\n",
    "\n",
    "def is_gender_match(sentence, expected_gender):\n",
    "    morf = morfeusz\n",
    "    analysis = morf.analyse(sentence)\n",
    "    gender = extract_dominant_gender_smart(analysis)\n",
    "\n",
    "    if not gender:\n",
    "        return False\n",
    "\n",
    "    return gender == expected_gender"
   ]
  },
  {
   "cell_type": "code",
   "execution_count": 67,
   "id": "3b69b64c",
   "metadata": {},
   "outputs": [
    {
     "name": "stdout",
     "output_type": "stream",
     "text": [
      "No context accuracy:  0.82\n",
      "Good:  123\n",
      "Bad:  27\n",
      "With context accuracy:  0.8866666666666667\n",
      "Good:  133\n",
      "Bad:  17\n",
      "With context two steps accuracy:  0.94\n",
      "Good:  141\n",
      "Bad:  9\n"
     ]
    }
   ],
   "source": [
    "no_context_good = 0\n",
    "no_context_bad = 0\n",
    "with_context_good = 0\n",
    "with_context_bad = 0\n",
    "with_context_two_steps_good = 0\n",
    "with_context_two_steps_bad = 0\n",
    "\n",
    "for index, row in df.iterrows():\n",
    "    gender = 'm' if row['encoded_gender'] == \"masculine\" else 'f'\n",
    "    \n",
    "    text_no_context = row['no_context']\n",
    "    text_with_context = row['with_context']\n",
    "    text_with_context_two_steps = row['with_context_two_steps']\n",
    "\n",
    "    result_no_context = is_gender_match(text_no_context, gender)\n",
    "    result_with_context = is_gender_match(text_with_context, gender)\n",
    "    result_with_context_two_steps = is_gender_match(text_with_context_two_steps, gender)\n",
    "\n",
    "    if result_no_context:\n",
    "        no_context_good += 1\n",
    "    else:   \n",
    "        no_context_bad += 1\n",
    "\n",
    "    if result_with_context:\n",
    "        with_context_good += 1\n",
    "    else:\n",
    "        with_context_bad += 1\n",
    "\n",
    "    if result_with_context_two_steps:\n",
    "        with_context_two_steps_good += 1\n",
    "    else:\n",
    "        with_context_two_steps_bad += 1\n",
    "\n",
    "print(\"No context accuracy: \", no_context_good / (no_context_good + no_context_bad))\n",
    "print(\"Good: \", no_context_good)\n",
    "print(\"Bad: \", no_context_bad)\n",
    "print(\"With context accuracy: \", with_context_good / (with_context_good + with_context_bad))\n",
    "print(\"Good: \", with_context_good)\n",
    "print(\"Bad: \", with_context_bad)\n",
    "print(\"With context two steps accuracy: \", with_context_two_steps_good / (with_context_two_steps_good + with_context_two_steps_bad))\n",
    "print(\"Good: \", with_context_two_steps_good)\n",
    "print(\"Bad: \", with_context_two_steps_bad)\n",
    "        \n"
   ]
  },
  {
   "cell_type": "code",
   "execution_count": null,
   "id": "7ace6863",
   "metadata": {},
   "outputs": [],
   "source": []
  }
 ],
 "metadata": {
  "kernelspec": {
   "display_name": "Python 3",
   "language": "python",
   "name": "python3"
  },
  "language_info": {
   "codemirror_mode": {
    "name": "ipython",
    "version": 3
   },
   "file_extension": ".py",
   "mimetype": "text/x-python",
   "name": "python",
   "nbconvert_exporter": "python",
   "pygments_lexer": "ipython3",
   "version": "3.11.2"
  }
 },
 "nbformat": 4,
 "nbformat_minor": 5
}
