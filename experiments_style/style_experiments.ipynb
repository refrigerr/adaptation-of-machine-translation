{
 "cells": [
  {
   "cell_type": "code",
   "execution_count": 1,
   "id": "0159915d",
   "metadata": {},
   "outputs": [],
   "source": [
    "import pandas as pd\n",
    "import json\n",
    "import sys\n",
    "import re\n",
    "sys.path.append('..')"
   ]
  },
  {
   "cell_type": "code",
   "execution_count": 2,
   "id": "3b23ba6d",
   "metadata": {},
   "outputs": [],
   "source": [
    "from llm_class import LLM\n",
    "\n",
    "llm = LLM(model_id=\"bielik\", key_path='../key.txt')"
   ]
  },
  {
   "cell_type": "code",
   "execution_count": 3,
   "id": "d41ddd7e",
   "metadata": {},
   "outputs": [],
   "source": [
    "sentence = \"What are you doing Jane, Mark and Felix are waiting for you\""
   ]
  },
  {
   "cell_type": "code",
   "execution_count": 4,
   "id": "7e551844",
   "metadata": {},
   "outputs": [],
   "source": [
    "prompt = \"\"\"\n",
    "Przetłumacz na polski i nie dodawaj żadnych dodatkowych wyjaśnień, napisz tylko samo tłumaczenie: {en_text}\n",
    "\"\"\""
   ]
  },
  {
   "cell_type": "code",
   "execution_count": 5,
   "id": "87af58eb",
   "metadata": {},
   "outputs": [
    {
     "data": {
      "text/plain": [
       "'Co robisz, Jane? Mark i Felix czekają na ciebie.'"
      ]
     },
     "execution_count": 5,
     "metadata": {},
     "output_type": "execute_result"
    }
   ],
   "source": [
    "llm.prompt_chat_custom_temperature(prompt=prompt.format(en_text=sentence), temperature=0.0)"
   ]
  },
  {
   "cell_type": "code",
   "execution_count": 6,
   "id": "ff486d15",
   "metadata": {},
   "outputs": [],
   "source": [
    "sentence = \"You are funny Jane but it will cost you\""
   ]
  },
  {
   "cell_type": "code",
   "execution_count": 7,
   "id": "59494043",
   "metadata": {},
   "outputs": [
    {
     "data": {
      "text/plain": [
       "'Jesteś zabawna, Jane, ale to cię będzie kosztować.'"
      ]
     },
     "execution_count": 7,
     "metadata": {},
     "output_type": "execute_result"
    }
   ],
   "source": [
    "llm.prompt_chat_custom_temperature(prompt=prompt.format(en_text=sentence), temperature=0.0)"
   ]
  }
 ],
 "metadata": {
  "kernelspec": {
   "display_name": "Python 3",
   "language": "python",
   "name": "python3"
  },
  "language_info": {
   "codemirror_mode": {
    "name": "ipython",
    "version": 3
   },
   "file_extension": ".py",
   "mimetype": "text/x-python",
   "name": "python",
   "nbconvert_exporter": "python",
   "pygments_lexer": "ipython3",
   "version": "3.11.2"
  }
 },
 "nbformat": 4,
 "nbformat_minor": 5
}
