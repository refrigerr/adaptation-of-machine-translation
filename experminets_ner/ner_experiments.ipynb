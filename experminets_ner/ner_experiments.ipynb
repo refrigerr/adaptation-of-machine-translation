{
 "cells": [
  {
   "cell_type": "code",
   "execution_count": 1,
   "id": "1445a728",
   "metadata": {},
   "outputs": [],
   "source": [
    "import pandas as pd\n",
    "import json\n",
    "import sys\n",
    "import re\n",
    "sys.path.append('..')"
   ]
  },
  {
   "cell_type": "code",
   "execution_count": 2,
   "id": "2fb496b5",
   "metadata": {},
   "outputs": [],
   "source": [
    "from llm_class import LLM\n",
    "\n",
    "llm = LLM(model_id=\"bielik\", key_path='../key.txt')"
   ]
  },
  {
   "cell_type": "code",
   "execution_count": 3,
   "id": "78673f64",
   "metadata": {},
   "outputs": [],
   "source": [
    "df = pd.read_csv(\"../data/dialog_witcher_dataset.csv\", delimiter=\"|\")\n",
    "with open('../data/speakers_characteristics.json', 'r') as f:\n",
    "    speaker_data = json.load(f) "
   ]
  },
  {
   "cell_type": "code",
   "execution_count": 4,
   "id": "69fdf8f1",
   "metadata": {},
   "outputs": [],
   "source": [
    "example = \"Uncle Vesemir, can you tell Jane that she is pretty?\""
   ]
  },
  {
   "cell_type": "code",
   "execution_count": 5,
   "id": "48fda39b",
   "metadata": {},
   "outputs": [],
   "source": [
    "prompt_default = \"Przetłumacz podane zdanie z języka angielskiego na język polski i nie dodawaj nic więcej, napisz tylko i wyłącznie samo tłumaczenie: {en_text}\""
   ]
  },
  {
   "cell_type": "code",
   "execution_count": 6,
   "id": "bbe7f3ea",
   "metadata": {},
   "outputs": [
    {
     "name": "stdout",
     "output_type": "stream",
     "text": [
      "Wujku Vesemirze, czy możesz powiedzieć Janie, że jest ładna?\n"
     ]
    }
   ],
   "source": [
    "print(llm.prompt_chat_custom_temperature(prompt=prompt_default.format(en_text=example), temperature=0.0))"
   ]
  },
  {
   "cell_type": "code",
   "execution_count": 8,
   "id": "a46a0c24",
   "metadata": {},
   "outputs": [],
   "source": [
    "prompt_v1 = \"\"\" \n",
    "Oto zdanie po angielsku: {en_text}\n",
    "\n",
    "W podanym zdaniu zidentyfikuj wszystkie nazwy własne (imiona, nazwy miejsc/miast/krajów itd.).\n",
    "Następnie przetłumacz podane zdanie na język polski, nie zmieniając przy tym żadnej ze znalezionych nazw własnych i nie dodawaj nic więcej. Napisz tylko i wyłącznie samo tłumaczenie:\n",
    "\"\"\""
   ]
  },
  {
   "cell_type": "code",
   "execution_count": 9,
   "id": "23ec0a84",
   "metadata": {},
   "outputs": [
    {
     "name": "stdout",
     "output_type": "stream",
     "text": [
      "Nazwy własne:\n",
      "- Vesemir\n",
      "- Jane\n",
      "\n",
      "Tłumaczenie: Wujku Vesemirze, powiedz Janie, że jest ładna.\n"
     ]
    }
   ],
   "source": [
    "print(llm.prompt_chat_custom_temperature(prompt=prompt_v1.format(en_text=example), temperature=0.0))"
   ]
  },
  {
   "cell_type": "code",
   "execution_count": 12,
   "id": "2ae26b7c",
   "metadata": {},
   "outputs": [],
   "source": [
    "prompt_v2 = \"\"\" \n",
    "Oto zdanie po angielsku: {en_text}\n",
    "\n",
    "W podanym zdaniu zidentyfikuj wszystkie nazwy własne (imiona, nazwy miejsc/miast/krajów itd.).\n",
    "Następnie przetłumacz podane zdanie na język polski i nie dodawaj nic więcej, a wszystkie znalezione nazwy własne pozostaw bez zmian w tłumaczeniu. Napisz tylko i wyłącznie samo tłumaczenie:\n",
    "\"\"\""
   ]
  },
  {
   "cell_type": "code",
   "execution_count": 13,
   "id": "d5a06107",
   "metadata": {},
   "outputs": [
    {
     "name": "stdout",
     "output_type": "stream",
     "text": [
      "Wujku Vesemirze, powiedz Janie, że jest ładna.\n",
      "\n",
      "Znalezione nazwy własne:\n",
      "- Vesemir\n",
      "- Jane\n"
     ]
    }
   ],
   "source": [
    "print(llm.prompt_chat_custom_temperature(prompt=prompt_v2.format(en_text=example), temperature=0.0))"
   ]
  },
  {
   "cell_type": "code",
   "execution_count": 14,
   "id": "b09f70a0",
   "metadata": {},
   "outputs": [],
   "source": [
    "prompt_v3 = \"\"\" \n",
    "Oto zdanie po angielsku: {en_text}\n",
    "\n",
    "W podanym zdaniu zidentyfikuj wszystkie nazwy własne (imiona, nazwy miejsc/miast/krajów itd.).\n",
    "Przetłumacz podane zdanie na język polski, a znalezione nazwy własne nie tłumacz, ani nie odmieniaj, pozostaw je nie zmienione.\n",
    "\"\"\""
   ]
  },
  {
   "cell_type": "code",
   "execution_count": 15,
   "id": "9a7d5ced",
   "metadata": {},
   "outputs": [
    {
     "name": "stdout",
     "output_type": "stream",
     "text": [
      "Zdanie po angielsku: \"Uncle Vesemir, can you tell Jane that she is pretty?\"\n",
      "\n",
      "Nazwy własne w tym zdaniu to:\n",
      "- Vesemir\n",
      "- Jane\n",
      "\n",
      "Tłumaczenie zdania na język polski:\n",
      "\"Wujku Vesemirze, czy możesz powiedzieć Jane, że jest ładna?\"\n",
      "\n",
      "W tłumaczeniu pozostawiłem imiona Vesemir i Jane bez zmian, zgodnie z Twoją prośbą.\n"
     ]
    }
   ],
   "source": [
    "print(llm.prompt_chat_custom_temperature(prompt=prompt_v3.format(en_text=example), temperature=0.0))"
   ]
  },
  {
   "cell_type": "code",
   "execution_count": 16,
   "id": "02769ed4",
   "metadata": {},
   "outputs": [],
   "source": [
    "few_shot = \"\"\" \n",
    "Zdanie po angielsku: Come on Michael, let's go\n",
    "Tłumaczenie na polski: Dawaj Michael, chodźmy\n",
    "\n",
    "Zdanie po angielsku: Jane, why you and Jacob both went to the shop?\n",
    "Tłumaczenie na polski: Jane, dlaczego ty i Jacob oboje poszliście do sklepu?\n",
    "\n",
    "Zdanie po angielsku: I hate you Emiliy, you and your stupid sister Olivia.\n",
    "Tłumaczenie na polski: Nienawidzę cie Emiliy, ciebie i twojej glupiej siostry Olivia.\n",
    "\"\"\""
   ]
  },
  {
   "cell_type": "code",
   "execution_count": 17,
   "id": "3566259a",
   "metadata": {},
   "outputs": [],
   "source": [
    "prompt_v4 = \"\"\" \n",
    "Oto kilka przykładów jak zachować nazwy własne w tłumaczeniu:\n",
    "\n",
    "{few_shot}\n",
    "\n",
    "Oto zdanie po angielsku: {en_text}\n",
    "\n",
    "W podanym zdaniu zidentyfikuj wszystkie nazwy własne (imiona, nazwy miejsc/miast/krajów itd.).\n",
    "Przetłumacz podane zdanie na język polski, a znalezione nazwy własne nie tłumacz, ani nie odmieniaj, pozostaw je nie zmienione. \n",
    "\"\"\""
   ]
  },
  {
   "cell_type": "code",
   "execution_count": 18,
   "id": "cdf2f532",
   "metadata": {},
   "outputs": [
    {
     "name": "stdout",
     "output_type": "stream",
     "text": [
      "W podanym zdaniu \"Uncle Vesemir, can you tell Jane that she is pretty?\" możemy zidentyfikować następujące nazwy własne:\n",
      "\n",
      "1. **Vesemir** - imię postaci (nazwa własna)\n",
      "2. **Jane** - imię osoby (nazwa własna)\n",
      "\n",
      "Teraz przetłumaczę to zdanie na język polski, zachowując nazwy własne bez tłumaczenia i odmiany:\n",
      "\n",
      "\"Wujku Vesemirze, powiedz Jane, że jest ładna.\"\n",
      "\n",
      "W tym tłumaczeniu imiona \"Vesemir\" i \"Jane\" zostały zachowane w oryginalnej formie, ponieważ są to nazwy własne.\n"
     ]
    }
   ],
   "source": [
    "print(llm.prompt_chat_custom_temperature(prompt=prompt_v4.format(en_text=example, few_shot=few_shot), temperature=0.0))"
   ]
  },
  {
   "cell_type": "code",
   "execution_count": null,
   "id": "6d3bf391",
   "metadata": {},
   "outputs": [],
   "source": []
  }
 ],
 "metadata": {
  "kernelspec": {
   "display_name": "Python 3",
   "language": "python",
   "name": "python3"
  },
  "language_info": {
   "codemirror_mode": {
    "name": "ipython",
    "version": 3
   },
   "file_extension": ".py",
   "mimetype": "text/x-python",
   "name": "python",
   "nbconvert_exporter": "python",
   "pygments_lexer": "ipython3",
   "version": "3.11.2"
  }
 },
 "nbformat": 4,
 "nbformat_minor": 5
}
