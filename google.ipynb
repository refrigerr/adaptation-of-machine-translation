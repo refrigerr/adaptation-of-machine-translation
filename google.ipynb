{
 "cells": [
  {
   "cell_type": "code",
   "execution_count": 2,
   "metadata": {},
   "outputs": [
    {
     "name": "stdout",
     "output_type": "stream",
     "text": [
      "Collecting pyjwt\n",
      "  Using cached PyJWT-2.10.1-py3-none-any.whl.metadata (4.0 kB)\n",
      "Using cached PyJWT-2.10.1-py3-none-any.whl (22 kB)\n",
      "Installing collected packages: pyjwt\n",
      "Successfully installed pyjwt-2.10.1\n"
     ]
    }
   ],
   "source": [
    "!pip install pyjwt"
   ]
  },
  {
   "cell_type": "code",
   "execution_count": 5,
   "metadata": {},
   "outputs": [],
   "source": [
    "import jwt\n",
    "import requests"
   ]
  },
  {
   "cell_type": "code",
   "execution_count": null,
   "metadata": {},
   "outputs": [
    {
     "name": "stdout",
     "output_type": "stream",
     "text": [
      "Witam, jak się masz?\n"
     ]
    }
   ],
   "source": [
    "import json\n",
    "import time\n",
    "import jwt  # PyJWT library (install with `pip install PyJWT`)\n",
    "import requests\n",
    "\n",
    "# Path to your Google Cloud JSON key\n",
    "KEY_PATH = \"google_api.json\"\n",
    "\n",
    "# Load JSON credentials\n",
    "with open(KEY_PATH) as f:\n",
    "    creds = json.load(f)\n",
    "\n",
    "# Google OAuth 2.0 Token URL\n",
    "GOOGLE_OAUTH2_TOKEN_URL = \"https://oauth2.googleapis.com/token\"\n",
    "\n",
    "def get_access_token():\n",
    "    \"\"\"Generate an OAuth 2.0 access token manually using service account JSON.\"\"\"\n",
    "    \n",
    "    # Define JWT claim set\n",
    "    issued_at = int(time.time())\n",
    "    expiration_time = issued_at + 3600  # Token valid for 1 hour\n",
    "\n",
    "    payload = {\n",
    "        \"iss\": creds[\"client_email\"],  # Issuer (Service Account Email)\n",
    "        \"scope\": \"https://www.googleapis.com/auth/cloud-translation\",  # Translation API scope\n",
    "        \"aud\": GOOGLE_OAUTH2_TOKEN_URL,\n",
    "        \"iat\": issued_at,  # Issued At\n",
    "        \"exp\": expiration_time  # Expiry\n",
    "    }\n",
    "\n",
    "    # Create a JWT signed with the private key\n",
    "    private_key = creds[\"private_key\"]\n",
    "    jwt_token = jwt.encode(payload, private_key, algorithm=\"RS256\")\n",
    "\n",
    "    # Exchange JWT for OAuth 2.0 access token\n",
    "    token_request_data = {\n",
    "        \"grant_type\": \"urn:ietf:params:oauth:grant-type:jwt-bearer\",\n",
    "        \"assertion\": jwt_token\n",
    "    }\n",
    "\n",
    "    response = requests.post(GOOGLE_OAUTH2_TOKEN_URL, data=token_request_data)\n",
    "    \n",
    "    if response.status_code == 200:\n",
    "        return response.json()[\"access_token\"]\n",
    "    else:\n",
    "        raise Exception(f\"Error obtaining access token: {response.text}\")\n",
    "\n",
    "def translate(text, target_lang=\"es\"):\n",
    "    \"\"\"Use Google Cloud Translation API with manually obtained access token.\"\"\"\n",
    "    \n",
    "    token = get_access_token()\n",
    "    url = \"https://translation.googleapis.com/language/translate/v2\"\n",
    "\n",
    "    headers = {\n",
    "        \"Authorization\": f\"Bearer {token}\",\n",
    "        \"Content-Type\": \"application/json\"\n",
    "    }\n",
    "\n",
    "    payload = {\n",
    "        \"q\": text,\n",
    "        \"target\": target_lang\n",
    "    }\n",
    "\n",
    "    response = requests.post(url, headers=headers, json=payload)\n",
    "\n",
    "    if response.status_code == 200:\n",
    "        return response.json()[\"data\"][\"translations\"][0][\"translatedText\"]\n",
    "    else:\n",
    "        return f\"Error: {response.text}\"\n",
    "\n",
    "# Example Usage\n",
    "translated_text = translate(\"Hello, how are you?\", target_lang=\"pl\")\n",
    "print(translated_text)  # Output: Bonjour, comment ça va ?\n"
   ]
  },
  {
   "cell_type": "code",
   "execution_count": null,
   "metadata": {},
   "outputs": [],
   "source": []
  }
 ],
 "metadata": {
  "kernelspec": {
   "display_name": "Python 3",
   "language": "python",
   "name": "python3"
  },
  "language_info": {
   "codemirror_mode": {
    "name": "ipython",
    "version": 3
   },
   "file_extension": ".py",
   "mimetype": "text/x-python",
   "name": "python",
   "nbconvert_exporter": "python",
   "pygments_lexer": "ipython3",
   "version": "3.11.2"
  }
 },
 "nbformat": 4,
 "nbformat_minor": 2
}
