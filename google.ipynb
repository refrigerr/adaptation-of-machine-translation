{
 "cells": [
  {
   "cell_type": "code",
   "execution_count": 2,
   "metadata": {},
   "outputs": [
    {
     "name": "stdout",
     "output_type": "stream",
     "text": [
      "Collecting pyjwt\n",
      "  Using cached PyJWT-2.10.1-py3-none-any.whl.metadata (4.0 kB)\n",
      "Using cached PyJWT-2.10.1-py3-none-any.whl (22 kB)\n",
      "Installing collected packages: pyjwt\n",
      "Successfully installed pyjwt-2.10.1\n"
     ]
    }
   ],
   "source": [
    "!pip install pyjwt"
   ]
  },
  {
   "cell_type": "code",
   "execution_count": 5,
   "metadata": {},
   "outputs": [],
   "source": [
    "import jwt\n",
    "import requests"
   ]
  },
  {
   "cell_type": "code",
   "execution_count": 2,
   "metadata": {},
   "outputs": [
    {
     "name": "stdout",
     "output_type": "stream",
     "text": [
      "Witam, jak się masz?\n"
     ]
    }
   ],
   "source": [
    "import json\n",
    "import time\n",
    "import jwt  # PyJWT library (install with `pip install PyJWT`)\n",
    "import requests\n",
    "\n",
    "# Path to your Google Cloud JSON key\n",
    "KEY_PATH = \"google_api.json\"\n",
    "\n",
    "# Load JSON credentials\n",
    "with open(KEY_PATH) as f:\n",
    "    creds = json.load(f)\n",
    "\n",
    "# Google OAuth 2.0 Token URL\n",
    "GOOGLE_OAUTH2_TOKEN_URL = \"https://oauth2.googleapis.com/token\"\n",
    "\n",
    "def get_access_token():\n",
    "    \"\"\"Generate an OAuth 2.0 access token manually using service account JSON.\"\"\"\n",
    "    \n",
    "    # Define JWT claim set\n",
    "    issued_at = int(time.time())\n",
    "    expiration_time = issued_at + 3600  # Token valid for 1 hour\n",
    "\n",
    "    payload = {\n",
    "        \"iss\": creds[\"client_email\"],  # Issuer (Service Account Email)\n",
    "        \"scope\": \"https://www.googleapis.com/auth/cloud-translation\",  # Translation API scope\n",
    "        \"aud\": GOOGLE_OAUTH2_TOKEN_URL,\n",
    "        \"iat\": issued_at,  # Issued At\n",
    "        \"exp\": expiration_time  # Expiry\n",
    "    }\n",
    "\n",
    "    # Create a JWT signed with the private key\n",
    "    private_key = creds[\"private_key\"]\n",
    "    jwt_token = jwt.encode(payload, private_key, algorithm=\"RS256\")\n",
    "\n",
    "    # Exchange JWT for OAuth 2.0 access token\n",
    "    token_request_data = {\n",
    "        \"grant_type\": \"urn:ietf:params:oauth:grant-type:jwt-bearer\",\n",
    "        \"assertion\": jwt_token\n",
    "    }\n",
    "\n",
    "    response = requests.post(GOOGLE_OAUTH2_TOKEN_URL, data=token_request_data)\n",
    "    \n",
    "    if response.status_code == 200:\n",
    "        return response.json()[\"access_token\"]\n",
    "    else:\n",
    "        raise Exception(f\"Error obtaining access token: {response.text}\")\n",
    "\n",
    "def translate(text, target_lang=\"es\"):\n",
    "    \"\"\"Use Google Cloud Translation API with manually obtained access token.\"\"\"\n",
    "    \n",
    "    token = get_access_token()\n",
    "    url = \"https://translation.googleapis.com/language/translate/v2\"\n",
    "\n",
    "    headers = {\n",
    "        \"Authorization\": f\"Bearer {token}\",\n",
    "        \"Content-Type\": \"application/json\"\n",
    "    }\n",
    "\n",
    "    payload = {\n",
    "        \"q\": text,\n",
    "        \"target\": target_lang\n",
    "    }\n",
    "\n",
    "    response = requests.post(url, headers=headers, json=payload)\n",
    "\n",
    "    if response.status_code == 200:\n",
    "        return response.json()[\"data\"][\"translations\"][0][\"translatedText\"]\n",
    "    else:\n",
    "        return f\"Error: {response.text}\"\n",
    "\n",
    "# Example Usage\n",
    "translated_text = translate(\"Hello, how are you?\", target_lang=\"pl\")\n",
    "print(translated_text)  # Output: Bonjour, comment ça va ?\n"
   ]
  },
  {
   "cell_type": "code",
   "execution_count": 3,
   "metadata": {},
   "outputs": [
    {
     "name": "stdout",
     "output_type": "stream",
     "text": [
      "Requirement already satisfied: pyjwt in c:\\users\\kajet\\appdata\\local\\programs\\python\\python311\\lib\\site-packages (2.10.1)\n"
     ]
    }
   ],
   "source": [
    "!pip install pyjwt"
   ]
  },
  {
   "cell_type": "code",
   "execution_count": 6,
   "metadata": {},
   "outputs": [
    {
     "ename": "Exception",
     "evalue": "Error obtaining access token: 400, {\"error\":\"invalid_scope\",\"error_description\":\"Invalid OAuth scope or ID token audience provided.\"}",
     "output_type": "error",
     "traceback": [
      "\u001b[1;31m---------------------------------------------------------------------------\u001b[0m",
      "\u001b[1;31mException\u001b[0m                                 Traceback (most recent call last)",
      "Cell \u001b[1;32mIn[6], line 74\u001b[0m\n\u001b[0;32m     71\u001b[0m     \u001b[38;5;28;01mreturn\u001b[39;00m result[\u001b[38;5;124m\"\u001b[39m\u001b[38;5;124mtranslations\u001b[39m\u001b[38;5;124m\"\u001b[39m][\u001b[38;5;241m0\u001b[39m][\u001b[38;5;124m\"\u001b[39m\u001b[38;5;124mtranslatedText\u001b[39m\u001b[38;5;124m\"\u001b[39m]\n\u001b[0;32m     73\u001b[0m \u001b[38;5;66;03m# Example usage\u001b[39;00m\n\u001b[1;32m---> 74\u001b[0m translated_text \u001b[38;5;241m=\u001b[39m \u001b[43mgoogle_translate\u001b[49m\u001b[43m(\u001b[49m\n\u001b[0;32m     75\u001b[0m \u001b[43m    \u001b[49m\u001b[38;5;124;43m\"\u001b[39;49m\u001b[38;5;124;43mHello, how are you?\u001b[39;49m\u001b[38;5;124;43m\"\u001b[39;49m\u001b[43m,\u001b[49m\n\u001b[0;32m     76\u001b[0m \u001b[43m    \u001b[49m\u001b[43mtarget_language\u001b[49m\u001b[38;5;241;43m=\u001b[39;49m\u001b[38;5;124;43m\"\u001b[39;49m\u001b[38;5;124;43mpl\u001b[39;49m\u001b[38;5;124;43m\"\u001b[39;49m\u001b[43m,\u001b[49m\n\u001b[0;32m     77\u001b[0m \u001b[43m    \u001b[49m\u001b[43mproject_id\u001b[49m\u001b[38;5;241;43m=\u001b[39;49m\u001b[38;5;124;43m\"\u001b[39;49m\u001b[38;5;124;43mmagisterka-454811\u001b[39;49m\u001b[38;5;124;43m\"\u001b[39;49m\u001b[43m,\u001b[49m\n\u001b[0;32m     78\u001b[0m \u001b[43m    \u001b[49m\u001b[43mcredentials_path\u001b[49m\u001b[38;5;241;43m=\u001b[39;49m\u001b[38;5;124;43m\"\u001b[39;49m\u001b[38;5;124;43mgoogle_api.json\u001b[39;49m\u001b[38;5;124;43m\"\u001b[39;49m\n\u001b[0;32m     79\u001b[0m \u001b[43m)\u001b[49m\n\u001b[0;32m     80\u001b[0m \u001b[38;5;28mprint\u001b[39m(translated_text)\n",
      "Cell \u001b[1;32mIn[6], line 46\u001b[0m, in \u001b[0;36mgoogle_translate\u001b[1;34m(text, target_language, project_id, credentials_path)\u001b[0m\n\u001b[0;32m     44\u001b[0m token_response \u001b[38;5;241m=\u001b[39m requests\u001b[38;5;241m.\u001b[39mpost(token_url, data\u001b[38;5;241m=\u001b[39mtoken_payload)\n\u001b[0;32m     45\u001b[0m \u001b[38;5;28;01mif\u001b[39;00m token_response\u001b[38;5;241m.\u001b[39mstatus_code \u001b[38;5;241m!=\u001b[39m \u001b[38;5;241m200\u001b[39m:\n\u001b[1;32m---> 46\u001b[0m     \u001b[38;5;28;01mraise\u001b[39;00m \u001b[38;5;167;01mException\u001b[39;00m(\u001b[38;5;124mf\u001b[39m\u001b[38;5;124m\"\u001b[39m\u001b[38;5;124mError obtaining access token: \u001b[39m\u001b[38;5;132;01m{\u001b[39;00mtoken_response\u001b[38;5;241m.\u001b[39mstatus_code\u001b[38;5;132;01m}\u001b[39;00m\u001b[38;5;124m, \u001b[39m\u001b[38;5;132;01m{\u001b[39;00mtoken_response\u001b[38;5;241m.\u001b[39mtext\u001b[38;5;132;01m}\u001b[39;00m\u001b[38;5;124m\"\u001b[39m)\n\u001b[0;32m     47\u001b[0m access_token \u001b[38;5;241m=\u001b[39m token_response\u001b[38;5;241m.\u001b[39mjson()[\u001b[38;5;124m\"\u001b[39m\u001b[38;5;124maccess_token\u001b[39m\u001b[38;5;124m\"\u001b[39m]\n\u001b[0;32m     49\u001b[0m \u001b[38;5;66;03m# Prepare the request payload for translation\u001b[39;00m\n",
      "\u001b[1;31mException\u001b[0m: Error obtaining access token: 400, {\"error\":\"invalid_scope\",\"error_description\":\"Invalid OAuth scope or ID token audience provided.\"}"
     ]
    }
   ],
   "source": [
    "import requests\n",
    "import json\n",
    "import jwt  # PyJWT library\n",
    "import time\n",
    "\n",
    "def google_translate(text, target_language=\"pl\", project_id=\"magisterka-454811\", credentials_path=\"google_api.json\"):\n",
    "    \"\"\"\n",
    "    Translates text using Google Translate API v3 with manual JWT authentication.\n",
    "\n",
    "    Args:\n",
    "        text (str): The text to translate.\n",
    "        target_language (str): The target language code (default is \"pl\" for Polish).\n",
    "        project_id (str): Your Google Cloud project ID.\n",
    "        credentials_path (str): Path to the service account JSON file.\n",
    "\n",
    "    Returns:\n",
    "        str: The translated text.\n",
    "    \"\"\"\n",
    "    # Define the API endpoint\n",
    "    url = f\"https://translation.googleapis.com/v3/projects/{project_id}/locations/global:translateText\"\n",
    "\n",
    "    # Load the service account JSON file\n",
    "    with open(credentials_path, \"r\") as file:\n",
    "        service_account_info = json.load(file)\n",
    "\n",
    "    # Create a JWT for authentication\n",
    "    now = int(time.time())\n",
    "    payload = {\n",
    "        \"iss\": service_account_info[\"client_email\"],\n",
    "        \"sub\": service_account_info[\"client_email\"],\n",
    "        \"aud\": \"https://oauth2.googleapis.com/token\",  # Correct audience for token exchange\n",
    "        \"iat\": now,\n",
    "        \"exp\": now + 3600,  # Token valid for 1 hour\n",
    "    }\n",
    "    private_key = service_account_info[\"private_key\"]\n",
    "    jwt_token = jwt.encode(payload, private_key, algorithm=\"RS256\")\n",
    "\n",
    "    # Exchange the JWT for an access token\n",
    "    token_url = \"https://oauth2.googleapis.com/token\"\n",
    "    token_payload = {\n",
    "        \"grant_type\": \"urn:ietf:params:oauth:grant-type:jwt-bearer\",\n",
    "        \"assertion\": jwt_token,\n",
    "    }\n",
    "    token_response = requests.post(token_url, data=token_payload)\n",
    "    if token_response.status_code != 200:\n",
    "        raise Exception(f\"Error obtaining access token: {token_response.status_code}, {token_response.text}\")\n",
    "    access_token = token_response.json()[\"access_token\"]\n",
    "\n",
    "    # Prepare the request payload for translation\n",
    "    payload = {\n",
    "        \"contents\": [text],\n",
    "        \"targetLanguageCode\": target_language,\n",
    "        \"mimeType\": \"text/plain\",  # Specify the content type\n",
    "    }\n",
    "\n",
    "    # Add the access token to the request headers\n",
    "    headers = {\n",
    "        \"Authorization\": f\"Bearer {access_token}\",\n",
    "        \"Content-Type\": \"application/json\",\n",
    "    }\n",
    "\n",
    "    # Send the request to the Translation API\n",
    "    response = requests.post(url, json=payload, headers=headers)\n",
    "\n",
    "    # Check for errors\n",
    "    if response.status_code != 200:\n",
    "        raise Exception(f\"Error with Google Translate API: {response.status_code}, {response.text}\")\n",
    "\n",
    "    # Parse the response\n",
    "    result = response.json()\n",
    "    return result[\"translations\"][0][\"translatedText\"]\n",
    "\n",
    "# Example usage\n",
    "translated_text = google_translate(\n",
    "    \"Hello, how are you?\",\n",
    "    target_language=\"pl\",\n",
    "    project_id=\"magisterka-454811\",\n",
    "    credentials_path=\"google_api.json\"\n",
    ")\n",
    "print(translated_text)"
   ]
  }
 ],
 "metadata": {
  "kernelspec": {
   "display_name": "Python 3",
   "language": "python",
   "name": "python3"
  },
  "language_info": {
   "codemirror_mode": {
    "name": "ipython",
    "version": 3
   },
   "file_extension": ".py",
   "mimetype": "text/x-python",
   "name": "python",
   "nbconvert_exporter": "python",
   "pygments_lexer": "ipython3",
   "version": "3.11.2"
  }
 },
 "nbformat": 4,
 "nbformat_minor": 2
}
