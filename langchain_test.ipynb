{
 "cells": [
  {
   "cell_type": "code",
   "execution_count": 98,
   "id": "41c87c68",
   "metadata": {},
   "outputs": [],
   "source": [
    "from langchain.llms.base import LLM\n",
    "from typing import Optional, List\n",
    "import requests\n",
    "\n",
    "class ClarinChatLLM(LLM):\n",
    "    model_id: str\n",
    "    api_key: str\n",
    "    temperature: float = 0.0\n",
    "\n",
    "    @property\n",
    "    def _llm_type(self) -> str:\n",
    "        return \"clarin-chat\"\n",
    "\n",
    "    def _call(self, prompt: str, stop: Optional[List[str]] = None) -> str:\n",
    "        url = \"https://services.clarin-pl.eu/api/v1/oapi/chat/completions\"\n",
    "        headers = {\n",
    "            \"Authorization\": f\"Bearer {self.api_key}\",\n",
    "            \"Content-Type\": \"application/json\"\n",
    "        }\n",
    "        messages = [{\"role\": \"user\", \"content\": prompt}]\n",
    "        data = {\n",
    "            \"model\": self.model_id,\n",
    "            \"messages\": messages,\n",
    "            \"temperature\": self.temperature\n",
    "        }\n",
    "        response = requests.post(url, json=data, headers=headers)\n",
    "        if response.status_code == 200:\n",
    "            try:\n",
    "                json_data = response.json()\n",
    "                return json_data[\"choices\"][0][\"message\"][\"content\"]\n",
    "            except Exception as e:\n",
    "                print(f\"Invalid response format: {e}\")\n",
    "                return None\n",
    "        else:\n",
    "            print(f\"Request failed with status {response.status_code}: {response.text}\")\n",
    "            return None\n"
   ]
  },
  {
   "cell_type": "code",
   "execution_count": 2,
   "id": "3ddd59b3",
   "metadata": {},
   "outputs": [],
   "source": [
    "with open(\"key.txt\", \"r\") as file:\n",
    "    API_KEY_CLARIN = file.read().strip()"
   ]
  },
  {
   "cell_type": "code",
   "execution_count": 99,
   "id": "fcee7a83",
   "metadata": {},
   "outputs": [],
   "source": [
    "clarin_llm = ClarinChatLLM(\n",
    "    model_id=\"bielik\",\n",
    "    api_key=API_KEY_CLARIN\n",
    ")"
   ]
  },
  {
   "cell_type": "code",
   "execution_count": 65,
   "id": "7704335d",
   "metadata": {},
   "outputs": [],
   "source": [
    "def parse_characters(file_path):\n",
    "    characters = {}\n",
    "    with open(file_path, 'r', encoding='utf-8') as file:\n",
    "        lines = file.readlines()\n",
    "    \n",
    "    current_character = None\n",
    "    for line in lines:\n",
    "        line = line.strip()\n",
    "        if line.startswith(\"Osoba:\"):\n",
    "            current_character = line.split(\":\")[1].strip()\n",
    "            characters[current_character] = {\"gender\": None, \"character\": None}\n",
    "        elif line.startswith(\"płeć:\") and current_character:\n",
    "            characters[current_character][\"gender\"] = line.split(\":\")[1].strip()\n",
    "        elif line.startswith(\"charakter:\") and current_character:\n",
    "            characters[current_character][\"character\"] = line.split(\":\")[1].strip()\n",
    "    \n",
    "    return characters\n",
    "\n",
    "characters_dict = parse_characters(\"example_context.txt\")"
   ]
  },
  {
   "cell_type": "code",
   "execution_count": 66,
   "id": "452ee6f7",
   "metadata": {},
   "outputs": [
    {
     "data": {
      "text/plain": [
       "{'Geralt': {'gender': 'mężczyzna', 'character': None},\n",
       " 'Yennefer': {'gender': 'kobieta', 'character': None},\n",
       " 'Troll': {'gender': 'nijaka',\n",
       "  'character': 'wypowiada się w formie bezosobowej, nie umie odmieniać przez płeć, wypowiada się na poziomie dziecka, mowi \"ja być\" zamiast \"ja jestem\", albo \"ty być\" zamiast \"ty jesteś\"'}}"
      ]
     },
     "execution_count": 66,
     "metadata": {},
     "output_type": "execute_result"
    }
   ],
   "source": [
    "characters_dict"
   ]
  },
  {
   "cell_type": "code",
   "execution_count": null,
   "id": "b80e6ae9",
   "metadata": {},
   "outputs": [],
   "source": [
    "from langchain.prompts import PromptTemplate\n",
    "\n",
    "translation_prompt = PromptTemplate(\n",
    "    input_variables=[\"speaker\", \"listener\", \"text\", \"speaker_gender\", \"listener_gender\", \"speaker_character\", \"listener_character\"],\n",
    "    template=\"\"\"\n",
    "Twoim zadaniem jest przetłumaczyć wypowiedź z angielskiego na polski, stylizując ją zgodnie z osobowością, płcią i sposobem mówienia postaci.\n",
    "\n",
    "Mówiący: {speaker}\n",
    "Płeć mówiącego: {speaker_gender}\n",
    "Sposób mówienia: {speaker_character}\n",
    "\n",
    "Słuchacz: {listener}\n",
    "Płeć słuchacza: {listener_gender}\n",
    "\n",
    "Zachowaj styl wypowiedzi mówiącego. Jeśli postać mówi w specyficzny sposób, odwzoruj to w tłumaczeniu.\n",
    "\n",
    "Tekst do przetłumaczenia: \"{text}\"\n",
    "\n",
    "Przetłumaczony tekst:\n",
    "\"\"\"\n",
    ")"
   ]
  },
  {
   "cell_type": "code",
   "execution_count": 80,
   "id": "af515886",
   "metadata": {},
   "outputs": [],
   "source": [
    "from langchain.chains import LLMChain\n",
    "translator_chain = LLMChain(\n",
    "    llm=clarin_llm,  # your wrapped CLARIN LLM\n",
    "    prompt=translation_prompt\n",
    ")"
   ]
  },
  {
   "cell_type": "code",
   "execution_count": 81,
   "id": "f9d7b6b0",
   "metadata": {},
   "outputs": [],
   "source": [
    "def translate_with_context(speaker, listener, text):\n",
    "    # Pobieramy informacje o mówiącym i słuchaczu\n",
    "    speaker_info = characters_dict.get(speaker, {\"gender\": \"nieznana\", \"character\": \"nieznany\"})\n",
    "    listener_info = characters_dict.get(listener, {\"gender\": \"nieznana\"})\n",
    "    \n",
    "    speaker_gender = speaker_info[\"gender\"]\n",
    "    listener_gender = listener_info[\"gender\"]\n",
    "    speaker_character = speaker_info[\"character\"]\n",
    "    \n",
    "    return translator_chain.run({\n",
    "        \"speaker\": speaker,\n",
    "        \"listener\": listener,\n",
    "        \"text\": text,\n",
    "        \"speaker_gender\": speaker_gender,\n",
    "        \"listener_gender\": listener_gender,\n",
    "        \"speaker_character\": speaker_character,\n",
    "    })"
   ]
  },
  {
   "cell_type": "code",
   "execution_count": 82,
   "id": "5a792dcc",
   "metadata": {},
   "outputs": [
    {
     "name": "stdout",
     "output_type": "stream",
     "text": [
      "Przetłumaczony tekst zgodnie ze stylem i charakterystyką wskazanych postaci:\n",
      "\n",
      "\"Ja być najlepszym artystą, ty też być dobrym artystą?\"\n",
      "\n",
      "Wypowiedź ta odzwierciedla prosty, dziecinny sposób mówienia trolla, który używa formy bezosobowej i ma trudności z odmianą przez płeć. Jednocześnie zachowuje ona sens oryginalnego pytania o umiejętności artystyczne rozmówcy.\n"
     ]
    }
   ],
   "source": [
    "print(translate_with_context(\n",
    "    speaker=\"Troll\",\n",
    "    listener=\"Yennefer\",\n",
    "    text=\"I am the best artist, are you a good artist too?\"\n",
    "))\n"
   ]
  },
  {
   "cell_type": "code",
   "execution_count": 83,
   "id": "c05ceea2",
   "metadata": {},
   "outputs": [
    {
     "name": "stdout",
     "output_type": "stream",
     "text": [
      "Oto przetłumaczona wypowiedź stylizowana na charakterystyczny sposób mówienia Yennefer, z uwzględnieniem jej osobowości jako kobiety:\n",
      "\n",
      "\"Jestem najlepszą artystką, czy ty też jesteś dobrym artystą?\"\n",
      "\n",
      "Yennefer często używa lekko wyniosłego tonu, podkreślając swoją wyższość i pewność siebie. W tym zdaniu można wyczuć nutę wyzwania lub prowokacji, sugerując, że rozmówca powinien udowodnić swoje umiejętności, aby dorównać jej poziomowi. Jednocześnie pytanie o bycie \"dobrym artystą\" może być interpretowane jako subtelne umniejszenie wartości rozmówcy, co jest typowe dla jej sposobu komunikacji.\n"
     ]
    }
   ],
   "source": [
    "print(translate_with_context(\n",
    "    speaker=\"Yennefer\",\n",
    "    listener=\"Troll\",\n",
    "    text=\"I am the best artist, are you a good artist too?\"\n",
    "))"
   ]
  },
  {
   "cell_type": "code",
   "execution_count": 84,
   "id": "3c57ea26",
   "metadata": {},
   "outputs": [
    {
     "name": "stdout",
     "output_type": "stream",
     "text": [
      "Geralt (mężczyzna):\n",
      "\"Jestem najlepszym artystą w swojej dziedzinie, czy ty też jesteś dobrym artystą?\"\n",
      "\n",
      "Troll (nijaki):\n",
      "\"Jam jest mistrzem w swoim fachu, czy i ty posiadasz umiejętności godne pochwały?\"\n"
     ]
    }
   ],
   "source": [
    "print(translate_with_context(\n",
    "    speaker=\"Geralt\",\n",
    "    listener=\"Troll\",\n",
    "    text=\"I am the best artist, are you a good artist too?\"\n",
    "))"
   ]
  },
  {
   "cell_type": "code",
   "execution_count": 85,
   "id": "75f43698",
   "metadata": {},
   "outputs": [
    {
     "name": "stdout",
     "output_type": "stream",
     "text": [
      "Geralt (mężczyzna):\n",
      "\"No cóż, ja jestem najlepszym Wiedźminem, jakiego znam... A ty? Czy jesteś dobrą czarodziejką?\"\n",
      "\n",
      "Yennefer (kobieta):\n",
      "\"Och, Geralt, nie bądź taki skromny! Wiesz doskonale, że jesteś legendarnym Wiedźminem. A co do mnie - powiedzmy, że potrafię rzucić kilka zaklęć lepiej niż inne.\"\n"
     ]
    }
   ],
   "source": [
    "print(translate_with_context(\n",
    "    speaker=\"Geralt\",\n",
    "    listener=\"Yennefer\",\n",
    "    text=\"I am the best artist, are you a good artist too?\"\n",
    "))"
   ]
  },
  {
   "cell_type": "code",
   "execution_count": 114,
   "id": "cebcce30",
   "metadata": {},
   "outputs": [],
   "source": [
    "translation_step1 = PromptTemplate(\n",
    "    input_variables=[\"sentence\"],\n",
    "    template=\"\"\"\n",
    "Przetłumacz na polski i nie dodawaj żadnych dodatkowych wyjaśnień, napisz tylko samo tłumaczenie: {sentence}\n",
    "\"\"\"\n",
    ")\n",
    "\n",
    "translation_step2 = PromptTemplate(\n",
    "    input_variables=[\"speaker\", \"listener\", \"translated_sentence\", \"speaker_gender\", \"listener_gender\", \"speaker_character\"],\n",
    "    template=\"\"\"\n",
    "\n",
    "zdanie wypowiadane jest przez {speaker_gender} do {listener_gender}\n",
    "\n",
    "Przepisz podane zdanie na polski zgodnie z podanym kotekstem i nie dodawaj żadnych dodatkowych wyjaśnień, napisz tylko samo tłumaczenie: \"{translated_sentence}\"\n",
    "\n",
    "\"\"\"\n",
    ")"
   ]
  },
  {
   "cell_type": "code",
   "execution_count": 115,
   "id": "75729581",
   "metadata": {},
   "outputs": [],
   "source": [
    "step1_chain = LLMChain(llm=clarin_llm, prompt=translation_step1)\n",
    "step2_chain = LLMChain(llm=clarin_llm, prompt=translation_step2)\n",
    "\n",
    "def translate_with_two_steps(speaker, listener, sentence):\n",
    "\n",
    "    speaker_info = characters_dict.get(speaker, {\"gender\": \"nieznana\", \"character\": \"nieznany\"})\n",
    "    listener_info = characters_dict.get(listener, {\"gender\": \"nieznana\"})\n",
    "    \n",
    "    speaker_gender = speaker_info[\"gender\"]\n",
    "    listener_gender = listener_info[\"gender\"]\n",
    "    speaker_character = speaker_info[\"character\"]\n",
    "\n",
    "    step1_result = step1_chain.run({\n",
    "        \"sentence\": sentence\n",
    "    })\n",
    "    print(step1_result)\n",
    "    step2_result = step2_chain.run({\n",
    "        \"translated_sentence\": step1_result,\n",
    "        \"speaker\": speaker,\n",
    "        \"listener\": listener,\n",
    "        \"speaker_gender\": speaker_gender,\n",
    "        \"listener_gender\": listener_gender,\n",
    "        \"speaker_character\": speaker_character,\n",
    "    })\n",
    "    \n",
    "    return step2_result"
   ]
  },
  {
   "cell_type": "code",
   "execution_count": 116,
   "id": "13f78936",
   "metadata": {},
   "outputs": [
    {
     "name": "stdout",
     "output_type": "stream",
     "text": [
      "Jestem najlepszym artystą, czy ty też jesteś dobrym artystą?\n",
      "\"Jestem najlepszym artystą, czy ty też jesteś dobrym artystą?\"\n"
     ]
    }
   ],
   "source": [
    "print(translate_with_two_steps(\n",
    "    speaker=\"Geralt\",\n",
    "    listener=\"Yennefer\",\n",
    "    sentence=\"I am the best artist, are you a good artist too?\"\n",
    "))"
   ]
  },
  {
   "cell_type": "code",
   "execution_count": null,
   "id": "c530dcf7",
   "metadata": {},
   "outputs": [],
   "source": []
  }
 ],
 "metadata": {
  "kernelspec": {
   "display_name": "Python 3",
   "language": "python",
   "name": "python3"
  },
  "language_info": {
   "codemirror_mode": {
    "name": "ipython",
    "version": 3
   },
   "file_extension": ".py",
   "mimetype": "text/x-python",
   "name": "python",
   "nbconvert_exporter": "python",
   "pygments_lexer": "ipython3",
   "version": "3.11.2"
  }
 },
 "nbformat": 4,
 "nbformat_minor": 5
}
