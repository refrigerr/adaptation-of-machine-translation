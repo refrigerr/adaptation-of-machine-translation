{
 "cells": [
  {
   "cell_type": "code",
   "execution_count": 1,
   "id": "41c87c68",
   "metadata": {},
   "outputs": [],
   "source": [
    "from langchain.llms.base import LLM\n",
    "from typing import Optional, List\n",
    "import requests\n",
    "\n",
    "class ClarinChatLLM(LLM):\n",
    "    model_id: str\n",
    "    api_key: str\n",
    "    temperature: float = 0.0\n",
    "\n",
    "    @property\n",
    "    def _llm_type(self) -> str:\n",
    "        return \"clarin-chat\"\n",
    "\n",
    "    def _call(self, prompt: str, stop: Optional[List[str]] = None) -> str:\n",
    "        url = \"https://services.clarin-pl.eu/api/v1/oapi/chat/completions\"\n",
    "        headers = {\n",
    "            \"Authorization\": f\"Bearer {self.api_key}\",\n",
    "            \"Content-Type\": \"application/json\"\n",
    "        }\n",
    "        messages = [{\"role\": \"user\", \"content\": prompt}]\n",
    "        data = {\n",
    "            \"model\": self.model_id,\n",
    "            \"messages\": messages,\n",
    "            \"temperature\": self.temperature\n",
    "        }\n",
    "        response = requests.post(url, json=data, headers=headers)\n",
    "        if response.status_code == 200:\n",
    "            try:\n",
    "                json_data = response.json()\n",
    "                return json_data[\"choices\"][0][\"message\"][\"content\"]\n",
    "            except Exception as e:\n",
    "                print(f\"Invalid response format: {e}\")\n",
    "                return None\n",
    "        else:\n",
    "            print(f\"Request failed with status {response.status_code}: {response.text}\")\n",
    "            return None\n"
   ]
  },
  {
   "cell_type": "code",
   "execution_count": 2,
   "id": "3ddd59b3",
   "metadata": {},
   "outputs": [],
   "source": [
    "with open(\"key.txt\", \"r\") as file:\n",
    "    API_KEY_CLARIN = file.read().strip()"
   ]
  },
  {
   "cell_type": "code",
   "execution_count": 3,
   "id": "fcee7a83",
   "metadata": {},
   "outputs": [],
   "source": [
    "clarin_llm = ClarinChatLLM(\n",
    "    model_id=\"bielik\",\n",
    "    api_key=API_KEY_CLARIN\n",
    ")"
   ]
  },
  {
   "cell_type": "code",
   "execution_count": 4,
   "id": "7704335d",
   "metadata": {},
   "outputs": [],
   "source": [
    "def parse_characters(file_path):\n",
    "    characters = {}\n",
    "    with open(file_path, 'r', encoding='utf-8') as file:\n",
    "        lines = file.readlines()\n",
    "    \n",
    "    current_character = None\n",
    "    for line in lines:\n",
    "        line = line.strip()\n",
    "        if line.startswith(\"Osoba:\"):\n",
    "            current_character = line.split(\":\")[1].strip()\n",
    "            characters[current_character] = {\"gender\": None, \"character\": None}\n",
    "        elif line.startswith(\"płeć:\") and current_character:\n",
    "            characters[current_character][\"gender\"] = line.split(\":\")[1].strip()\n",
    "        elif line.startswith(\"charakter:\") and current_character:\n",
    "            characters[current_character][\"character\"] = line.split(\":\")[1].strip()\n",
    "    \n",
    "    return characters\n",
    "\n",
    "characters_dict = parse_characters(\"example_context.txt\")"
   ]
  },
  {
   "cell_type": "code",
   "execution_count": 5,
   "id": "452ee6f7",
   "metadata": {},
   "outputs": [
    {
     "data": {
      "text/plain": [
       "{'Geralt': {'gender': 'mężczyzna', 'character': None},\n",
       " 'Yennefer': {'gender': 'kobieta', 'character': None},\n",
       " 'Troll': {'gender': 'nijaka',\n",
       "  'character': 'wypowiada się w formie bezosobowej, nie umie odmieniać przez płeć, wypowiada się na poziomie dziecka, mowi \"ja być\" zamiast \"ja jestem\", albo \"ty być\" zamiast \"ty jesteś\"'}}"
      ]
     },
     "execution_count": 5,
     "metadata": {},
     "output_type": "execute_result"
    }
   ],
   "source": [
    "characters_dict"
   ]
  },
  {
   "cell_type": "code",
   "execution_count": 6,
   "id": "b80e6ae9",
   "metadata": {},
   "outputs": [],
   "source": [
    "from langchain.prompts import PromptTemplate\n",
    "\n",
    "translation_prompt = PromptTemplate(\n",
    "    input_variables=[\"speaker\", \"listener\", \"text\", \"speaker_gender\", \"listener_gender\", \"speaker_character\", \"listener_character\"],\n",
    "    template=\"\"\"\n",
    "Twoim zadaniem jest przetłumaczyć wypowiedź z angielskiego na polski, stylizując ją zgodnie z osobowością, płcią i sposobem mówienia postaci.\n",
    "\n",
    "Mówiący: {speaker}\n",
    "Płeć mówiącego: {speaker_gender}\n",
    "Sposób mówienia: {speaker_character}\n",
    "\n",
    "Słuchacz: {listener}\n",
    "Płeć słuchacza: {listener_gender}\n",
    "\n",
    "Zachowaj styl wypowiedzi mówiącego. Jeśli postać mówi w specyficzny sposób, odwzoruj to w tłumaczeniu.\n",
    "\n",
    "Tekst do przetłumaczenia: \"{text}\"\n",
    "\n",
    "Przetłumaczony tekst:\n",
    "\"\"\"\n",
    ")"
   ]
  },
  {
   "cell_type": "code",
   "execution_count": 7,
   "id": "af515886",
   "metadata": {},
   "outputs": [
    {
     "name": "stderr",
     "output_type": "stream",
     "text": [
      "C:\\Users\\kajet\\AppData\\Local\\Temp\\ipykernel_29548\\3155625211.py:2: LangChainDeprecationWarning: The class `LLMChain` was deprecated in LangChain 0.1.17 and will be removed in 1.0. Use :meth:`~RunnableSequence, e.g., `prompt | llm`` instead.\n",
      "  translator_chain = LLMChain(\n"
     ]
    }
   ],
   "source": [
    "from langchain.chains import LLMChain\n",
    "translator_chain = LLMChain(\n",
    "    llm=clarin_llm,  # your wrapped CLARIN LLM\n",
    "    prompt=translation_prompt\n",
    ")"
   ]
  },
  {
   "cell_type": "code",
   "execution_count": 8,
   "id": "f9d7b6b0",
   "metadata": {},
   "outputs": [],
   "source": [
    "def translate_with_context(speaker, listener, text):\n",
    "    # Pobieramy informacje o mówiącym i słuchaczu\n",
    "    speaker_info = characters_dict.get(speaker, {\"gender\": \"nieznana\", \"character\": \"nieznany\"})\n",
    "    listener_info = characters_dict.get(listener, {\"gender\": \"nieznana\"})\n",
    "    \n",
    "    speaker_gender = speaker_info[\"gender\"]\n",
    "    listener_gender = listener_info[\"gender\"]\n",
    "    speaker_character = speaker_info[\"character\"]\n",
    "    \n",
    "    return translator_chain.run({\n",
    "        \"speaker\": speaker,\n",
    "        \"listener\": listener,\n",
    "        \"text\": text,\n",
    "        \"speaker_gender\": speaker_gender,\n",
    "        \"listener_gender\": listener_gender,\n",
    "        \"speaker_character\": speaker_character,\n",
    "    })"
   ]
  },
  {
   "cell_type": "code",
   "execution_count": 9,
   "id": "5a792dcc",
   "metadata": {},
   "outputs": [
    {
     "name": "stderr",
     "output_type": "stream",
     "text": [
      "C:\\Users\\kajet\\AppData\\Local\\Temp\\ipykernel_29548\\2575681274.py:10: LangChainDeprecationWarning: The method `Chain.run` was deprecated in langchain 0.1.0 and will be removed in 1.0. Use :meth:`~invoke` instead.\n",
      "  return translator_chain.run({\n"
     ]
    },
    {
     "name": "stdout",
     "output_type": "stream",
     "text": [
      "Przetłumaczony tekst z uwzględnieniem wskazówek:\n",
      "\n",
      "\"Ja być najlepszym artystą, ty też być dobrym artystą?\"\n",
      "\n",
      "Wypowiedź ta odzwierciedla charakterystyczny sposób mówienia trolla - użycie formy bezosobowej, brak odmiany przez płeć oraz prostota wypowiedzi na poziomie dziecka. Zarówno treść, jak i forma są zgodne z opisanym stylem komunikacji tej postaci.\n"
     ]
    }
   ],
   "source": [
    "print(translate_with_context(\n",
    "    speaker=\"Troll\",\n",
    "    listener=\"Yennefer\",\n",
    "    text=\"I am the best artist, are you a good artist too?\"\n",
    "))\n"
   ]
  },
  {
   "cell_type": "code",
   "execution_count": 10,
   "id": "c05ceea2",
   "metadata": {},
   "outputs": [
    {
     "name": "stdout",
     "output_type": "stream",
     "text": [
      "Oto propozycja tłumaczenia stylizowana na wypowiedź Yennefer:\n",
      "\n",
      "\"Jestem najlepszą artystką, czy ty też jesteś dobrym artystą?\"\n",
      "\n",
      "Yennefer mówi w sposób pewny siebie, ale jednocześnie uprzejmy i nieco prowokacyjny. Używa prostego języka, ale jej ton sugeruje, że oczekuje uznania swoich umiejętności. Pytanie o zdolności rozmówcy może być próbą porównania się lub sprawdzenia jego kompetencji.\n"
     ]
    }
   ],
   "source": [
    "print(translate_with_context(\n",
    "    speaker=\"Yennefer\",\n",
    "    listener=\"Troll\",\n",
    "    text=\"I am the best artist, are you a good artist too?\"\n",
    "))"
   ]
  },
  {
   "cell_type": "code",
   "execution_count": 11,
   "id": "3c57ea26",
   "metadata": {},
   "outputs": [
    {
     "name": "stdout",
     "output_type": "stream",
     "text": [
      "Przetłumaczony tekst stylizowany zgodnie z osobowością Geralta:\n",
      "\n",
      "\"Jestem najlepszym artystą, czy ty też jesteś dobrym artystą?\"\n",
      "\n",
      "Warto zauważyć, że Geralt zazwyczaj nie używa tak bezpośrednich pytań, ale ze względu na brak informacji o jego specyficznym sposobie mówienia, pozostawiłem tłumaczenie w neutralnym tonie. W rzeczywistości Geralt mógłby wyrazić tę myśl w bardziej subtelny lub ironiczny sposób.\n"
     ]
    }
   ],
   "source": [
    "print(translate_with_context(\n",
    "    speaker=\"Geralt\",\n",
    "    listener=\"Troll\",\n",
    "    text=\"I am the best artist, are you a good artist too?\"\n",
    "))"
   ]
  },
  {
   "cell_type": "code",
   "execution_count": 12,
   "id": "75f43698",
   "metadata": {},
   "outputs": [
    {
     "name": "stdout",
     "output_type": "stream",
     "text": [
      "Geralt (mężczyzna):\n",
      "\"Jestem najlepszym artystą, czy ty też jesteś dobrym artystą?\"\n",
      "\n",
      "(Wypowiedź Geralta brzmi prosto i bezpośrednio, z lekkim akcentem na swoje umiejętności, ale nie w sposób arogancki.)\n"
     ]
    }
   ],
   "source": [
    "print(translate_with_context(\n",
    "    speaker=\"Geralt\",\n",
    "    listener=\"Yennefer\",\n",
    "    text=\"I am the best artist, are you a good artist too?\"\n",
    "))"
   ]
  },
  {
   "cell_type": "code",
   "execution_count": 13,
   "id": "cebcce30",
   "metadata": {},
   "outputs": [],
   "source": [
    "translation_step1 = PromptTemplate(\n",
    "    input_variables=[\"sentence\"],\n",
    "    template=\"\"\"\n",
    "Przetłumacz na polski i nie dodawaj żadnych dodatkowych wyjaśnień, napisz tylko samo tłumaczenie: {sentence}\n",
    "\"\"\"\n",
    ")\n",
    "\n",
    "translation_step2 = PromptTemplate(\n",
    "    input_variables=[\"speaker\", \"listener\", \"translated_sentence\", \"speaker_gender\", \"listener_gender\", \"speaker_character\"],\n",
    "    template=\"\"\"\n",
    "\n",
    "zdanie wypowiadane jest przez {speaker_gender} do {listener_gender}\n",
    "\n",
    "Przepisz podane zdanie na polski zgodnie z podanym kotekstem i nie dodawaj żadnych dodatkowych wyjaśnień, napisz tylko samo tłumaczenie: \"{translated_sentence}\"\n",
    "\n",
    "\"\"\"\n",
    ")"
   ]
  },
  {
   "cell_type": "code",
   "execution_count": 14,
   "id": "75729581",
   "metadata": {},
   "outputs": [],
   "source": [
    "step1_chain = LLMChain(llm=clarin_llm, prompt=translation_step1)\n",
    "step2_chain = LLMChain(llm=clarin_llm, prompt=translation_step2)\n",
    "\n",
    "def translate_with_two_steps(speaker, listener, sentence):\n",
    "\n",
    "    speaker_info = characters_dict.get(speaker, {\"gender\": \"nieznana\", \"character\": \"nieznany\"})\n",
    "    listener_info = characters_dict.get(listener, {\"gender\": \"nieznana\"})\n",
    "    \n",
    "    speaker_gender = speaker_info[\"gender\"]\n",
    "    listener_gender = listener_info[\"gender\"]\n",
    "    speaker_character = speaker_info[\"character\"]\n",
    "\n",
    "    step1_result = step1_chain.run({\n",
    "        \"sentence\": sentence\n",
    "    })\n",
    "    print(step1_result)\n",
    "    step2_result = step2_chain.run({\n",
    "        \"translated_sentence\": step1_result,\n",
    "        \"speaker\": speaker,\n",
    "        \"listener\": listener,\n",
    "        \"speaker_gender\": speaker_gender,\n",
    "        \"listener_gender\": listener_gender,\n",
    "        \"speaker_character\": speaker_character,\n",
    "    })\n",
    "    \n",
    "    return step2_result"
   ]
  },
  {
   "cell_type": "code",
   "execution_count": 15,
   "id": "13f78936",
   "metadata": {},
   "outputs": [
    {
     "name": "stdout",
     "output_type": "stream",
     "text": [
      "Jestem najlepszym artystą, czy ty też jesteś dobrym artystą?\n",
      "\"Jestem najlepszym artystą, czy ty też jesteś dobrym artystą?\"\n"
     ]
    }
   ],
   "source": [
    "print(translate_with_two_steps(\n",
    "    speaker=\"Geralt\",\n",
    "    listener=\"Yennefer\",\n",
    "    sentence=\"I am the best artist, are you a good artist too?\"\n",
    "))"
   ]
  },
  {
   "cell_type": "code",
   "execution_count": 34,
   "id": "c530dcf7",
   "metadata": {},
   "outputs": [],
   "source": [
    "explanation_template = PromptTemplate(\n",
    "    input_variables=[\"sentence\", \"speaker_gender\", \"listener_gender\", \"speaker_character\"],\n",
    "    template=\"\"\"\n",
    "Jesteś profesjonalnym tłumaczem z angielskiego na polski.\n",
    "\n",
    "Zdanie do przetłumaczenia: \"{sentence}\"\n",
    "\n",
    "Płeć mówcy: {speaker_gender}\n",
    "Charakter mówcy: {speaker_character}\n",
    "\n",
    "Płeć słuchacza: {listener_gender}\n",
    "\n",
    "Przeanalizuj zdanie pod kątem gramatycznym i semantycznym. \n",
    "Uwzględnij kontekst wypowiedzi, czyli jakiej płci jest mówca, jakiej płci jest słuchacz oraz czy mówca wypowiada się w charakterystyczny sposób.\n",
    "Potem wytłumacz jak każda część zdania przekłada się na polską wersję (np. czas, kolejność słów, składnia) uwzględniając kontekst.\n",
    "Na końcu podaj tłumaczenie zdania na polski.\n",
    "\n",
    "\"\"\"\n",
    ")"
   ]
  },
  {
   "cell_type": "code",
   "execution_count": 35,
   "id": "6621acdc",
   "metadata": {},
   "outputs": [],
   "source": [
    "explanation_translation_chain = LLMChain(llm=clarin_llm, prompt=explanation_template)"
   ]
  },
  {
   "cell_type": "code",
   "execution_count": 36,
   "id": "32114825",
   "metadata": {},
   "outputs": [
    {
     "name": "stdout",
     "output_type": "stream",
     "text": [
      "Analiza zdania \"I am the best artist, are you a good artist too?\" pod kątem gramatycznym i semantycznym, uwzględniając kontekst wypowiedzi:\n",
      "\n",
      "1. Płeć mówcy: mężczyzna\n",
      "2. Charakter mówcy: wypowiada się w formie bezosobowej, nie umie odmieniać przez płeć, używa prostego języka na poziomie dziecka, stosuje \"ja być\" zamiast \"ja jestem\", oraz \"ty być\" zamiast \"ty jesteś\".\n",
      "3. Płeć słuchacza: kobieta\n",
      "\n",
      "### Analiza gramatyczna:\n",
      "- Czasownik \"am\" w pierwszej osobie liczby pojedynczej czasu teraźniejszego (\"I am\") oznacza \"jestem\".\n",
      "- Czasownik \"are\" w drugiej osobie liczby pojedynczej czasu teraźniejszego (\"are you\") oznacza \"jesteś\".\n",
      "- Rzeczownik \"artist\" oznacza \"artystę\" lub \"artystkę\".\n",
      "- Przymiotnik \"good\" oznacza \"dobry\" lub \"dobra\".\n",
      "- Przymiotnik \"best\" oznacza \"najlepszy\" lub \"najlepsza\".\n",
      "\n",
      "### Analiza semantyczna:\n",
      "- Mówca twierdzi, że jest najlepszym artystą.\n",
      "- Następnie pyta słuchaczkę, czy ona również jest dobrym artystą.\n",
      "\n",
      "### Kontekst wypowiedzi:\n",
      "- Mówca to mężczyzna, który wypowiada się w prosty sposób, typowy dla dziecka.\n",
      "- Słuchaczka to kobieta.\n",
      "- Mówca używa formy \"ja być\" zamiast \"ja jestem\" oraz \"ty być\" zamiast \"ty jesteś\".\n",
      "\n",
      "### Tłumaczenie zdania na polski:\n",
      "\n",
      "\"Ja być najlepszy artysta, ty być dobra artystka też?\"\n",
      "\n",
      "Wyjaśnienie poszczególnych części tłumaczenia:\n",
      "- \"Ja być\" - Użycie formy \"być\" zamiast \"jestem\" wynika z charakterystycznego sposobu wypowiadania się mówcy.\n",
      "- \"najlepszy artysta\" - Przymiotnik \"najlepszy\" jest użyty w rodzaju męskim, ponieważ mówca jest mężczyzną.\n",
      "- \"ty być\" - Podobnie jak w przypadku \"ja być\", forma \"być\" zamiast \"jesteś\" wynika z charakterystycznego sposobu wypowiadania się mówcy.\n",
      "- \"dobra artystka\" - Przymiotnik \"dobra\" jest użyty w rodzaju żeńskim, ponieważ słuchaczka jest kobietą.\n",
      "- \"też\" - Dodane na końcu zdania, aby wyrazić pytanie retoryczne.\n",
      "\n",
      "Całe zdanie brzmi: \"Ja być najlepszy artysta, ty być dobra artystka też?\"\n"
     ]
    }
   ],
   "source": [
    "english_input = \"I am the best artist, are you a good artist too?\"\n",
    "\n",
    "response = explanation_translation_chain.run(sentence=english_input, speaker_gender=\"mężczyzna\", listener_gender=\"kobieta\", \n",
    "                                             speaker_character=\"wypowiada się w formie bezosobowej, nie umie odmieniać przez płeć, wypowiada się na poziomie dziecka, mowi 'ja być' zamiast 'ja jestem', albo 'ty być' zamiast 'ty jesteś'\")\n",
    "print(response)"
   ]
  },
  {
   "cell_type": "code",
   "execution_count": 39,
   "id": "de3c53e6",
   "metadata": {},
   "outputs": [
    {
     "name": "stdout",
     "output_type": "stream",
     "text": [
      "### Analiza Zdania\n",
      "\n",
      "**Zdanie oryginalne:** \"You're funny Jane but it'll cost you. Scratch my back, I'll scratch yours.\"\n",
      "\n",
      "**Płeć mówcy:** Kobieta\n",
      "**Charakter mówcy:** Brak charakterystyki\n",
      "**Płeć słuchacza:** Mężczyzna\n",
      "\n",
      "### Tłumaczenie i Analiza\n",
      "\n",
      "1. **Czasownik \"you're\"**: W języku polskim używamy formy \"jesteś\", która odnosi się do drugiej osoby liczby pojedynczej.\n",
      "2. **Imię \"Jane\"**: Imiona pozostają bez zmian w tłumaczeniu.\n",
      "3. **Przymiotnik \"funny\"**: Przymiotnik \"zabawny\" pasuje do kontekstu.\n",
      "4. **\"but it'll cost you\"**: To wyrażenie można przetłumaczyć jako \"ale to cię będzie kosztować\".\n",
      "5. **\"Scratch my back, I'll scratch yours\"**: To idiomatyczne wyrażenie oznacza \"jeśli ty mi pomożesz, ja pomogę tobie\". W języku polskim możemy powiedzieć \"Jeśli ty mi pomożesz, ja też ci pomogę\".\n",
      "\n",
      "### Kontekst\n",
      "\n",
      "- Płeć mówcy: Kobieta\n",
      "- Charakter mówcy: Brak charakterystyki\n",
      "- Płeć słuchacza: Mężczyzna\n",
      "\n",
      "Kontekst sugeruje, że mówczyni (kobieta) rozmawia z mężczyzną, ale nie ma żadnych specjalnych cech charakterystycznych dla jej stylu mówienia.\n",
      "\n",
      "### Tłumaczenie\n",
      "\n",
      "Biorąc pod uwagę wszystkie elementy, tłumaczenie zdania na polski brzmi:\n",
      "\n",
      "\"Jesteś zabawna, Jane, ale to cię będzie kosztować. Jeśli ty mi pomożesz, ja też ci pomogę.\"\n",
      "\n",
      "To tłumaczenie oddaje znaczenie oryginalnego zdania, uwzględniając kontekst płciowy i brak charakterystycznego stylu mówienia.\n"
     ]
    }
   ],
   "source": [
    "english_input = \"You're funny Jane but it'll cost you. Scratch my back, I'll scratch yours.\"\n",
    "\n",
    "response = explanation_translation_chain.run(sentence=english_input, speaker_gender=\"Kobieta\", listener_gender=\"mężczyzna\", \n",
    "                                             speaker_character=None)\n",
    "print(response)"
   ]
  },
  {
   "cell_type": "code",
   "execution_count": 40,
   "id": "5b33947e",
   "metadata": {},
   "outputs": [],
   "source": [
    "check_template = PromptTemplate(\n",
    "    input_variables=[\"response\" \"speaker_gender\", \"listener_gender\", \"speaker_character\"],\n",
    "    template=\"\"\"\n",
    "Jesteś profesjonalnym tłumaczem z angielskiego na polski.\n",
    "\n",
    "Płeć mówcy: {speaker_gender}\n",
    "Charakter mówcy: {speaker_character}\n",
    "\n",
    "Płeć słuchacza: {listener_gender}\n",
    "\n",
    "analiza: {response}\n",
    "\n",
    "Przeanalizuj rozumowanie tłumaczenia. Sprawdź czy zdanie zostało odpowiednio przetłumaczone uwzględniając kontekst wypowiedzi, czyli jakiej płci jest mówca, jakiej płci jest słuchacz oraz czy mówca wypowiada się w charakterystyczny sposób.\n",
    "Jeżeli uważasz, że tłumaczenie jest błędne, podaj poprawną wersję zdania w języku polskim.\n",
    "\"\"\"\n",
    ")"
   ]
  },
  {
   "cell_type": "code",
   "execution_count": 41,
   "id": "b4b2a510",
   "metadata": {},
   "outputs": [],
   "source": [
    "explanation_translation_chain = LLMChain(llm=clarin_llm, prompt=check_template)"
   ]
  },
  {
   "cell_type": "code",
   "execution_count": 42,
   "id": "5330d110",
   "metadata": {},
   "outputs": [
    {
     "name": "stdout",
     "output_type": "stream",
     "text": [
      "Analiza tłumaczenia:\n",
      "\n",
      "1. Czasownik \"you're\": Poprawnie przetłumaczony jako \"jesteś\".\n",
      "2. Imię \"Jane\": Słusznie pozostawione bez zmian.\n",
      "3. Przymiotnik \"funny\": Dobrze przetłumaczony jako \"zabawna\".\n",
      "4. Wyrażenie \"but it'll cost you\": Poprawnie przetłumaczone jako \"ale to cię będzie kosztować\".\n",
      "5. Idiom \"Scratch my back, I'll scratch yours\": Dobre tłumaczenie jako \"Jeśli ty mi pomożesz, ja też ci pomogę\".\n",
      "\n",
      "Kontekst:\n",
      "- Płeć mówcy: Kobieta\n",
      "- Charakter mówcy: Brak charakterystyki\n",
      "- Płeć słuchacza: Mężczyzna\n",
      "\n",
      "Tłumaczenie jest poprawne i uwzględnia wszystkie aspekty kontekstowe:\n",
      "- Użycie formy \"jesteś\" odpowiedniej dla drugiej osoby liczby pojedynczej.\n",
      "- Zachowanie imienia \"Jane\" bez zmian.\n",
      "- Oddanie znaczenia idiomu \"Scratch my back, I'll scratch yours\".\n",
      "- Brak charakterystycznego stylu mówienia ze strony kobiety.\n",
      "\n",
      "Podsumowując, tłumaczenie \"Jesteś zabawna, Jane, ale to cię będzie kosztować. Jeśli ty mi pomożesz, ja też ci pomogę.\" jest poprawne i odpowiednio oddaje znaczenie oryginalnego zdania w kontekście płciowym i braku charakterystycznego stylu mówienia.\n"
     ]
    }
   ],
   "source": [
    "response2 = explanation_translation_chain.run(response=response, speaker_gender=\"Kobieta\", listener_gender=\"mężczyzna\", \n",
    "                                             speaker_character=None)\n",
    "print(response2)"
   ]
  },
  {
   "cell_type": "code",
   "execution_count": 50,
   "id": "1397cca0",
   "metadata": {},
   "outputs": [],
   "source": [
    "check_template2 = PromptTemplate(\n",
    "    input_variables=[\"response\" \"speaker_gender\", \"listener_gender\", \"speaker_character\"],\n",
    "    template=\"\"\"\n",
    "Jesteś profesjonalnym tłumaczem z angielskiego na polski.\n",
    "\n",
    "Płeć mówcy: {speaker_gender}\n",
    "Charakter mówcy: {speaker_character}\n",
    "\n",
    "Płeć odbiorcy: {listener_gender}\n",
    "\n",
    "analiza: {response}\n",
    "\n",
    "Czy skoro sluchacz jest mezczyzna, to czy nie powinno być jestes zabawny, jane? skoro odbiorca jest mezczyzna to znaczy ze jane to mezczyzna a wiec powinno byc jestes zabawany jane\n",
    "\"\"\"\n",
    ")"
   ]
  },
  {
   "cell_type": "code",
   "execution_count": 51,
   "id": "ca74654f",
   "metadata": {},
   "outputs": [],
   "source": [
    "explanation_translation_chain2 = LLMChain(llm=clarin_llm, prompt=check_template2)"
   ]
  },
  {
   "cell_type": "code",
   "execution_count": 52,
   "id": "77371da9",
   "metadata": {},
   "outputs": [
    {
     "name": "stdout",
     "output_type": "stream",
     "text": [
      "Dziękuję za przedstawienie analizy tłumaczenia oraz dodatkowego pytania dotyczącego użycia odpowiednich form gramatycznych w zależności od płci odbiorcy.\n",
      "\n",
      "W tym przypadku, fakt że odbiorca jest mężczyzną, nie wpływa na tłumaczenie imienia \"Jane\", ponieważ \"Jane\" jest imieniem żeńskim i tak zostało użyte w oryginalnym zdaniu. Zatem tłumaczenie \"Jesteś zabawna, Jane\" jest poprawne i odzwierciedla płeć osoby wypowiadającej się (kobieta) oraz adresata (mężczyzna).\n",
      "\n",
      "Imiona własne, takie jak \"Jane\", są zazwyczaj tłumaczone dosłownie, nawet jeśli ich forma gramatyczna różni się w zależności od płci odbiorcy. W języku polskim, podobnie jak w wielu innych językach, imiona własne nie zmieniają swojej formy w zależności od płci rozmówcy.\n",
      "\n",
      "Zatem, tłumaczenie \"Jesteś zabawna, Jane\" jest poprawne i odpowiednie w tym kontekście, niezależnie od płci odbiorcy.\n"
     ]
    }
   ],
   "source": [
    "response3 = explanation_translation_chain2.run(response=response2, speaker_gender=\"Kobieta\", listener_gender=\"mężczyzna\", \n",
    "                                             speaker_character=None)\n",
    "print(response3)"
   ]
  },
  {
   "cell_type": "markdown",
   "id": "8ebee133",
   "metadata": {},
   "source": [
    "Agent"
   ]
  },
  {
   "cell_type": "code",
   "execution_count": 61,
   "id": "9df3675a",
   "metadata": {},
   "outputs": [],
   "source": [
    "from langchain.vectorstores import FAISS\n",
    "from langchain_community.embeddings import HuggingFaceEmbeddings\n",
    "from langchain.docstore.document import Document"
   ]
  },
  {
   "cell_type": "code",
   "execution_count": 59,
   "id": "af2f8c62",
   "metadata": {},
   "outputs": [
    {
     "data": {
      "application/vnd.jupyter.widget-view+json": {
       "model_id": "4a00e2f85bbd441e91661246bb26399a",
       "version_major": 2,
       "version_minor": 0
      },
      "text/plain": [
       "modules.json:   0%|          | 0.00/229 [00:00<?, ?B/s]"
      ]
     },
     "metadata": {},
     "output_type": "display_data"
    },
    {
     "name": "stderr",
     "output_type": "stream",
     "text": [
      "c:\\Users\\kajet\\AppData\\Local\\Programs\\Python\\Python311\\Lib\\site-packages\\huggingface_hub\\file_download.py:139: UserWarning: `huggingface_hub` cache-system uses symlinks by default to efficiently store duplicated files but your machine does not support them in C:\\Users\\kajet\\.cache\\huggingface\\hub\\models--sentence-transformers--paraphrase-multilingual-MiniLM-L12-v2. Caching files will still work but in a degraded version that might require more space on your disk. This warning can be disabled by setting the `HF_HUB_DISABLE_SYMLINKS_WARNING` environment variable. For more details, see https://huggingface.co/docs/huggingface_hub/how-to-cache#limitations.\n",
      "To support symlinks on Windows, you either need to activate Developer Mode or to run Python as an administrator. In order to activate developer mode, see this article: https://docs.microsoft.com/en-us/windows/apps/get-started/enable-your-device-for-development\n",
      "  warnings.warn(message)\n"
     ]
    },
    {
     "data": {
      "application/vnd.jupyter.widget-view+json": {
       "model_id": "4f7c0e69569747bc844ecfecd93adf52",
       "version_major": 2,
       "version_minor": 0
      },
      "text/plain": [
       "config_sentence_transformers.json:   0%|          | 0.00/122 [00:00<?, ?B/s]"
      ]
     },
     "metadata": {},
     "output_type": "display_data"
    },
    {
     "data": {
      "application/vnd.jupyter.widget-view+json": {
       "model_id": "2f031c97b3c34303a94b646f918f9e87",
       "version_major": 2,
       "version_minor": 0
      },
      "text/plain": [
       "README.md:   0%|          | 0.00/3.89k [00:00<?, ?B/s]"
      ]
     },
     "metadata": {},
     "output_type": "display_data"
    },
    {
     "data": {
      "application/vnd.jupyter.widget-view+json": {
       "model_id": "0800a62974b44ee388509e91fe12a02f",
       "version_major": 2,
       "version_minor": 0
      },
      "text/plain": [
       "sentence_bert_config.json:   0%|          | 0.00/53.0 [00:00<?, ?B/s]"
      ]
     },
     "metadata": {},
     "output_type": "display_data"
    },
    {
     "data": {
      "application/vnd.jupyter.widget-view+json": {
       "model_id": "10f5108e5d144ec8b9bb28d50b3aa22a",
       "version_major": 2,
       "version_minor": 0
      },
      "text/plain": [
       "config.json:   0%|          | 0.00/645 [00:00<?, ?B/s]"
      ]
     },
     "metadata": {},
     "output_type": "display_data"
    },
    {
     "data": {
      "application/vnd.jupyter.widget-view+json": {
       "model_id": "4cec95de866b45e6b912d5f939fe8b1c",
       "version_major": 2,
       "version_minor": 0
      },
      "text/plain": [
       "model.safetensors:   0%|          | 0.00/471M [00:00<?, ?B/s]"
      ]
     },
     "metadata": {},
     "output_type": "display_data"
    },
    {
     "data": {
      "application/vnd.jupyter.widget-view+json": {
       "model_id": "2ef65b26d0424df28fcd92f5795bb400",
       "version_major": 2,
       "version_minor": 0
      },
      "text/plain": [
       "tokenizer_config.json:   0%|          | 0.00/480 [00:00<?, ?B/s]"
      ]
     },
     "metadata": {},
     "output_type": "display_data"
    },
    {
     "data": {
      "application/vnd.jupyter.widget-view+json": {
       "model_id": "143bc5ec7a8148d08a7d7f5f66e101a7",
       "version_major": 2,
       "version_minor": 0
      },
      "text/plain": [
       "tokenizer.json:   0%|          | 0.00/9.08M [00:00<?, ?B/s]"
      ]
     },
     "metadata": {},
     "output_type": "display_data"
    },
    {
     "data": {
      "application/vnd.jupyter.widget-view+json": {
       "model_id": "15ba99e731a04ddda0824262a536afac",
       "version_major": 2,
       "version_minor": 0
      },
      "text/plain": [
       "special_tokens_map.json:   0%|          | 0.00/239 [00:00<?, ?B/s]"
      ]
     },
     "metadata": {},
     "output_type": "display_data"
    },
    {
     "data": {
      "application/vnd.jupyter.widget-view+json": {
       "model_id": "e3928372c13d4156a36f414212cbdc34",
       "version_major": 2,
       "version_minor": 0
      },
      "text/plain": [
       "config.json:   0%|          | 0.00/190 [00:00<?, ?B/s]"
      ]
     },
     "metadata": {},
     "output_type": "display_data"
    }
   ],
   "source": [
    "embedding = HuggingFaceEmbeddings(\n",
    "    model_name=\"sentence-transformers/paraphrase-multilingual-MiniLM-L12-v2\"\n",
    ")"
   ]
  },
  {
   "cell_type": "code",
   "execution_count": 65,
   "id": "ec164cab",
   "metadata": {},
   "outputs": [],
   "source": [
    "def load_gender_examples_faiss(path: str):\n",
    "    docs = []\n",
    "    with open(path, 'r', encoding='utf-8') as f:\n",
    "        raw = f.read().strip()\n",
    "        blocks = raw.split(\"\\n\\n\")  # oddzielenie przykładów\n",
    "\n",
    "        for block in blocks:\n",
    "            lines = block.strip().split(\"\\n\")\n",
    "            if len(lines) < 4:\n",
    "                continue  # pomiń niekompletne\n",
    "\n",
    "            # Wydobycie danych\n",
    "            speaker_line = next((l for l in lines if l.startswith(\"Mówca:\")), None)\n",
    "            listener_line = next((l for l in lines if l.startswith(\"Słuchacz:\")), None)\n",
    "            english_line = next((l for l in lines if l.startswith(\"Angielski:\")), None)\n",
    "            polish_line = next((l for l in lines if l.startswith(\"Polski:\")), None)\n",
    "\n",
    "            if not all([speaker_line, listener_line, english_line, polish_line]):\n",
    "                continue  # pomiń błędne bloki\n",
    "\n",
    "            speaker = speaker_line.replace(\"Mówca:\", \"\").strip()\n",
    "            listener = listener_line.replace(\"Słuchacz:\", \"\").strip()\n",
    "            en = english_line.replace(\"Angielski:\", \"\").strip()\n",
    "            pl = polish_line.replace(\"Polski:\", \"\").strip()\n",
    "\n",
    "            # Zbuduj treść dokumentu\n",
    "            content = f\"Mówca: {speaker}\\nSłuchacz: {listener}\\nAngielski: {en}\\nPolski: {pl}\"\n",
    "\n",
    "            # Dodaj do dokumentów\n",
    "            docs.append(Document(page_content=content, metadata={\"en\": en, \"speaker\": speaker, \"listener\": listener}))\n",
    "    \n",
    "    return docs"
   ]
  },
  {
   "cell_type": "code",
   "execution_count": 66,
   "id": "a201893b",
   "metadata": {},
   "outputs": [],
   "source": [
    "examples = load_gender_examples_faiss(\"examples/gender_examples.txt\")\n",
    "vectorstore = FAISS.from_documents(examples, embedding)"
   ]
  },
  {
   "cell_type": "code",
   "execution_count": 67,
   "id": "b948a987",
   "metadata": {},
   "outputs": [
    {
     "data": {
      "text/plain": [
       "[Document(metadata={'en': 'I am the best artist, are you a good artist?', 'speaker': 'mężczyzna', 'listener': 'kobieta'}, page_content='Mówca: mężczyzna\\nSłuchacz: kobieta\\nAngielski: I am the best artist, are you a good artist?\\nPolski: Jestem najlepszym artystą, czy ty jesteś dobrą artystką?'),\n",
       " Document(metadata={'en': 'I am the best artist, are you a good artist?', 'speaker': 'kobieta', 'listener': 'mężczyzna'}, page_content='Mówca: kobieta\\nSłuchacz: mężczyzna\\nAngielski: I am the best artist, are you a good artist?\\nPolski: Jestem najlepszą artystką, czy ty jesteś dobrym artystą?'),\n",
       " Document(metadata={'en': 'I am the best artist, are you a good artist?', 'speaker': 'mężczyzna', 'listener': 'mężczyzna'}, page_content='Mówca: mężczyzna\\nSłuchacz: mężczyzna\\nAngielski: I am the best artist, are you a good artist?\\nPolski: Jestem najlepszym artystą, czy ty jesteś dobrym artystą?'),\n",
       " Document(metadata={'en': 'I am the best artist, are you a good artist?', 'speaker': 'kobieta', 'listener': 'kobieta'}, page_content='Mówca: kobieta\\nSłuchacz: kobieta\\nAngielski: I am the best artist, are you a good artist?\\nPolski: Jestem najlepszą artystką, czy ty jesteś dobrą artystką?'),\n",
       " Document(metadata={'en': 'I almost killed him, and what did you do?', 'speaker': 'mężczyzna', 'listener': 'mężczyzna'}, page_content='Mówca: mężczyzna\\nSłuchacz: mężczyzna\\nAngielski: I almost killed him, and what did you do?\\nPolski: Prawie go zabiłem, a ty co zrobiłeś?'),\n",
       " Document(metadata={'en': 'I almost killed him, and what did you do?', 'speaker': 'mężczyzna', 'listener': 'kobieta'}, page_content='Mówca: mężczyzna\\nSłuchacz: kobieta\\nAngielski: I almost killed him, and what did you do?\\nPolski: Prawie go zabiłem, a ty co zrobiłaś?'),\n",
       " Document(metadata={'en': 'I almost killed him, and what did you do?', 'speaker': 'kobieta', 'listener': 'mężczyzna'}, page_content='Mówca: kobieta\\nSłuchacz: mężczyzna\\nAngielski: I almost killed him, and what did you do?\\nPolski: Prawie go zabiłam, a ty co zrobiłeś?'),\n",
       " Document(metadata={'en': 'I almost killed him, and what did you do?', 'speaker': 'kobieta', 'listener': 'kobieta'}, page_content='Mówca: kobieta\\nSłuchacz: kobieta\\nAngielski: I almost killed him, and what did you do?\\nPolski: Prawie go zabiłam, a ty co zrobiłaś?'),\n",
       " Document(metadata={'en': \"I wanted to paint my walls but you didn't borrow me paint\", 'speaker': 'kobieta', 'listener': 'kobieta'}, page_content=\"Mówca: kobieta\\nSłuchacz: kobieta\\nAngielski: I wanted to paint my walls but you didn't borrow me paint\\nPolski: Chciałam pomalować moje ściany ale nie pożyczyłaś mi farby\"),\n",
       " Document(metadata={'en': \"I wanted to paint my walls but you didn't borrow me paint\", 'speaker': 'kobieta', 'listener': 'mężczyzna'}, page_content=\"Mówca: kobieta\\nSłuchacz: mężczyzna\\nAngielski: I wanted to paint my walls but you didn't borrow me paint\\nPolski: Chciałam pomalować moje ściany ale nie pożyczyłeś mi farby\"),\n",
       " Document(metadata={'en': \"I wanted to paint my walls but you didn't borrow me paint\", 'speaker': 'mężczyzna', 'listener': 'kobieta'}, page_content=\"Mówca: mężczyzna\\nSłuchacz: kobieta\\nAngielski: I wanted to paint my walls but you didn't borrow me paint\\nPolski: Chciałem pomalować moje ściany ale nie pożyczyłaś mi farby\"),\n",
       " Document(metadata={'en': \"I wanted to paint my walls but you didn't borrow me paint\", 'speaker': 'mężczyzna', 'listener': 'mężczyzna'}, page_content=\"Mówca: mężczyzna\\nSłuchacz: mężczyzna\\nAngielski: I wanted to paint my walls but you didn't borrow me paint\\nPolski: Chciałem pomalować moje ściany ale nie pożyczyłeś mi farby\"),\n",
       " Document(metadata={'en': 'You cheated on me, now I am sad', 'speaker': 'kobieta', 'listener': 'mężczyzna'}, page_content='Mówca: kobieta\\nSłuchacz: mężczyzna\\nAngielski: You cheated on me, now I am sad\\nPolski: Zdradziłeś mnie, teraz jestem smutna'),\n",
       " Document(metadata={'en': 'You cheated on me, now I am sad', 'speaker': 'mężczyzna', 'listener': 'mężczyzna'}, page_content='Mówca: mężczyzna\\nSłuchacz: mężczyzna\\nAngielski: You cheated on me, now I am sad\\nPolski: Zdradziłeś mnie, teraz jestem smutny'),\n",
       " Document(metadata={'en': 'You cheated on me, now I am sad', 'speaker': 'mężczyzna', 'listener': 'kobieta'}, page_content='Mówca: mężczyzna\\nSłuchacz: kobieta\\nAngielski: You cheated on me, now I am sad\\nPolski: Zdradziłaś mnie, teraz jestem smutny'),\n",
       " Document(metadata={'en': 'You cheated on me, now I am sad', 'speaker': 'kobieta', 'listener': 'kobieta'}, page_content='Mówca: kobieta\\nSłuchacz: kobieta\\nAngielski: You cheated on me, now I am sad\\nPolski: Zdradziłaś mnie, teraz jestem smutna')]"
      ]
     },
     "execution_count": 67,
     "metadata": {},
     "output_type": "execute_result"
    }
   ],
   "source": [
    "examples"
   ]
  },
  {
   "cell_type": "code",
   "execution_count": 70,
   "id": "a5c650bf",
   "metadata": {},
   "outputs": [],
   "source": [
    "def search_similar_gender_examples(speaker_gender: str, listener_gender: str, k=3) -> str:\n",
    "    # Tworzymy zapytanie zawierające płeć mówiącego i słuchającego\n",
    "    query_with_genders = f\"Mówca: {speaker_gender} \\nSłuchacz: {listener_gender}\"\n",
    "    \n",
    "    # Wyszukiwanie podobnych przykładów w FAISS\n",
    "    results = vectorstore.similarity_search(query_with_genders, k=k)\n",
    "    \n",
    "    # Zwracamy podobne dokumenty (tłumaczenia) w formacie tekstowym\n",
    "    return \"\\n\\n\".join([doc.page_content for doc in results])"
   ]
  },
  {
   "cell_type": "code",
   "execution_count": 73,
   "id": "48b37888",
   "metadata": {},
   "outputs": [
    {
     "name": "stdout",
     "output_type": "stream",
     "text": [
      "Mówca: kobieta\n",
      "Słuchacz: mężczyzna\n",
      "Angielski: You cheated on me, now I am sad\n",
      "Polski: Zdradziłeś mnie, teraz jestem smutna\n",
      "\n",
      "Mówca: kobieta\n",
      "Słuchacz: kobieta\n",
      "Angielski: You cheated on me, now I am sad\n",
      "Polski: Zdradziłaś mnie, teraz jestem smutna\n",
      "\n",
      "Mówca: mężczyzna\n",
      "Słuchacz: mężczyzna\n",
      "Angielski: You cheated on me, now I am sad\n",
      "Polski: Zdradziłeś mnie, teraz jestem smutny\n"
     ]
    }
   ],
   "source": [
    "print(search_similar_gender_examples(speaker_gender=\"mężczyzna\", listener_gender=\"kobieta\", k=3))"
   ]
  },
  {
   "cell_type": "code",
   "execution_count": 74,
   "id": "80f7dd6a",
   "metadata": {},
   "outputs": [],
   "source": [
    "import random"
   ]
  },
  {
   "cell_type": "code",
   "execution_count": 93,
   "id": "a6c32610",
   "metadata": {},
   "outputs": [],
   "source": [
    "def load_examples(path: str):\n",
    "    # Load all examples from the file\n",
    "    examples = []\n",
    "    with open(path, 'r', encoding='utf-8') as f:\n",
    "        raw = f.read().strip()\n",
    "        blocks = raw.split(\"\\n\\n\")  # separate examples by empty lines\n",
    "\n",
    "        for block in blocks:\n",
    "            lines = block.strip().split(\"\\n\")\n",
    "            if len(lines) < 4:\n",
    "                continue  # skip incomplete examples\n",
    "\n",
    "            speaker_line = next((l for l in lines if l.startswith(\"Mówca:\")), None)\n",
    "            listener_line = next((l for l in lines if l.startswith(\"Słuchacz:\")), None)\n",
    "            english_line = next((l for l in lines if l.startswith(\"Angielski:\")), None)\n",
    "            polish_line = next((l for l in lines if l.startswith(\"Polski:\")), None)\n",
    "\n",
    "            if not all([speaker_line, listener_line, english_line, polish_line]):\n",
    "                continue  # skip if any of the required lines are missing\n",
    "\n",
    "            speaker = speaker_line.replace(\"Mówca:\", \"\").strip()\n",
    "            listener = listener_line.replace(\"Słuchacz:\", \"\").strip()\n",
    "            en = english_line.replace(\"Angielski:\", \"\").strip()\n",
    "            pl = polish_line.replace(\"Polski:\", \"\").strip()\n",
    "\n",
    "            # Store the example with gender information\n",
    "            examples.append({\n",
    "                'Mówca': speaker,\n",
    "                'Słuchacz': listener,\n",
    "                'Angielski': en,\n",
    "                'Polski': pl,\n",
    "                \n",
    "            })\n",
    "\n",
    "    return examples"
   ]
  },
  {
   "cell_type": "code",
   "execution_count": 96,
   "id": "bbf253d1",
   "metadata": {},
   "outputs": [],
   "source": [
    "def get_random_examples_with_genders(examples, speaker_gender: str, listener_gender: str, num_examples: int):\n",
    "    # Filter the examples based on the specified genders\n",
    "    filtered_examples = [ex for ex in examples if ex['Mówca'] == speaker_gender and ex['Słuchacz'] == listener_gender]\n",
    "\n",
    "    # If there are fewer examples than requested, return as many as we can\n",
    "    if len(filtered_examples) < num_examples:\n",
    "        print(f\"Not enough examples, returning {len(filtered_examples)} examples.\")\n",
    "        num_examples = len(filtered_examples)\n",
    "\n",
    "    # Randomly select the specified number of examples\n",
    "    selected_examples = random.sample(filtered_examples, num_examples)\n",
    "\n",
    "    return selected_examples"
   ]
  },
  {
   "cell_type": "code",
   "execution_count": 98,
   "id": "bbe88d3f",
   "metadata": {},
   "outputs": [
    {
     "data": {
      "text/plain": [
       "[{'Mówca': 'mężczyzna',\n",
       "  'Słuchacz': 'kobieta',\n",
       "  'Angielski': 'I almost killed him, and what did you do?',\n",
       "  'Polski': 'Prawie go zabiłem, a ty co zrobiłaś?'},\n",
       " {'Mówca': 'mężczyzna',\n",
       "  'Słuchacz': 'kobieta',\n",
       "  'Angielski': 'You cheated on me, now I am sad',\n",
       "  'Polski': 'Zdradziłaś mnie, teraz jestem smutny'},\n",
       " {'Mówca': 'mężczyzna',\n",
       "  'Słuchacz': 'kobieta',\n",
       "  'Angielski': \"I wanted to paint my walls but you didn't borrow me paint\",\n",
       "  'Polski': 'Chciałem pomalować moje ściany ale nie pożyczyłaś mi farby'}]"
      ]
     },
     "execution_count": 98,
     "metadata": {},
     "output_type": "execute_result"
    }
   ],
   "source": [
    "examples = load_examples('examples/gender_examples.txt')\n",
    "\n",
    "# Get 3 random examples where the speaker is male and the listener is female\n",
    "random_examples = get_random_examples_with_genders(examples, speaker_gender=\"mężczyzna\", listener_gender=\"kobieta\", num_examples=3)\n",
    "random_examples"
   ]
  },
  {
   "cell_type": "code",
   "execution_count": 99,
   "id": "5a029492",
   "metadata": {},
   "outputs": [],
   "source": [
    "explanation_template_with_examples = PromptTemplate(\n",
    "    input_variables=[\"sentence\", \"speaker_gender\", \"listener_gender\", \"speaker_character\", \"examples\"],\n",
    "    template=\"\"\"\n",
    "Jesteś profesjonalnym tłumaczem z angielskiego na polski.\n",
    "\n",
    "Zdanie do przetłumaczenia: \"{sentence}\"\n",
    "\n",
    "Płeć mówcy: {speaker_gender}\n",
    "Charakter mówcy: {speaker_character}\n",
    "\n",
    "Płeć słuchacza: {listener_gender}\n",
    "\n",
    "Przykłady podobnych tłumaczeń:\n",
    "{examples}\n",
    "\n",
    "Przeanalizuj zdanie pod kątem gramatycznym i semantycznym. \n",
    "Uwzględnij kontekst wypowiedzi, czyli jakiej płci jest mówca, jakiej płci jest słuchacz oraz czy mówca wypowiada się w charakterystyczny sposób.\n",
    "Potem wytłumacz jak każda część zdania przekłada się na polską wersję uwzględniając kontekst.\n",
    "Na końcu podaj tłumaczenie zdania na polski.\n",
    "\n",
    "\"\"\"\n",
    ")"
   ]
  },
  {
   "cell_type": "code",
   "execution_count": 100,
   "id": "869148ab",
   "metadata": {},
   "outputs": [],
   "source": [
    "explanation_translation_with_examples_chain = LLMChain(llm=clarin_llm, prompt=explanation_template_with_examples)"
   ]
  },
  {
   "cell_type": "code",
   "execution_count": 101,
   "id": "e3e8b721",
   "metadata": {},
   "outputs": [
    {
     "data": {
      "text/plain": [
       "[{'Mówca': 'kobieta',\n",
       "  'Słuchacz': 'mężczyzna',\n",
       "  'Angielski': 'I am the best artist, are you a good artist?',\n",
       "  'Polski': 'Jestem najlepszą artystką, czy ty jesteś dobrym artystą?'},\n",
       " {'Mówca': 'kobieta',\n",
       "  'Słuchacz': 'mężczyzna',\n",
       "  'Angielski': \"I wanted to paint my walls but you didn't borrow me paint\",\n",
       "  'Polski': 'Chciałam pomalować moje ściany ale nie pożyczyłeś mi farby'},\n",
       " {'Mówca': 'kobieta',\n",
       "  'Słuchacz': 'mężczyzna',\n",
       "  'Angielski': 'I almost killed him, and what did you do?',\n",
       "  'Polski': 'Prawie go zabiłam, a ty co zrobiłeś?'}]"
      ]
     },
     "execution_count": 101,
     "metadata": {},
     "output_type": "execute_result"
    }
   ],
   "source": [
    "examples = load_examples('examples/gender_examples.txt')\n",
    "\n",
    "# Get 3 random examples where the speaker is male and the listener is female\n",
    "random_examples = get_random_examples_with_genders(examples, speaker_gender=\"kobieta\", listener_gender=\"mężczyzna\", num_examples=3)\n",
    "random_examples"
   ]
  },
  {
   "cell_type": "code",
   "execution_count": 102,
   "id": "e9c1b7be",
   "metadata": {},
   "outputs": [
    {
     "name": "stdout",
     "output_type": "stream",
     "text": [
      "### Analiza Zdania\n",
      "\n",
      "**Zdanie do przetłumaczenia:** \"You're funny Jane but it'll cost you. Scratch my back, I'll scratch yours.\"\n",
      "\n",
      "**Kontekst:**\n",
      "- Płeć mówcy: kobieta\n",
      "- Charakter mówcy: brak informacji o specyficznym charakterze\n",
      "- Płeć słuchacza: mężczyzna\n",
      "\n",
      "### Tłumaczenie i Wyjaśnienie\n",
      "\n",
      "1. **You're funny Jane**:\n",
      "   - Kontekst: Mówiąca (kobieta) zwraca się bezpośrednio do osoby o imieniu Jane, która jest również kobietą.\n",
      "   - Polska wersja: \"Jesteś zabawna, Jane.\"\n",
      "\n",
      "2. **\"but it'll cost you\"**:\n",
      "   - Kontekst: Mówiąca sugeruje, że bycie zabawnym ma swoje konsekwencje lub koszty dla Jane.\n",
      "   - Polska wersja: \"ale będzie cię to kosztować.\"\n",
      "\n",
      "3. **\"Scratch my back, I'll scratch yours\"**:\n",
      "   - Kontekst: To popularne powiedzenie oznaczające wzajemność lub współpracę. W tym kontekście mówiąca proponuje Jane, aby ta wykonała dla niej pewną przysługę, a ona odwdzięczy się tym samym.\n",
      "   - Polska wersja: \"Podrap mnie po plecach, ja podrapię ciebie.\"\n",
      "\n",
      "### Pełne Tłumaczenie\n",
      "\n",
      "Połączone tłumaczenia poszczególnych części zdania dają nam następujące tłumaczenie:\n",
      "\n",
      "\"Jesteś zabawna, Jane, ale będzie cię to kosztować. Podrap mnie po plecach, ja podrapię ciebie.\"\n",
      "\n",
      "To tłumaczenie uwzględnia kontekst płciowy oraz charakter wypowiedzi, zachowując jednocześnie znaczenie oryginalnego zdania.\n"
     ]
    }
   ],
   "source": [
    "print(explanation_translation_with_examples_chain.run(sentence=english_input, speaker_gender=\"kobieta\", listener_gender=\"mężczyzna\", examples=random_examples,\n",
    "                                             speaker_character=None))"
   ]
  },
  {
   "cell_type": "code",
   "execution_count": 103,
   "id": "1123c3c3",
   "metadata": {},
   "outputs": [],
   "source": [
    "from langchain.agents import Tool\n",
    "\n",
    "def gender_faiss_tool_func(sentence, speaker_gender, listener_gender) -> str:\n",
    "    random_examples = get_random_examples_with_genders(examples, speaker_gender=speaker_gender, listener_gender=listener_gender, num_examples=3)\n",
    "    prompt = f\"\"\"\n",
    "    Zdanie do tłumacznenia: {sentence}\n",
    "\n",
    "    Płeć mówiącego: {speaker_gender}\n",
    "    Płeć słuchacza: {listener_gender}\n",
    "\n",
    "    Przetłumacz podane zdanie na język polski uwzględniająć płeć mówcy oraz słuchacza.\n",
    "\n",
    "    Przykłady podobnych tłumaczeń:\n",
    "    {random_examples}\n",
    "    \"\"\"\n",
    "    return clarin_llm(prompt)\n",
    "\n",
    "gender_tool = Tool(\n",
    "    name=\"GenderSearchTool\",\n",
    "    func=gender_faiss_tool_func,\n",
    "    description=\"Searches gender-based translation examples\"\n",
    ")"
   ]
  },
  {
   "cell_type": "code",
   "execution_count": 104,
   "id": "dc3822b6",
   "metadata": {},
   "outputs": [],
   "source": [
    "from langchain.agents import initialize_agent, AgentType"
   ]
  },
  {
   "cell_type": "code",
   "execution_count": 114,
   "id": "c89374f1",
   "metadata": {},
   "outputs": [
    {
     "name": "stdout",
     "output_type": "stream",
     "text": [
      "\n",
      "\n",
      "\u001b[1m> Entering new AgentExecutor chain...\u001b[0m\n",
      "\u001b[32;1m\u001b[1;3mNajpierw przeanalizuję zdanie pod kątem gramatycznym i semantycznym, a następnie wezmę pod uwagę kontekst wypowiedzi. Później wyjaśnię, jak każda część zdania przekłada się na polską wersję, uwzględniając kontekst. Na koniec podam tłumaczenie zdania na polski.\n",
      "\n",
      "**Analiza gramatyczna i semantyczna:**\n",
      "\n",
      "1. Zdanie składa się z dwóch części połączonych spójnikiem \"but\" (\"ale\").\n",
      "2. Pierwsza część zawiera komplement (\"You're funny Jane\") i ostrzeżenie (\"it'll cost you\").\n",
      "3. Druga część to idiomatyczne powiedzenie (\"Scratch my back, I'll scratch yours\"), które może być interpretowane jako propozycja wymiany przysług.\n",
      "\n",
      "**Kontekst wypowiedzi:**\n",
      "\n",
      "- Mówca: kobieta\n",
      "- Słuchacz: mężczyzna\n",
      "- Charakter mówcy: brak informacji\n",
      "\n",
      "**Tłumaczenie uwzględniające kontekst:**\n",
      "\n",
      "1. \"You're funny Jane\":\n",
      "   - Tłumaczenie: \"Jesteś zabawna, Jane\"\n",
      "   - Kontekst: Użycie imienia sugeruje bliskość lub znajomość między mówcą a adresatem. W języku polskim również używa się imion w takich sytuacjach.\n",
      "\n",
      "2. \"it'll cost you\":\n",
      "   - Tłumaczenie: \"to cię będzie kosztować\"\n",
      "   - Kontekst: Ostrzeżenie może być interpretowane jako subtelna groźba lub żartobliwe ostrzeżenie. W języku polskim można użyć podobnego zwrotu, aby oddać ten sam ton.\n",
      "\n",
      "3. \"Scratch my back, I'll scratch yours\":\n",
      "   - Tłumaczenie: \"Podrap mnie po plecach, ja podrapię ciebie\"\n",
      "   - Kontekst: To idiomatyczne powiedzenie odnosi się do wymiany przysług. W języku polskim istnieje podobne powiedzenie, które można użyć w tym kontekście.\n",
      "\n",
      "**Ostateczne tłumaczenie zdania na polski:**\n",
      "\n",
      "\"Jesteś zabawna, Jane, ale to cię będzie kosztować. Podrap mnie po plecach, ja podrapię ciebie.\"\n",
      "\n",
      "**Final Answer:**\n",
      "\n",
      "Ostateczne tłumaczenie zdania na polski, uwzględniające kontekst płci mówcy i słuchacza oraz charakterystyczny sposób wypowiedzi, brzmi:\n",
      "\n",
      "\"Jesteś zabawna, Jane, ale to cię będzie kosztować. Podrap mnie po plecach, ja podrapię ciebie.\"\u001b[0m\n",
      "\n",
      "\u001b[1m> Finished chain.\u001b[0m\n"
     ]
    }
   ],
   "source": [
    "agent = initialize_agent(\n",
    "    tools=[gender_tool],  # dodaj inne jeśli chcesz\n",
    "    llm=clarin_llm,\n",
    "    agent=AgentType.ZERO_SHOT_REACT_DESCRIPTION,\n",
    "    verbose=True,\n",
    "    return_intermediate_steps=True,\n",
    "    handle_parsing_errors=True\n",
    "    \n",
    ")\n",
    "\n",
    "cos = agent({\"input\": \"\"\"\n",
    "             Jesteś profesjonalnym tłumaczem z angielskiego na polski.\n",
    "\n",
    "Zdanie do przetłumaczenia: \"{sentence}\"\n",
    "\n",
    "Płeć mówcy: {speaker_gender}\n",
    "Charakter mówcy: {speaker_character}\n",
    "\n",
    "Płeć słuchacza: {listener_gender}\n",
    "\n",
    "\n",
    "Przeanalizuj zdanie pod kątem gramatycznym i semantycznym. \n",
    "Uwzględnij kontekst wypowiedzi, czyli jakiej płci jest mówca, jakiej płci jest słuchacz oraz czy mówca wypowiada się w charakterystyczny sposób.\n",
    "Potem wytłumacz jak każda część zdania przekłada się na polską wersję uwzględniając kontekst.\n",
    "Na końcu podaj tłumaczenie zdania na polski.\n",
    "\n",
    "\n",
    "             \"\"\".format(sentence=english_input, speaker_gender=\"kobieta\", listener_gender=\"mężczyzna\", speaker_character=None)})"
   ]
  },
  {
   "cell_type": "code",
   "execution_count": null,
   "id": "4bbd197c",
   "metadata": {},
   "outputs": [],
   "source": []
  }
 ],
 "metadata": {
  "kernelspec": {
   "display_name": "Python 3",
   "language": "python",
   "name": "python3"
  },
  "language_info": {
   "codemirror_mode": {
    "name": "ipython",
    "version": 3
   },
   "file_extension": ".py",
   "mimetype": "text/x-python",
   "name": "python",
   "nbconvert_exporter": "python",
   "pygments_lexer": "ipython3",
   "version": "3.11.2"
  }
 },
 "nbformat": 4,
 "nbformat_minor": 5
}
