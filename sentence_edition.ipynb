{
 "cells": [
  {
   "cell_type": "code",
   "execution_count": 1,
   "id": "92577d01",
   "metadata": {},
   "outputs": [],
   "source": [
    "with open(\"key.txt\", \"r\") as file:\n",
    "    API_KEY_CLARIN = file.read().strip()\n",
    "\n",
    "MODELS_ENDPOINT = \"https://services.clarin-pl.eu/api/v1/oapi/models\"\n",
    "COMPLETIONS_ENDPOINT = \"https://services.clarin-pl.eu/api/v1/oapi/chat/completions\"\n",
    "CLARIN_BASE_URL = \"https://services.clarin-pl.eu/api/v1/oapi\"\n",
    "\n",
    "MODEL_ID = \"bielik\""
   ]
  },
  {
   "cell_type": "code",
   "execution_count": 2,
   "id": "73904503",
   "metadata": {},
   "outputs": [],
   "source": [
    "import requests\n",
    "import pandas as pd\n",
    "import json\n",
    "import time\n",
    "import requests"
   ]
  },
  {
   "cell_type": "code",
   "execution_count": 3,
   "id": "73383fbd",
   "metadata": {},
   "outputs": [],
   "source": [
    "def prompt_chat_default_settings(model_id, prompt):\n",
    "    url = COMPLETIONS_ENDPOINT\n",
    "    headers = {\"Authorization\": f\"Bearer {API_KEY_CLARIN}\", \"Content-Type\": \"application/json\"}\n",
    "    messages = []\n",
    "    messages.append({\"role\": \"user\", \"content\": prompt})\n",
    "    data = {\n",
    "        \"model\": model_id,\n",
    "        \"messages\": messages,\n",
    "        #\"max_tokens\": max_tokens\n",
    "    }\n",
    "    response = requests.post(url, json=data, headers=headers)\n",
    "    if response.status_code == 200:\n",
    "        try:\n",
    "            data = response.json()\n",
    "            if isinstance(data, dict) and \"choices\" in data and data[\"choices\"]:\n",
    "                return data[\"choices\"][0].get(\"message\", {}).get(\"content\", None)\n",
    "            else:\n",
    "                return None  # Handle unexpected response structure\n",
    "        except (ValueError, TypeError, AttributeError):\n",
    "            return None  # Handle cases where response.json() is None or not as expected\n",
    "    else:\n",
    "        return None  # Handle non-200 status codes"
   ]
  },
  {
   "cell_type": "code",
   "execution_count": 4,
   "id": "26b5783d",
   "metadata": {},
   "outputs": [],
   "source": [
    "def prompt_chat_custom_temperature(model_id, prompt, temperature = 0.3):\n",
    "    url = COMPLETIONS_ENDPOINT\n",
    "    headers = {\"Authorization\": f\"Bearer {API_KEY_CLARIN}\", \"Content-Type\": \"application/json\"}\n",
    "    messages = []\n",
    "    messages.append({\"role\": \"user\", \"content\": prompt})\n",
    "    data = {\n",
    "        \"model\": model_id,\n",
    "        \"messages\": messages,\n",
    "        \"temperature\": temperature\n",
    "        #\"max_tokens\": max_tokens\n",
    "    }\n",
    "    response = requests.post(url, json=data, headers=headers)\n",
    "    if response.status_code == 200:\n",
    "        try:\n",
    "            data = response.json()\n",
    "            if isinstance(data, dict) and \"choices\" in data and data[\"choices\"]:\n",
    "                return data[\"choices\"][0].get(\"message\", {}).get(\"content\", None)\n",
    "            else:\n",
    "                return None  # Handle unexpected response structure\n",
    "        except (ValueError, TypeError, AttributeError):\n",
    "            return None  # Handle cases where response.json() is None or not as expected\n",
    "    else:\n",
    "        return None  # Handle non-200 status codes"
   ]
  },
  {
   "cell_type": "code",
   "execution_count": 5,
   "id": "3fb1d707",
   "metadata": {},
   "outputs": [
    {
     "data": {
      "text/html": [
       "<div>\n",
       "<style scoped>\n",
       "    .dataframe tbody tr th:only-of-type {\n",
       "        vertical-align: middle;\n",
       "    }\n",
       "\n",
       "    .dataframe tbody tr th {\n",
       "        vertical-align: top;\n",
       "    }\n",
       "\n",
       "    .dataframe thead th {\n",
       "        text-align: right;\n",
       "    }\n",
       "</style>\n",
       "<table border=\"1\" class=\"dataframe\">\n",
       "  <thead>\n",
       "    <tr style=\"text-align: right;\">\n",
       "      <th></th>\n",
       "      <th>en_text</th>\n",
       "      <th>pl_text</th>\n",
       "    </tr>\n",
       "  </thead>\n",
       "  <tbody>\n",
       "    <tr>\n",
       "      <th>0</th>\n",
       "      <td>Hey, everyone! Wanna hear about Fyresdal?</td>\n",
       "      <td>Ej, ludzie! Chcecie posłuchać o Fyresdal?</td>\n",
       "    </tr>\n",
       "    <tr>\n",
       "      <th>1</th>\n",
       "      <td>Hey, good folk! Wanna hear what our brave guar...</td>\n",
       "      <td>Ej, ludzie! Chcecie usłyszeć, co nasz dzielny ...</td>\n",
       "    </tr>\n",
       "    <tr>\n",
       "      <th>2</th>\n",
       "      <td>Shut your trap, dammit!</td>\n",
       "      <td>Stul pysk, do cholery!</td>\n",
       "    </tr>\n",
       "    <tr>\n",
       "      <th>3</th>\n",
       "      <td>Four against one - and you came out alive.</td>\n",
       "      <td>Czterech na jednego. A dałeś radę.</td>\n",
       "    </tr>\n",
       "    <tr>\n",
       "      <th>4</th>\n",
       "      <td>Shame to let such a lad waste away behind bars...</td>\n",
       "      <td>Szkoda, żeby taki chłop marniał za kratkami......</td>\n",
       "    </tr>\n",
       "    <tr>\n",
       "      <th>...</th>\n",
       "      <td>...</td>\n",
       "      <td>...</td>\n",
       "    </tr>\n",
       "    <tr>\n",
       "      <th>8375</th>\n",
       "      <td>Farewell.</td>\n",
       "      <td>Bywaj.</td>\n",
       "    </tr>\n",
       "    <tr>\n",
       "      <th>8376</th>\n",
       "      <td>Farewell.</td>\n",
       "      <td>Bywaj.</td>\n",
       "    </tr>\n",
       "    <tr>\n",
       "      <th>8377</th>\n",
       "      <td>What do you have on offer?</td>\n",
       "      <td>Pokaż mi swoje towary.</td>\n",
       "    </tr>\n",
       "    <tr>\n",
       "      <th>8378</th>\n",
       "      <td>Show me what you have in stock.</td>\n",
       "      <td>Pokaż mi swoje towary.</td>\n",
       "    </tr>\n",
       "    <tr>\n",
       "      <th>8379</th>\n",
       "      <td>You're back, White Hair.</td>\n",
       "      <td>Wróciłeś, białowłosy.</td>\n",
       "    </tr>\n",
       "  </tbody>\n",
       "</table>\n",
       "<p>8380 rows × 2 columns</p>\n",
       "</div>"
      ],
      "text/plain": [
       "                                                en_text  \\\n",
       "0             Hey, everyone! Wanna hear about Fyresdal?   \n",
       "1     Hey, good folk! Wanna hear what our brave guar...   \n",
       "2                               Shut your trap, dammit!   \n",
       "3            Four against one - and you came out alive.   \n",
       "4     Shame to let such a lad waste away behind bars...   \n",
       "...                                                 ...   \n",
       "8375                                          Farewell.   \n",
       "8376                                          Farewell.   \n",
       "8377                         What do you have on offer?   \n",
       "8378                    Show me what you have in stock.   \n",
       "8379                           You're back, White Hair.   \n",
       "\n",
       "                                                pl_text  \n",
       "0             Ej, ludzie! Chcecie posłuchać o Fyresdal?  \n",
       "1     Ej, ludzie! Chcecie usłyszeć, co nasz dzielny ...  \n",
       "2                                Stul pysk, do cholery!  \n",
       "3                    Czterech na jednego. A dałeś radę.  \n",
       "4     Szkoda, żeby taki chłop marniał za kratkami......  \n",
       "...                                                 ...  \n",
       "8375                                             Bywaj.  \n",
       "8376                                             Bywaj.  \n",
       "8377                             Pokaż mi swoje towary.  \n",
       "8378                             Pokaż mi swoje towary.  \n",
       "8379                              Wróciłeś, białowłosy.  \n",
       "\n",
       "[8380 rows x 2 columns]"
      ]
     },
     "execution_count": 5,
     "metadata": {},
     "output_type": "execute_result"
    }
   ],
   "source": [
    "df = pd.read_csv(\"data/dataset.csv\", delimiter=\"|\")\n",
    "df"
   ]
  },
  {
   "cell_type": "code",
   "execution_count": 6,
   "id": "5675a7e8",
   "metadata": {},
   "outputs": [],
   "source": [
    "sentences = [\"Unless… She coexists with drowners… Maybe I could make an extract from their glands, cover up my scent.\", \n",
    "             \"When'd you lose your voice? Can you show me, hold up some fingers?\",\n",
    "             \"Pirate Leader\",\n",
    "             \"You're dull as dirt. *Yaaawn*\",\n",
    "             \"Jarl of Undvik - tell me about his death.\",\n",
    "             \"Let's go see Udalryk. Be interesting to see if there actually is a ghost in all this.\",\n",
    "             \"Bad way to play it out.\",\n",
    "             \"So? Ready?\",\n",
    "             \"It'll cost you. Scratch my back, I'll scratch yours.\"]"
   ]
  },
  {
   "cell_type": "code",
   "execution_count": 7,
   "id": "67d44f37",
   "metadata": {},
   "outputs": [
    {
     "data": {
      "text/plain": [
       "'Jesteś nudny jak flaki z olejem. *Ziewnięcie*'"
      ]
     },
     "execution_count": 7,
     "metadata": {},
     "output_type": "execute_result"
    }
   ],
   "source": [
    "prompt_chat_custom_temperature(\n",
    "    MODEL_ID, \n",
    "    f\"Przetłumacz na polski i nie dodawaj żadnych dodatkowych wyjaśnień, napisz tylko samo tłumaczenie: '{sentences[3]}'\", \n",
    "    0.0\n",
    ")"
   ]
  },
  {
   "cell_type": "code",
   "execution_count": 8,
   "id": "3b2bd0bd",
   "metadata": {},
   "outputs": [],
   "source": [
    "context = \"Zdanie jest elementem dialogu. Wypowiada je mężczyzna w stronę kobiety. \\n\""
   ]
  },
  {
   "cell_type": "code",
   "execution_count": 9,
   "id": "37136f4a",
   "metadata": {},
   "outputs": [
    {
     "data": {
      "text/plain": [
       "'Jesteś nudna jak flaki z olejem. *Ziewnięcie*'"
      ]
     },
     "execution_count": 9,
     "metadata": {},
     "output_type": "execute_result"
    }
   ],
   "source": [
    "prompt_chat_custom_temperature(\n",
    "    MODEL_ID, \n",
    "    f\"Oto kontekst: {context} Przetłumacz na polski i nie dodawaj żadnych dodatkowych wyjaśnień, napisz tylko samo tłumaczenie: '{sentences[3]}'\", \n",
    "    0.0\n",
    ")"
   ]
  },
  {
   "cell_type": "code",
   "execution_count": 10,
   "id": "2b38dc32",
   "metadata": {},
   "outputs": [],
   "source": [
    "rule1 = \"W dialogu mogą wystąpić słowa opisujące dzwięki wydawane przez osobę, która mówi. Podczas tłumaczenia zamień te słowa na faktycznie dzwięki, wydawane podczas tej czynności. \\n\" \n",
    "examples = \"Yawn - Aaah \\n Sneeze - Apsik \\n\""
   ]
  },
  {
   "cell_type": "code",
   "execution_count": 11,
   "id": "860127ae",
   "metadata": {},
   "outputs": [
    {
     "data": {
      "text/plain": [
       "'Jesteś nudny jak flaki z olejem. *Aaah*'"
      ]
     },
     "execution_count": 11,
     "metadata": {},
     "output_type": "execute_result"
    }
   ],
   "source": [
    "prompt_chat_custom_temperature(\n",
    "    MODEL_ID, \n",
    "    f\"Zasada: {rule1} Przykłady: {examples} Przetłumacz na polski i nie dodawaj żadnych dodatkowych wyjaśnień, napisz tylko samo tłumaczenie: '{sentences[3]}'\", \n",
    "    0.0\n",
    ")"
   ]
  },
  {
   "cell_type": "code",
   "execution_count": 12,
   "id": "6f7e5fae",
   "metadata": {},
   "outputs": [
    {
     "data": {
      "text/plain": [
       "'Jesteś nudny jak flaki z olejem. *Aaah*'"
      ]
     },
     "execution_count": 12,
     "metadata": {},
     "output_type": "execute_result"
    }
   ],
   "source": [
    "prompt_chat_custom_temperature(\n",
    "    MODEL_ID, \n",
    "    f\"Oto kontekst: {context} Zasada: {rule1} Przykłady: {examples} Przetłumacz na polski i nie dodawaj żadnych dodatkowych wyjaśnień, napisz tylko samo tłumaczenie: '{sentences[3]}'\", \n",
    "    0.0\n",
    ")"
   ]
  },
  {
   "cell_type": "code",
   "execution_count": 13,
   "id": "3f3b9c7c",
   "metadata": {},
   "outputs": [
    {
     "data": {
      "text/plain": [
       "'Jesteś nudna jak flaki z olejem. *Ziewnięcie*'"
      ]
     },
     "execution_count": 13,
     "metadata": {},
     "output_type": "execute_result"
    }
   ],
   "source": [
    "prompt_chat_custom_temperature(\n",
    "    MODEL_ID, \n",
    "    f\"Oto podane zdanie: {sentences[3]} \\n Kontekst: {context} Zasada: {rule1} Przykłady: {examples} Przetłumacz podane zdanie na polski i nie dodawaj żadnych dodatkowych wyjaśnień, napisz tylko samo tłumaczenie. Podczas tłumaczenia uwzględnij zasady i kontekst:\", \n",
    "    0.0\n",
    ")"
   ]
  },
  {
   "cell_type": "code",
   "execution_count": 14,
   "id": "314e664f",
   "metadata": {},
   "outputs": [
    {
     "data": {
      "text/plain": [
       "'Jesteś nudny jak flaki z olejem. *Ziewnięcie*'"
      ]
     },
     "execution_count": 14,
     "metadata": {},
     "output_type": "execute_result"
    }
   ],
   "source": [
    "translationv1 = prompt_chat_custom_temperature(\n",
    "    MODEL_ID, \n",
    "    f\"Przetłumacz na polski i nie dodawaj żadnych dodatkowych wyjaśnień, napisz tylko samo tłumaczenie: '{sentences[3]}'\", \n",
    "    0.0\n",
    ")\n",
    "translationv1"
   ]
  },
  {
   "cell_type": "code",
   "execution_count": 15,
   "id": "d71c0af1",
   "metadata": {},
   "outputs": [
    {
     "data": {
      "text/plain": [
       "'\"Jesteś tak nudny, że mogłabym zasnąć stojąc.\" *Ziewnięcie*'"
      ]
     },
     "execution_count": 15,
     "metadata": {},
     "output_type": "execute_result"
    }
   ],
   "source": [
    "translationv2 = prompt_chat_custom_temperature(\n",
    "    MODEL_ID, \n",
    "    f\"Oto kontekst: {context} Przepisz podane zdanie na polski zgodnie z podanym kotekstem i nie dodawaj żadnych dodatkowych wyjaśnień, napisz tylko samo tłumaczenie: '{translationv1}'\",\n",
    "    0.0\n",
    ")\n",
    "translationv2"
   ]
  },
  {
   "cell_type": "code",
   "execution_count": 16,
   "id": "d7819ebf",
   "metadata": {},
   "outputs": [],
   "source": [
    "context2 = \"Zdanie wypowiadane jest przez mężczyzne w stronę kobiety \\n\""
   ]
  },
  {
   "cell_type": "code",
   "execution_count": 17,
   "id": "fddf1190",
   "metadata": {},
   "outputs": [
    {
     "data": {
      "text/plain": [
       "'Jesteś nudna jak flaki z olejem. *Ziewnięcie*'"
      ]
     },
     "execution_count": 17,
     "metadata": {},
     "output_type": "execute_result"
    }
   ],
   "source": [
    "translationv2 = prompt_chat_custom_temperature(\n",
    "    MODEL_ID, \n",
    "    f\"Zdanie po tłumaczniu bez kontekstu: '{translationv1}'\\n Kontekst zdania: {context}\\n Odmień wyrazy w podanym tłumaczeniu tak aby pasowały do kontekstu zdania. Napisz tylko i wyłącznie samo poprawione tłumaczenie i nie dodawaj żadnych dodatkowych wyujaśnień:\",\n",
    "    0.0\n",
    ")\n",
    "translationv2"
   ]
  },
  {
   "cell_type": "code",
   "execution_count": 18,
   "id": "178d16ab",
   "metadata": {},
   "outputs": [
    {
     "data": {
      "text/plain": [
       "'Jesteś nudna jak flaki z olejem. *Aaah*'"
      ]
     },
     "execution_count": 18,
     "metadata": {},
     "output_type": "execute_result"
    }
   ],
   "source": [
    "translationv3 = prompt_chat_custom_temperature(\n",
    "    MODEL_ID, \n",
    "    f\"Zdanie po tłumaczniu '{translationv2}'\\n Zasady: {rule1}\\n Przykłady zasady: {examples}\\n Zastosuj zasady wedle przykładów na podanym zdaniu i napisz tylko i wyłącznie samo poprawione zdanie, nie dodawaj żadnych dodatkowych wyjaśnień:\",\n",
    "    0.0\n",
    ")\n",
    "translationv3"
   ]
  },
  {
   "cell_type": "code",
   "execution_count": 19,
   "id": "0489f191",
   "metadata": {},
   "outputs": [
    {
     "data": {
      "text/plain": [
       "'Relacja pomiędzy wyrazami \"yawn\" i \"Aaah\" oraz \"bark bark\" i \"hał hał\" jest podobna. Obie pary wyrazów odnoszą się do dźwięków lub odgłosów wydawanych przez ludzi lub inne istoty. \\n\\n\"Yawn\" oznacza działanie ziewania (westchnienia) połączone z wydaniem charakterystycznego dźwięku. Dlatego też słowo to jest powiązane z dźwiękiem \"Aaah\", który najlepiej oddaje brzmienie tego gestu. Przykład zdania: \"He yawned and said, \\'Aaah!\\'\"\\n\\nPodobnie \"bark bark\" to odtworzenie odgłosu wydobywającego się z ust (ust lub nosa), często w akcie ekspresji (np. żalu, zaskoczenia, niepewności itd.). Wyrażenie \"aha\" jest zwykłą konwencjonalną frazą używaną dla oddania takiego typu dźwięku, np.: \"She spoke with a barking voice and said, \\'Aha, I don\\'t like this.\\'\"\\n\\nOba przykłady pokazują powiązanie dźwiękowych gestów werbalnych (\"yawn\" i \"bark\") ze słowem lub frazą („\\xa0aha\\xa0”, \"aha\"), które są używane jako zamiennik lub imitacja tychże. Wyrażają one ideę wydawania dźwięków za ich pomocą.'"
      ]
     },
     "execution_count": 19,
     "metadata": {},
     "output_type": "execute_result"
    }
   ],
   "source": [
    "prompt_chat_default_settings(\n",
    "    MODEL_ID, \n",
    "    \"Opis relację pomiędzy wyrazami: Yawn - Aaah, Bark bark - hał hał\\n\"\n",
    ")"
   ]
  },
  {
   "cell_type": "code",
   "execution_count": 20,
   "id": "ec1a1529",
   "metadata": {},
   "outputs": [
    {
     "data": {
      "text/plain": [
       "'Aby zamienić wszystkie czynności opisujące wydawany dźwięk na faktyczne dźwięki w podanym zdaniu \"You\\'re dull as dirt. *Yaaawn*\", możesz użyć następującego polecenia dla modelu językowego:\\n\\n\"Zamień wszystkie wyrażenia opisujące wydawanie dźwięków na same dźwięki w tym zdaniu.\"\\n\\nTo polecenie poprosi model o zidentyfikowanie i zamianę takich wyrażeń jak \"you\\'re yawning\" lub \"you yawned\" na samo \"yawn\". W przypadku tego konkretnego zdania, nie ma potrzeby dokonywania żadnych zmian, ponieważ zawiera ono już faktyczny dźwięk (*Yaaawn*). Jednak to polecenie będzie skuteczne dla innych zdań, które mogą zawierać opisy dźwięków zamiast samych dźwięków.'"
      ]
     },
     "execution_count": 20,
     "metadata": {},
     "output_type": "execute_result"
    }
   ],
   "source": [
    "prompt_chat_custom_temperature(MODEL_ID,\n",
    "    f\"Oto przykładowe zdanie: {sentences[3]}. Jakie polecenie napisałbyś do modelu, aby zamienić w nim wszystkie czynności opisujące wydawany dzwięk na faktycznie wydawane dzwięki? \\n\",\n",
    "    0.3\n",
    ")"
   ]
  },
  {
   "cell_type": "code",
   "execution_count": 21,
   "id": "5e32ec2e",
   "metadata": {},
   "outputs": [
    {
     "data": {
      "text/plain": [
       "'Jesteś nudna jak flaki z olejem. *Ziewnięcie*'"
      ]
     },
     "execution_count": 21,
     "metadata": {},
     "output_type": "execute_result"
    }
   ],
   "source": [
    "translationv2"
   ]
  },
  {
   "cell_type": "code",
   "execution_count": 22,
   "id": "bc8b51aa",
   "metadata": {},
   "outputs": [
    {
     "data": {
      "text/plain": [
       "'W podanym zdaniu \"Jesteś nudna jak flaki z olejem. *Ziewnięcie*\" znajduje się jeden wyraz opisujący wydawany dźwięk:\\n\\n- Ziewnięcie\\n\\nTo słowo odnosi się do charakterystycznego dźwięku, jaki wydaje osoba ziewająca. W tym kontekście jest ono użyte jako element opisu sytuacji lub stanu emocjonalnego, a nie bezpośrednio jako część zdania.'"
      ]
     },
     "execution_count": 22,
     "metadata": {},
     "output_type": "execute_result"
    }
   ],
   "source": [
    "prompt_chat_custom_temperature(MODEL_ID,\n",
    "    f\"Zidentyfikuj wszystkie wyrazy opisujące wydawane dzwięki w zdaniu i je wypisz: {translationv2}\\n\",\n",
    "    0.0\n",
    ")"
   ]
  },
  {
   "cell_type": "code",
   "execution_count": 23,
   "id": "93c62965",
   "metadata": {},
   "outputs": [],
   "source": [
    "answer = \"'W podanym zdaniu Jesteś nudna jak flaki z olejem. *Ziewnięcie* znajduje się jeden wyraz opisujący wydawany dźwięk:\\n\\n- Ziewnięcie\\n\\nTo słowo odnosi się do charakterystycznego dźwięku, jaki wydaje osoba ziewająca. W tym kontekście jest ono użyte jako element opisu sytuacji lub stanu emocjonalnego, a nie bezpośrednio jako część zdania.'\""
   ]
  },
  {
   "cell_type": "code",
   "execution_count": 24,
   "id": "52361f82",
   "metadata": {},
   "outputs": [
    {
     "data": {
      "text/plain": [
       "'Oto zdanie zastąpione dźwiękonaśladowczymi odpowiednikami dźwięków:\\n\\nJesteś nudna jak flaki z olejem. *Brrrum brrum*\\n\\nW tym przypadku \"ziewnięcie\" zostało zastąpione przez \"brrrum brrum\", co fonetycznie oddaje dźwięk ziewania. Dźwięk ten jest często opisywany jako głębokie, powolne i rytmiczne \"brum brum\".'"
      ]
     },
     "execution_count": 24,
     "metadata": {},
     "output_type": "execute_result"
    }
   ],
   "source": [
    "prompt_chat_custom_temperature(MODEL_ID,\n",
    "    f\"Zdanie: {translationv2}\\n\"+\n",
    "    \"Zastąp wszystkie opisy dźwięków wydawanych podczas czynności, odpowiednikami dźwiękonaśladowczymi, które fonetycznie oddają realny dźwięk tych czynności – tak, aby czytając je, można było niemal usłyszeć ten dźwięk\",\n",
    "    0.3\n",
    ")"
   ]
  },
  {
   "cell_type": "code",
   "execution_count": 25,
   "id": "8c0842ee",
   "metadata": {},
   "outputs": [
    {
     "data": {
      "text/plain": [
       "'W podanych zdaniach występują dwa idiomatyczne wyrażenia:\\n\\n1. \"It\\'ll cost you.\" - To wyrażenie oznacza, że coś będzie miało dla kogoś negatywne konsekwencje lub spowoduje problemy. W języku polskim można to oddać jako \"To się zemści\" lub \"To się obróci przeciwko tobie\".\\n\\n2. \"Scratch my back, I\\'ll scratch yours.\" - To popularne angielskie powiedzenie oznaczające propozycję wzajemnej pomocy lub współpracy. W języku polskim można to przetłumaczyć jako \"Jak ty mi tak ja tobie\" lub \"Ręka rękę myje\".\\n\\nPodsumowując:\\n- \"It\\'ll cost you.\" = \"To się zemści\" / \"To się obróci przeciwko tobie\"\\n- \"Scratch my back, I\\'ll scratch yours.\" = \"Jak ty mi tak ja tobie\" / \"Ręka rękę myje\"'"
      ]
     },
     "execution_count": 25,
     "metadata": {},
     "output_type": "execute_result"
    }
   ],
   "source": [
    "prompt_chat_custom_temperature(\n",
    "    MODEL_ID, \n",
    "    f\"Znajdź w podanym zdaniu powiedzenia, kórych znaczenie jest inne niż dosłowne znaczenia słów, a następnie przetłumacz je na odpowiedniki po polsku: '{sentences[-1]}'\", \n",
    "    0.0\n",
    ")"
   ]
  },
  {
   "cell_type": "code",
   "execution_count": 28,
   "id": "c0746136",
   "metadata": {},
   "outputs": [
    {
     "data": {
      "text/plain": [
       "'W podanych zdaniach zidentyfikowałem dwa idiomy:\\n\\n1. \"It\\'ll cost you.\"\\n   - Dosłowne znaczenie: Będzie cię to kosztować.\\n   - Znaczenie przenośne: Oznacza, że coś będzie miało dla ciebie negatywne konsekwencje lub skutki uboczne, często nieoczekiwane lub niepożądane.\\n   \\n   Trzy sposoby tłumaczenia na język polski:\\n   a) To się na tobie odbije.\\n   b) To cię uderzy rykoszetem.\\n   c) To cię dopadnie.\\n\\n2. \"Scratch my back, I\\'ll scratch yours.\"\\n   - Dosłowne znaczenie: Podrap mnie po plecach, ja podrapię ciebie.\\n   - Znaczenie przenośne: Oznacza propozycję wzajemnej pomocy lub współpracy, gdzie obie strony mają korzyści ze swoich działań.\\n\\n   Trzy sposoby tłumaczenia na język polski:\\n   a) Ja ci pomogę, ty mi pomożesz.\\n   b) Wzajemna przysługa.\\n   c) Ktoś za kogoś.\\n\\nWarto zauważyć, że te idiomy są powszechnie używane w języku angielskim i ich dokładne tłumaczenie może nie oddawać pełnego znaczenia w języku polskim, ale przedstawione przykłady starają się jak najlepiej oddać ich sens.'"
      ]
     },
     "execution_count": 28,
     "metadata": {},
     "output_type": "execute_result"
    }
   ],
   "source": [
    "prompt_chat_custom_temperature(\n",
    "    MODEL_ID, \n",
    "    f\"Znajdź w podanym zdaniu powiedzenia/idiomy, kórych znaczenie jest inne niż dosłowne znaczenia słów, a następnie przetłumacz je na odpowiedniki po polsku, wypisz po 3 sposoby tlumaczenia na każdy idiom: '{sentences[-1]}'\", \n",
    "    0.0\n",
    ")"
   ]
  },
  {
   "cell_type": "code",
   "execution_count": 31,
   "id": "13d9c3e4",
   "metadata": {},
   "outputs": [
    {
     "data": {
      "text/plain": [
       "'W podanych zdaniach zidentyfikowałem dwa idiomy:\\n\\n1. \"It\\'ll cost you\" - oznacza to, że coś będzie miało dla kogoś negatywne konsekwencje lub spowoduje problemy. W języku polskim odpowiednikiem tego idiomu jest \"To się na Tobie odbije\".\\n\\n2. \"Scratch my back, I\\'ll scratch yours\" - to wyrażenie oznacza propozycję wzajemnej pomocy lub współpracy. W języku polskim można to oddać jako \"Jak ty mi tak ja tobie\".\\n\\nTeraz przetłumaczę całe zdanie na język polski:\\n\\n\"To się na Tobie odbije. Jak ty mi tak ja tobie.\"\\n\\nTo zdanie sugeruje, że ktoś ostrzega drugą osobę przed potencjalnymi negatywnymi skutkami jej działań oraz proponuje wzajemną pomoc lub współpracę.'"
      ]
     },
     "execution_count": 31,
     "metadata": {},
     "output_type": "execute_result"
    }
   ],
   "source": [
    "prompt_chat_custom_temperature(\n",
    "    MODEL_ID, \n",
    "    f\"Znajdź w podanym zdaniu powiedzenia/idiomy, kórych znaczenie jest inne niż dosłowne znaczenia słów, a następnie przetłumacz je na odpowiedniki po polsku '{sentences[-1]}' i wypisz je.\\n\"+\n",
    "    f\"Następnie korzystając ze znalezionych odpowiedników idiomów, przetłumacz całe zdanie na język polski: '{sentences[-1]}'\", \n",
    "    0.0\n",
    ")"
   ]
  },
  {
   "cell_type": "code",
   "execution_count": 33,
   "id": "23e9b079",
   "metadata": {},
   "outputs": [],
   "source": [
    "zdanie = 'W podanych zdaniach zidentyfikowałem dwa idiomy:\\n\\n1. \"It\\'ll cost you\" - oznacza to, że coś będzie miało dla kogoś negatywne konsekwencje lub spowoduje problemy. W języku polskim odpowiednikiem tego idiomu jest \"To się na Tobie odbije\".\\n\\n2. \"Scratch my back, I\\'ll scratch yours\" - to wyrażenie oznacza propozycję wzajemnej pomocy lub współpracy. W języku polskim można to oddać jako \"Jak ty mi tak ja tobie\".\\n\\nTeraz przetłumaczę całe zdanie na język polski:\\n\\n\"To się na Tobie odbije. Jak ty mi tak ja tobie.\"\\n\\nTo zdanie sugeruje, że ktoś ostrzega drugą osobę przed potencjalnymi negatywnymi skutkami jej działań oraz proponuje wzajemną pomoc lub współpracę.'"
   ]
  },
  {
   "cell_type": "code",
   "execution_count": 36,
   "id": "fd05f545",
   "metadata": {},
   "outputs": [
    {
     "data": {
      "text/plain": [
       "'To się na Tobie odbije. Jak ty mi tak ja tobie.'"
      ]
     },
     "execution_count": 36,
     "metadata": {},
     "output_type": "execute_result"
    }
   ],
   "source": [
    "prompt_chat_custom_temperature(\n",
    "    MODEL_ID, \n",
    "    f\"Oto próba przetłumaczenia zdania przez model: {zdanie} \\n\"+\n",
    "    f\"Wyciągnij z podanego tekstu samo tłumaczenie zdania i nie dodawaj żadnych dodatkowych wyjaśnień, napisz tylko samo tłumaczenie:\",\n",
    "    0.0\n",
    ")"
   ]
  },
  {
   "cell_type": "code",
   "execution_count": 45,
   "id": "3fb8bdee",
   "metadata": {},
   "outputs": [],
   "source": [
    "sentence_to_translate = \"You're funny Jane but it'll cost you. Scratch my back, I'll scratch yours.\"\n",
    "context = \"Zdanie jest elementem dialogu. Wypowiada je mężczyzna w stronę kobiety. \\n\""
   ]
  },
  {
   "cell_type": "code",
   "execution_count": 46,
   "id": "f90eb256",
   "metadata": {},
   "outputs": [
    {
     "data": {
      "text/plain": [
       "'W podanym zdaniu możemy zidentyfikować dwa idiomy:\\n\\n1. \"It\\'ll cost you\" - oznacza to, że coś będzie mieć negatywne konsekwencje lub spowoduje problemy dla osoby, która się tego podejmie.\\n   Odpowiednik po polsku: \"To cię będzie kosztować\"\\n\\n2. \"Scratch my back, I\\'ll scratch yours\" - to popularne powiedzenie oznaczające wzajemną pomoc lub współpracę między dwiema osobami.\\n   Odpowiednik po polsku: \"Jak ty mnie, tak ja tobie\"\\n\\nTeraz przetłumaczmy całe zdanie na język polski, uwzględniając te idiomy:\\n\\n\"You\\'re funny Jane but it\\'ll cost you.\"\\n\"Jesteś zabawna, Janie, ale to cię będzie kosztować.\"\\n\\n\"Scratch my back, I\\'ll scratch yours.\"\\n\"Jak ty mnie, tak ja tobie.\"\\n\\nBiorąc pod uwagę kontekst dialogu, gdzie mężczyzna wypowiada te słowa do kobiety, możemy przepisać to zdanie na polski w następujący sposób:\\n\\n\"Jesteś zabawna, Janie, ale to cię będzie kosztować. Jak ty mnie, tak ja tobie.\"\\n\\nTo zdanie sugeruje, że mężczyzna docenia poczucie humoru kobiety, ale jednocześnie ostrzega ją, że jej żarty mogą mieć niepożądane konsekwencje. Dodatkowo, oferuje wzajemność w relacji, sugerując, że on również będzie gotowy pomagać jej w zamian za jej pomoc.'"
      ]
     },
     "execution_count": 46,
     "metadata": {},
     "output_type": "execute_result"
    }
   ],
   "source": [
    "output1 = prompt_chat_custom_temperature(\n",
    "    MODEL_ID,\n",
    "    f\"Zdanie do przetłumaczenia: {sentence_to_translate} \\n\"+\n",
    "    f\"Kontekst: {context} \\n\"+\n",
    "    f\"Znajdź w podanym do tłumaczenia zdaniu powiedzenia/idiomy, kórych znaczenie jest inne niż dosłowne znaczenia słów, a następnie przetłumacz je na odpowiedniki po polsku i wypisz je.\\n\"+ \n",
    "    f\"Następnie korzystając ze znalezionych odpowiedników idiomów, przetłumacz całe zdanie na język polski. \\n\"+\n",
    "    f\"Następnie przepisz podane zdanie na polski zgodnie z podanym kotekstem\",\n",
    "    0.0\n",
    ")\n",
    "output1"
   ]
  },
  {
   "cell_type": "code",
   "execution_count": 47,
   "id": "57e2c25d",
   "metadata": {},
   "outputs": [
    {
     "data": {
      "text/plain": [
       "'\"Jesteś zabawna, Janie, ale to cię będzie kosztować. Jak ty mnie, tak ja tobie.\"'"
      ]
     },
     "execution_count": 47,
     "metadata": {},
     "output_type": "execute_result"
    }
   ],
   "source": [
    "output2 = prompt_chat_custom_temperature(\n",
    "    MODEL_ID, \n",
    "    f\"Oto próba przetłumaczenia zdania: {output1} \\n\"+\n",
    "    f\"Wyciągnij z podanego tekstu samo tłumaczenie zdania i nie dodawaj żadnych dodatkowych wyjaśnień, napisz tylko samo tłumaczenie:\",\n",
    "    0.0\n",
    ")\n",
    "output2"
   ]
  },
  {
   "cell_type": "code",
   "execution_count": 48,
   "id": "e1127656",
   "metadata": {},
   "outputs": [],
   "source": [
    "context = \"Zdanie jest elementem dialogu. Wypowiada je mężczyzna w stronę mężczyzny. \\n\""
   ]
  },
  {
   "cell_type": "code",
   "execution_count": 49,
   "id": "c6fc77c0",
   "metadata": {},
   "outputs": [
    {
     "data": {
      "text/plain": [
       "'Jesteś zabawny, ale to ci się odbije czkawką. Jeśli ty mi pomożesz, ja też ci pomogę.'"
      ]
     },
     "execution_count": 49,
     "metadata": {},
     "output_type": "execute_result"
    }
   ],
   "source": [
    "output1 = prompt_chat_custom_temperature(\n",
    "    MODEL_ID,\n",
    "    f\"Zdanie do przetłumaczenia: {sentence_to_translate} \\n\"+\n",
    "    f\"Kontekst: {context} \\n\"+\n",
    "    f\"Znajdź w podanym do tłumaczenia zdaniu powiedzenia/idiomy, kórych znaczenie jest inne niż dosłowne znaczenia słów, a następnie przetłumacz je na odpowiedniki po polsku i wypisz je.\\n\"+ \n",
    "    f\"Następnie korzystając ze znalezionych odpowiedników idiomów, przetłumacz całe zdanie na język polski. \\n\"+\n",
    "    f\"Następnie przepisz podane zdanie na polski zgodnie z podanym kotekstem\",\n",
    "    0.0\n",
    ")\n",
    "output2 = prompt_chat_custom_temperature(\n",
    "    MODEL_ID, \n",
    "    f\"Oto próba przetłumaczenia zdania: {output1} \\n\"+\n",
    "    f\"Wyciągnij z podanego tekstu samo tłumaczenie zdania i nie dodawaj żadnych dodatkowych wyjaśnień, napisz tylko samo tłumaczenie:\",\n",
    "    0.0\n",
    ")\n",
    "output2"
   ]
  },
  {
   "cell_type": "code",
   "execution_count": 52,
   "id": "f0c1cc85",
   "metadata": {},
   "outputs": [
    {
     "data": {
      "text/plain": [
       "'Oto lista wszystkich nazw własnych i imion z podanego zdania:\\n\\n1. Jane - imię osobowe\\n2. Scratch - nie jest to ani imię, ani nazwa własna; jest to czasownik oznaczający \"drapać\"\\n3. Back - również nie jest to ani imię, ani nazwa własna; jest to rzeczownik oznaczający \"plecy\"\\n4. I\\'ll - zaimek osobowy w drugiej osobie liczby pojedynczej\\n5. Yours - zaimek dzierżawczy oznaczający \"twoje\"\\n\\nPodsumowując, jedyną nazwą własną lub imieniem w tym zdaniu jest \"Jane\".'"
      ]
     },
     "execution_count": 52,
     "metadata": {},
     "output_type": "execute_result"
    }
   ],
   "source": [
    "names = prompt_chat_custom_temperature(\n",
    "    MODEL_ID, \n",
    "    f\"Wypisz wszystkie nazwy własne oraz imiona z podanego zdania: {sentence_to_translate} \\n\",\n",
    "    0.0\n",
    ")\n",
    "names"
   ]
  },
  {
   "cell_type": "code",
   "execution_count": 54,
   "id": "ed23a66b",
   "metadata": {},
   "outputs": [
    {
     "data": {
      "text/plain": [
       "'Tłumaczenie podanego zdania na język polski:\\n\\n\"Jesteś zabawna, Jane, ale będzie cię to kosztować. Podrap mnie po plecach, a ja podrapię ciebie.\"\\n\\nW tym tłumaczeniu:\\n- \"Jane\" pozostaje bez zmian jako imię własne.\\n- Czasowniki \"scratch\" (podrapać) i \"back\" (plecy) zostały przetłumaczone dosłownie.\\n- Zaimki \"I\\'ll\" (ja) i \"yours\" (twoje) zostały oddane odpowiednimi formami w języku polskim.'"
      ]
     },
     "execution_count": 54,
     "metadata": {},
     "output_type": "execute_result"
    }
   ],
   "source": [
    "translation_with_names = prompt_chat_custom_temperature(\n",
    "    MODEL_ID, \n",
    "    f\"Zdanie do przetłumaczenia {sentence_to_translate} \\n\"+\n",
    "    f\"Oto znalezione nazwy własne w podanym do tłumaczenia zdaniu {names} \\n\"+\n",
    "    f\"Przetłumacz podane do tłumaczenia zdanie na język polski. Jeżeli nazwa własna nie jest po polsku, nie odmieniaj jej, natomiast znaleziona nazwa własne jest po Polsku, odmień ją. \\n\",\n",
    "    0.0\n",
    ")\n",
    "translation_with_names"
   ]
  },
  {
   "cell_type": "code",
   "execution_count": 57,
   "id": "f4e8fea8",
   "metadata": {},
   "outputs": [
    {
     "data": {
      "text/plain": [
       "'\"Jesteś zabawny Jane, ale to cię będzie kosztować. Podrap mnie po plecach, ja podrapię ciebie.\"'"
      ]
     },
     "execution_count": 57,
     "metadata": {},
     "output_type": "execute_result"
    }
   ],
   "source": [
    "output1 = prompt_chat_custom_temperature(\n",
    "    MODEL_ID,\n",
    "    f\"Zdanie do przetłumaczenia: {sentence_to_translate} \\n\"+\n",
    "    f\"Kontekst: {context} \\n\"+\n",
    "    f\"Wypisz wszystkie nazwy własne oraz imiona z podanego zdania \\n\"+\n",
    "    f\"Znajdź w podanym do tłumaczenia zdaniu powiedzenia/idiomy, kórych znaczenie jest inne niż dosłowne znaczenia słów, a następnie przetłumacz je na odpowiedniki po polsku i wypisz je.\\n\"+ \n",
    "    f\"Następnie korzystając ze znalezionych odpowiedników idiomów oraz nazw własnych, przetłumacz całe zdanie na język polski. Jeżeli nazwa własna nie jest po polsku, nie odmieniaj jej. \\n\"+\n",
    "    f\"Następnie przepisz podane zdanie na polski zgodnie z podanym kotekstem\",\n",
    "    0.0\n",
    ")\n",
    "output2 = prompt_chat_custom_temperature(\n",
    "    MODEL_ID, \n",
    "    f\"Oto próba przetłumaczenia zdania: {output1} \\n\"+\n",
    "    f\"Wyciągnij z podanego tekstu samo tłumaczenie zdania i nie dodawaj żadnych dodatkowych wyjaśnień, napisz tylko samo tłumaczenie:\",\n",
    "    0.0\n",
    ")\n",
    "output2"
   ]
  },
  {
   "cell_type": "code",
   "execution_count": 58,
   "id": "b565a113",
   "metadata": {},
   "outputs": [],
   "source": [
    "context = \"Zdanie jest elementem dialogu. Wypowiada je mężczyzna w stronę kobiety. \\n\""
   ]
  },
  {
   "cell_type": "code",
   "execution_count": 59,
   "id": "e8addbf6",
   "metadata": {},
   "outputs": [
    {
     "data": {
      "text/plain": [
       "'\"Jesteś zabawna, Jane, ale to cię będzie kosztować. Podrap mnie po plecach, ja podrapię ciebie.\"'"
      ]
     },
     "execution_count": 59,
     "metadata": {},
     "output_type": "execute_result"
    }
   ],
   "source": [
    "output1 = prompt_chat_custom_temperature(\n",
    "    MODEL_ID,\n",
    "    f\"Zdanie do przetłumaczenia: {sentence_to_translate} \\n\"+\n",
    "    f\"Kontekst: {context} \\n\"+\n",
    "    f\"Wypisz wszystkie nazwy własne oraz imiona z podanego zdania \\n\"+\n",
    "    f\"Znajdź w podanym do tłumaczenia zdaniu powiedzenia/idiomy, kórych znaczenie jest inne niż dosłowne znaczenia słów, a następnie przetłumacz je na odpowiedniki po polsku i wypisz je.\\n\"+ \n",
    "    f\"Następnie korzystając ze znalezionych odpowiedników idiomów oraz nazw własnych, przetłumacz całe zdanie na język polski. Jeżeli nazwa własna nie jest po polsku, nie odmieniaj jej. \\n\"+\n",
    "    f\"Następnie przepisz podane zdanie na polski zgodnie z podanym kotekstem\",\n",
    "    0.0\n",
    ")\n",
    "output2 = prompt_chat_custom_temperature(\n",
    "    MODEL_ID, \n",
    "    f\"Oto próba przetłumaczenia zdania: {output1} \\n\"+\n",
    "    f\"Wyciągnij z podanego tekstu samo tłumaczenie zdania i nie dodawaj żadnych dodatkowych wyjaśnień, napisz tylko samo tłumaczenie:\",\n",
    "    0.0\n",
    ")\n",
    "output2"
   ]
  },
  {
   "cell_type": "code",
   "execution_count": 60,
   "id": "4f981c04",
   "metadata": {},
   "outputs": [
    {
     "data": {
      "text/plain": [
       "'### Nazwy własne i imiona\\nW podanym zdaniu występuje jedno imię:\\n- Jane\\n\\n### Idiomy i ich odpowiedniki po polsku\\n1. \"You\\'re funny Jane but it\\'ll cost you.\" - Odpowiednik: \"Jesteś zabawna, Jane, ale to cię będzie kosztować.\"\\n   - To wyrażenie sugeruje, że osoba może być zabawna lub atrakcyjna, ale za pewną cenę lub konsekwencję.\\n\\n2. \"Scratch my back, I\\'ll scratch yours.\" - Odpowiednik: \"Podrap mnie po plecach, ja podrapię ciebie.\"\\n   - To popularne powiedzenie oznaczające wzajemną pomoc lub współpracę.\\n\\n### Tłumaczenie całego zdania na język polski\\n\"Jesteś zabawna, Jane, ale to cię będzie kosztować. Podrap mnie po plecach, ja podrapię ciebie.\"\\n\\n### Przepisane zdanie zgodnie z kontekstem\\nMężczyzna wypowiadający te słowa do kobiety:\\n\\n\"Jesteś zabawna, Jane, ale to cię będzie kosztować. Podrap mnie po plecach, ja podrapię ciebie.\"'"
      ]
     },
     "execution_count": 60,
     "metadata": {},
     "output_type": "execute_result"
    }
   ],
   "source": [
    "output1"
   ]
  },
  {
   "cell_type": "code",
   "execution_count": 61,
   "id": "9e29f817",
   "metadata": {},
   "outputs": [
    {
     "data": {
      "text/plain": [
       "'Jesteś zabawna, Janino, ale to ci się odbije czkawką. Jak Kuba Bogu, tak Bóg Kubie.'"
      ]
     },
     "execution_count": 61,
     "metadata": {},
     "output_type": "execute_result"
    }
   ],
   "source": [
    "output1 = prompt_chat_custom_temperature(\n",
    "    MODEL_ID,\n",
    "    f\"Zdanie do przetłumaczenia: {sentence_to_translate} \\n\"+\n",
    "    f\"Kontekst: {context} \\n\"+\n",
    "    f\"Znajdź w podanym do tłumaczenia zdaniu powiedzenia/idiomy, kórych znaczenie jest inne niż dosłowne znaczenia słów, a następnie przetłumacz je na odpowiedniki po polsku i wypisz je.\\n\"+ \n",
    "    f\"Następnie korzystając ze znalezionych odpowiedników idiomów oraz nazw własnych, przetłumacz całe zdanie na język polski. \\n\"+\n",
    "    f\"Następnie przepisz podane zdanie na polski zgodnie z podanym kotekstem\",\n",
    "    0.0\n",
    ")\n",
    "output2 = prompt_chat_custom_temperature(\n",
    "    MODEL_ID, \n",
    "    f\"Oto próba przetłumaczenia zdania: {output1} \\n\"+\n",
    "    f\"Wyciągnij z podanego tekstu samo tłumaczenie zdania i nie dodawaj żadnych dodatkowych wyjaśnień, napisz tylko samo tłumaczenie:\",\n",
    "    0.0\n",
    ")\n",
    "output2"
   ]
  }
 ],
 "metadata": {
  "kernelspec": {
   "display_name": ".venv",
   "language": "python",
   "name": "python3"
  },
  "language_info": {
   "codemirror_mode": {
    "name": "ipython",
    "version": 3
   },
   "file_extension": ".py",
   "mimetype": "text/x-python",
   "name": "python",
   "nbconvert_exporter": "python",
   "pygments_lexer": "ipython3",
   "version": "3.11.2"
  }
 },
 "nbformat": 4,
 "nbformat_minor": 5
}
