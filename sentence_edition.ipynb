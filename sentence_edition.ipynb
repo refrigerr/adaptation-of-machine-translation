{
 "cells": [
  {
   "cell_type": "code",
   "execution_count": 1,
   "id": "92577d01",
   "metadata": {},
   "outputs": [],
   "source": [
    "with open(\"key.txt\", \"r\") as file:\n",
    "    API_KEY_CLARIN = file.read().strip()\n",
    "\n",
    "MODELS_ENDPOINT = \"https://services.clarin-pl.eu/api/v1/oapi/models\"\n",
    "COMPLETIONS_ENDPOINT = \"https://services.clarin-pl.eu/api/v1/oapi/chat/completions\"\n",
    "CLARIN_BASE_URL = \"https://services.clarin-pl.eu/api/v1/oapi\"\n",
    "\n",
    "MODEL_ID = \"bielik\""
   ]
  },
  {
   "cell_type": "code",
   "execution_count": 2,
   "id": "73904503",
   "metadata": {},
   "outputs": [],
   "source": [
    "import requests\n",
    "import pandas as pd\n",
    "import json\n",
    "import time\n",
    "import requests"
   ]
  },
  {
   "cell_type": "code",
   "execution_count": 3,
   "id": "26b5783d",
   "metadata": {},
   "outputs": [],
   "source": [
    "def prompt_chat_custom_temperature(model_id, prompt, temperature = 0.3):\n",
    "    url = COMPLETIONS_ENDPOINT\n",
    "    headers = {\"Authorization\": f\"Bearer {API_KEY_CLARIN}\", \"Content-Type\": \"application/json\"}\n",
    "    messages = []\n",
    "    messages.append({\"role\": \"user\", \"content\": prompt})\n",
    "    data = {\n",
    "        \"model\": model_id,\n",
    "        \"messages\": messages,\n",
    "        \"temperature\": temperature\n",
    "        #\"max_tokens\": max_tokens\n",
    "    }\n",
    "    response = requests.post(url, json=data, headers=headers)\n",
    "    if response.status_code == 200:\n",
    "        try:\n",
    "            data = response.json()\n",
    "            if isinstance(data, dict) and \"choices\" in data and data[\"choices\"]:\n",
    "                return data[\"choices\"][0].get(\"message\", {}).get(\"content\", None)\n",
    "            else:\n",
    "                return None  # Handle unexpected response structure\n",
    "        except (ValueError, TypeError, AttributeError):\n",
    "            return None  # Handle cases where response.json() is None or not as expected\n",
    "    else:\n",
    "        return None  # Handle non-200 status codes"
   ]
  },
  {
   "cell_type": "code",
   "execution_count": 4,
   "id": "3fb1d707",
   "metadata": {},
   "outputs": [
    {
     "data": {
      "text/html": [
       "<div>\n",
       "<style scoped>\n",
       "    .dataframe tbody tr th:only-of-type {\n",
       "        vertical-align: middle;\n",
       "    }\n",
       "\n",
       "    .dataframe tbody tr th {\n",
       "        vertical-align: top;\n",
       "    }\n",
       "\n",
       "    .dataframe thead th {\n",
       "        text-align: right;\n",
       "    }\n",
       "</style>\n",
       "<table border=\"1\" class=\"dataframe\">\n",
       "  <thead>\n",
       "    <tr style=\"text-align: right;\">\n",
       "      <th></th>\n",
       "      <th>en_text</th>\n",
       "      <th>pl_text</th>\n",
       "    </tr>\n",
       "  </thead>\n",
       "  <tbody>\n",
       "    <tr>\n",
       "      <th>0</th>\n",
       "      <td>Hey, everyone! Wanna hear about Fyresdal?</td>\n",
       "      <td>Ej, ludzie! Chcecie posłuchać o Fyresdal?</td>\n",
       "    </tr>\n",
       "    <tr>\n",
       "      <th>1</th>\n",
       "      <td>Hey, good folk! Wanna hear what our brave guar...</td>\n",
       "      <td>Ej, ludzie! Chcecie usłyszeć, co nasz dzielny ...</td>\n",
       "    </tr>\n",
       "    <tr>\n",
       "      <th>2</th>\n",
       "      <td>Shut your trap, dammit!</td>\n",
       "      <td>Stul pysk, do cholery!</td>\n",
       "    </tr>\n",
       "    <tr>\n",
       "      <th>3</th>\n",
       "      <td>Four against one - and you came out alive.</td>\n",
       "      <td>Czterech na jednego. A dałeś radę.</td>\n",
       "    </tr>\n",
       "    <tr>\n",
       "      <th>4</th>\n",
       "      <td>Shame to let such a lad waste away behind bars...</td>\n",
       "      <td>Szkoda, żeby taki chłop marniał za kratkami......</td>\n",
       "    </tr>\n",
       "    <tr>\n",
       "      <th>...</th>\n",
       "      <td>...</td>\n",
       "      <td>...</td>\n",
       "    </tr>\n",
       "    <tr>\n",
       "      <th>8375</th>\n",
       "      <td>Farewell.</td>\n",
       "      <td>Bywaj.</td>\n",
       "    </tr>\n",
       "    <tr>\n",
       "      <th>8376</th>\n",
       "      <td>Farewell.</td>\n",
       "      <td>Bywaj.</td>\n",
       "    </tr>\n",
       "    <tr>\n",
       "      <th>8377</th>\n",
       "      <td>What do you have on offer?</td>\n",
       "      <td>Pokaż mi swoje towary.</td>\n",
       "    </tr>\n",
       "    <tr>\n",
       "      <th>8378</th>\n",
       "      <td>Show me what you have in stock.</td>\n",
       "      <td>Pokaż mi swoje towary.</td>\n",
       "    </tr>\n",
       "    <tr>\n",
       "      <th>8379</th>\n",
       "      <td>You're back, White Hair.</td>\n",
       "      <td>Wróciłeś, białowłosy.</td>\n",
       "    </tr>\n",
       "  </tbody>\n",
       "</table>\n",
       "<p>8380 rows × 2 columns</p>\n",
       "</div>"
      ],
      "text/plain": [
       "                                                en_text  \\\n",
       "0             Hey, everyone! Wanna hear about Fyresdal?   \n",
       "1     Hey, good folk! Wanna hear what our brave guar...   \n",
       "2                               Shut your trap, dammit!   \n",
       "3            Four against one - and you came out alive.   \n",
       "4     Shame to let such a lad waste away behind bars...   \n",
       "...                                                 ...   \n",
       "8375                                          Farewell.   \n",
       "8376                                          Farewell.   \n",
       "8377                         What do you have on offer?   \n",
       "8378                    Show me what you have in stock.   \n",
       "8379                           You're back, White Hair.   \n",
       "\n",
       "                                                pl_text  \n",
       "0             Ej, ludzie! Chcecie posłuchać o Fyresdal?  \n",
       "1     Ej, ludzie! Chcecie usłyszeć, co nasz dzielny ...  \n",
       "2                                Stul pysk, do cholery!  \n",
       "3                    Czterech na jednego. A dałeś radę.  \n",
       "4     Szkoda, żeby taki chłop marniał za kratkami......  \n",
       "...                                                 ...  \n",
       "8375                                             Bywaj.  \n",
       "8376                                             Bywaj.  \n",
       "8377                             Pokaż mi swoje towary.  \n",
       "8378                             Pokaż mi swoje towary.  \n",
       "8379                              Wróciłeś, białowłosy.  \n",
       "\n",
       "[8380 rows x 2 columns]"
      ]
     },
     "execution_count": 4,
     "metadata": {},
     "output_type": "execute_result"
    }
   ],
   "source": [
    "df = pd.read_csv(\"data/dataset.csv\", delimiter=\"|\")\n",
    "df"
   ]
  },
  {
   "cell_type": "code",
   "execution_count": 5,
   "id": "5675a7e8",
   "metadata": {},
   "outputs": [],
   "source": [
    "sentences = [\"Unless… She coexists with drowners… Maybe I could make an extract from their glands, cover up my scent.\", \n",
    "             \"When'd you lose your voice? Can you show me, hold up some fingers?\",\n",
    "             \"Pirate Leader\",\n",
    "             \"You're dull as dirt. *Yaaawn*\",\n",
    "             \"Jarl of Undvik - tell me about his death.\",\n",
    "             \"Let's go see Udalryk. Be interesting to see if there actually is a ghost in all this.\",\n",
    "             \"Bad way to play it out.\",\n",
    "             \"So? Ready?\"]"
   ]
  },
  {
   "cell_type": "code",
   "execution_count": 7,
   "id": "67d44f37",
   "metadata": {},
   "outputs": [
    {
     "data": {
      "text/plain": [
       "'Jesteś nudny jak flaki z olejem. *Ziewnięcie*'"
      ]
     },
     "execution_count": 7,
     "metadata": {},
     "output_type": "execute_result"
    }
   ],
   "source": [
    "prompt_chat_custom_temperature(\n",
    "    MODEL_ID, \n",
    "    f\"Przetłumacz na polski i nie dodawaj żadnych dodatkowych wyjaśnień, napisz tylko samo tłumaczenie: '{sentences[3]}'\", \n",
    "    0.0\n",
    ")"
   ]
  },
  {
   "cell_type": "code",
   "execution_count": 8,
   "id": "3b2bd0bd",
   "metadata": {},
   "outputs": [],
   "source": [
    "context = \"Zdanie jest elementem dialogu. Wypowiada je mężczyzna w stronę kobiety. \\n\""
   ]
  },
  {
   "cell_type": "code",
   "execution_count": 9,
   "id": "37136f4a",
   "metadata": {},
   "outputs": [
    {
     "data": {
      "text/plain": [
       "'Jesteś nudna jak flaki z olejem. *Ziewnięcie*'"
      ]
     },
     "execution_count": 9,
     "metadata": {},
     "output_type": "execute_result"
    }
   ],
   "source": [
    "prompt_chat_custom_temperature(\n",
    "    MODEL_ID, \n",
    "    f\"Oto kontekst: {context} Przetłumacz na polski i nie dodawaj żadnych dodatkowych wyjaśnień, napisz tylko samo tłumaczenie: '{sentences[3]}'\", \n",
    "    0.0\n",
    ")"
   ]
  },
  {
   "cell_type": "code",
   "execution_count": 12,
   "id": "2b38dc32",
   "metadata": {},
   "outputs": [],
   "source": [
    "rule1 = \"W dialogu mogą wystąpić słowa opisujące dzwięki wydawane przez osobę, która mówi. Podczas tłumaczenia zamień te słowa na faktycznie dzwięki, wydawane podczas tej czynności. \\n\" \n",
    "examples = \"Yawn - Aaah \\n Sneeze - Apsik \\n\""
   ]
  },
  {
   "cell_type": "code",
   "execution_count": 13,
   "id": "860127ae",
   "metadata": {},
   "outputs": [
    {
     "data": {
      "text/plain": [
       "'Jesteś nudny jak flaki z olejem. *Aaah*'"
      ]
     },
     "execution_count": 13,
     "metadata": {},
     "output_type": "execute_result"
    }
   ],
   "source": [
    "prompt_chat_custom_temperature(\n",
    "    MODEL_ID, \n",
    "    f\"Zasada: {rule1} Przykłady: {examples} Przetłumacz na polski i nie dodawaj żadnych dodatkowych wyjaśnień, napisz tylko samo tłumaczenie: '{sentences[3]}'\", \n",
    "    0.0\n",
    ")"
   ]
  },
  {
   "cell_type": "code",
   "execution_count": 14,
   "id": "6f7e5fae",
   "metadata": {},
   "outputs": [
    {
     "data": {
      "text/plain": [
       "'Jesteś nudny jak flaki z olejem. *Aaah*'"
      ]
     },
     "execution_count": 14,
     "metadata": {},
     "output_type": "execute_result"
    }
   ],
   "source": [
    "prompt_chat_custom_temperature(\n",
    "    MODEL_ID, \n",
    "    f\"Oto kontekst: {context} Zasada: {rule1} Przykłady: {examples} Przetłumacz na polski i nie dodawaj żadnych dodatkowych wyjaśnień, napisz tylko samo tłumaczenie: '{sentences[3]}'\", \n",
    "    0.0\n",
    ")"
   ]
  },
  {
   "cell_type": "code",
   "execution_count": 15,
   "id": "3f3b9c7c",
   "metadata": {},
   "outputs": [
    {
     "data": {
      "text/plain": [
       "'Jesteś nudna jak flaki z olejem. *Ziewnięcie*'"
      ]
     },
     "execution_count": 15,
     "metadata": {},
     "output_type": "execute_result"
    }
   ],
   "source": [
    "prompt_chat_custom_temperature(\n",
    "    MODEL_ID, \n",
    "    f\"Oto podane zdanie: {sentences[3]} \\n Kontekst: {context} Zasada: {rule1} Przykłady: {examples} Przetłumacz podane zdanie na polski i nie dodawaj żadnych dodatkowych wyjaśnień, napisz tylko samo tłumaczenie. Podczas tłumaczenia uwzględnij zasady i kontekst:\", \n",
    "    0.0\n",
    ")"
   ]
  },
  {
   "cell_type": "code",
   "execution_count": 16,
   "id": "314e664f",
   "metadata": {},
   "outputs": [
    {
     "data": {
      "text/plain": [
       "'Jesteś nudny jak flaki z olejem. *Ziewnięcie*'"
      ]
     },
     "execution_count": 16,
     "metadata": {},
     "output_type": "execute_result"
    }
   ],
   "source": [
    "translationv1 = prompt_chat_custom_temperature(\n",
    "    MODEL_ID, \n",
    "    f\"Przetłumacz na polski i nie dodawaj żadnych dodatkowych wyjaśnień, napisz tylko samo tłumaczenie: '{sentences[3]}'\", \n",
    "    0.0\n",
    ")\n",
    "translationv1"
   ]
  },
  {
   "cell_type": "code",
   "execution_count": 17,
   "id": "d71c0af1",
   "metadata": {},
   "outputs": [
    {
     "data": {
      "text/plain": [
       "'\"Jesteś tak nudny, że mogłabym zasnąć stojąc.\" *Ziewnięcie*'"
      ]
     },
     "execution_count": 17,
     "metadata": {},
     "output_type": "execute_result"
    }
   ],
   "source": [
    "translationv2 = prompt_chat_custom_temperature(\n",
    "    MODEL_ID, \n",
    "    f\"Oto kontekst: {context} Przepisz podane zdanie na polski zgodnie z podanym kotekstem i nie dodawaj żadnych dodatkowych wyjaśnień, napisz tylko samo tłumaczenie: '{translationv1}'\",\n",
    "    0.0\n",
    ")\n",
    "translationv2"
   ]
  },
  {
   "cell_type": "code",
   "execution_count": 18,
   "id": "d7819ebf",
   "metadata": {},
   "outputs": [],
   "source": [
    "context2 = \"Zdanie wypowiadane jest przez mężczyzne w stronę kobiety \\n\""
   ]
  },
  {
   "cell_type": "code",
   "execution_count": 19,
   "id": "fddf1190",
   "metadata": {},
   "outputs": [
    {
     "data": {
      "text/plain": [
       "'Jesteś nudna jak flaki z olejem. *Ziewnięcie*'"
      ]
     },
     "execution_count": 19,
     "metadata": {},
     "output_type": "execute_result"
    }
   ],
   "source": [
    "translationv2 = prompt_chat_custom_temperature(\n",
    "    MODEL_ID, \n",
    "    f\"Zdanie po tłumaczniu bez kontekstu: '{translationv1}'\\n Kontekst zdania: {context}\\n Odmień wyrazy w podanym tłumaczeniu tak aby pasowały do kontekstu zdania. Napisz tylko i wyłącznie samo poprawione tłumaczenie i nie dodawaj żadnych dodatkowych wyujaśnień:\",\n",
    "    0.0\n",
    ")\n",
    "translationv2"
   ]
  },
  {
   "cell_type": "code",
   "execution_count": 20,
   "id": "178d16ab",
   "metadata": {},
   "outputs": [
    {
     "data": {
      "text/plain": [
       "'Jesteś nudna jak flaki z olejem. *Aaah*'"
      ]
     },
     "execution_count": 20,
     "metadata": {},
     "output_type": "execute_result"
    }
   ],
   "source": [
    "translationv3 = prompt_chat_custom_temperature(\n",
    "    MODEL_ID, \n",
    "    f\"Zdanie po tłumaczniu '{translationv2}'\\n Zasady: {rule1}\\n Przykłady zasady: {examples}\\n Zastosuj zasady wedle przykładów na podanym zdaniu i napisz tylko i wyłącznie samo poprawione zdanie, nie dodawaj żadnych dodatkowych wyjaśnień:\",\n",
    "    0.0\n",
    ")\n",
    "translationv3"
   ]
  }
 ],
 "metadata": {
  "kernelspec": {
   "display_name": ".venv",
   "language": "python",
   "name": "python3"
  },
  "language_info": {
   "codemirror_mode": {
    "name": "ipython",
    "version": 3
   },
   "file_extension": ".py",
   "mimetype": "text/x-python",
   "name": "python",
   "nbconvert_exporter": "python",
   "pygments_lexer": "ipython3",
   "version": "3.11.2"
  }
 },
 "nbformat": 4,
 "nbformat_minor": 5
}
