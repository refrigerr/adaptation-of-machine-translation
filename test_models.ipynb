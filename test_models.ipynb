{
 "cells": [
  {
   "cell_type": "code",
   "execution_count": null,
   "metadata": {},
   "outputs": [],
   "source": [
    "API_KEY = \"\"\n",
    "MODELS_ENDPOINT = \"https://services.clarin-pl.eu/api/v1/oapi/models\"\n",
    "COMPLETIONS_ENDPOINT = \"https://services.clarin-pl.eu/api/v1/oapi/chat/completions\"\n",
    "CLARIN_BASE_URL = \"https://services.clarin-pl.eu/api/v1/oapi\""
   ]
  },
  {
   "cell_type": "code",
   "execution_count": 3,
   "metadata": {},
   "outputs": [],
   "source": [
    "import requests\n",
    "import pandas as pd"
   ]
  },
  {
   "cell_type": "code",
   "execution_count": 4,
   "metadata": {},
   "outputs": [],
   "source": [
    "def get_models():\n",
    "    headers = {\n",
    "        'Authorization': f'Bearer {API_KEY}',  \n",
    "        'Content-Type': 'application/json'\n",
    "    }\n",
    "    response = requests.get(MODELS_ENDPOINT, headers=headers)  \n",
    "    if response.status_code == 200:\n",
    "        return response.json() "
   ]
  },
  {
   "cell_type": "code",
   "execution_count": 66,
   "metadata": {},
   "outputs": [],
   "source": [
    "def prompt_chat(model_id, prompt):\n",
    "    url = COMPLETIONS_ENDPOINT\n",
    "    headers = {\"Authorization\": f\"Bearer {API_KEY}\", \"Content-Type\": \"application/json\"}\n",
    "    messages = []\n",
    "    messages.append({\"role\": \"user\", \"content\": prompt})\n",
    "    data = {\n",
    "        \"model\": model_id,\n",
    "        \"messages\": messages\n",
    "    }\n",
    "    response = requests.post(url, json=data, headers=headers)\n",
    "    if response.status_code == 200:\n",
    "        try:\n",
    "            data = response.json()\n",
    "            if isinstance(data, dict) and \"choices\" in data and data[\"choices\"]:\n",
    "                return data[\"choices\"][0].get(\"message\", {}).get(\"content\", None)\n",
    "            else:\n",
    "                return None  # Handle unexpected response structure\n",
    "        except (ValueError, TypeError, AttributeError):\n",
    "            return None  # Handle cases where response.json() is None or not as expected"
   ]
  },
  {
   "cell_type": "code",
   "execution_count": 67,
   "metadata": {},
   "outputs": [],
   "source": [
    "def prompt_chat_custom_temperature(model_id, prompt, temperature = 0.3):\n",
    "    url = COMPLETIONS_ENDPOINT\n",
    "    headers = {\"Authorization\": f\"Bearer {API_KEY}\", \"Content-Type\": \"application/json\"}\n",
    "    messages = []\n",
    "    messages.append({\"role\": \"user\", \"content\": prompt})\n",
    "    data = {\n",
    "        \"model\": model_id,\n",
    "        \"messages\": messages,\n",
    "        \"temperature\": temperature\n",
    "        #\"max_tokens\": max_tokens\n",
    "    }\n",
    "    response = requests.post(url, json=data, headers=headers)\n",
    "    if response.status_code == 200:\n",
    "        try:\n",
    "            data = response.json()\n",
    "            if isinstance(data, dict) and \"choices\" in data and data[\"choices\"]:\n",
    "                return data[\"choices\"][0].get(\"message\", {}).get(\"content\", None)\n",
    "            else:\n",
    "                return None  # Handle unexpected response structure\n",
    "        except (ValueError, TypeError, AttributeError):\n",
    "            return None  # Handle cases where response.json() is None or not as expected"
   ]
  },
  {
   "cell_type": "code",
   "execution_count": 5,
   "metadata": {},
   "outputs": [
    {
     "name": "stdout",
     "output_type": "stream",
     "text": [
      "{'data': [{'id': 'bielik', 'full_name': 'speakleash/Bielik-11B-v2.2-Instruct', 'name': 'speakleash/Bielik-11B-v2.2-Instruct', 'type': 'chat'}, {'id': 'cohere', 'full_name': 'CohereForAI/c4ai-command-r-plus', 'name': 'CohereForAI/c4ai-command-r-plus', 'type': 'chat'}, {'id': 'llama3.1', 'full_name': 'meta-llama/Meta-Llama-3.1-70B-Instruct', 'name': 'meta-llama/Meta-Llama-3.1-70B-Instruct', 'type': 'chat'}, {'id': 'llama-guard', 'full_name': 'meta-llama/Llama-Guard-3-8B', 'name': 'meta-llama/Llama-Guard-3-8B', 'type': 'chat'}, {'id': 'llama3.1-8b', 'full_name': 'meta-llama/Llama-3.1-8B-Instruct', 'name': 'meta-llama/Llama-3.1-8B-Instruct', 'type': 'chat'}, {'id': 'openchat', 'full_name': 'openchat/openchat-3.5-1210', 'name': 'openchat/openchat-3.5-1210', 'type': 'chat'}, {'id': 'llama3.3', 'full_name': 'meta-llama/Llama-3.3-70B-Instruct', 'name': 'meta-llama/Llama-3.3-70B-Instruct', 'type': 'chat'}, {'id': 'mixtral-8x22B', 'full_name': 'mistralai/Mixtral-8x22B-Instruct-v0.1', 'name': 'mistralai/Mixtral-8x22B-Instruct-v0.1', 'type': 'chat'}, {'id': 'llama', 'full_name': 'meta-llama/Llama-3.1-8B-Instruct', 'name': 'meta-llama/Llama-3.1-8B-Instruct', 'type': 'chat'}]}\n"
     ]
    }
   ],
   "source": [
    "models = get_models()\n",
    "print(models)"
   ]
  },
  {
   "cell_type": "code",
   "execution_count": 6,
   "metadata": {},
   "outputs": [],
   "source": [
    "english_data = pd.read_csv(\"data/en.w3strings.csv\", delimiter=\"|\", header=None).iloc[:, 3:]\n",
    "english_data.columns = [\"en_text\"]\n",
    "\n",
    "polish_data = pd.read_csv(\"data/pl.w3strings.csv\", delimiter=\"|\", header=None).iloc[:, 3:]\n",
    "polish_data.columns = [\"pl_text\"]\n",
    "\n",
    "df = pd.concat([english_data, polish_data], axis=1)"
   ]
  },
  {
   "cell_type": "code",
   "execution_count": 7,
   "metadata": {},
   "outputs": [
    {
     "data": {
      "text/html": [
       "<div>\n",
       "<style scoped>\n",
       "    .dataframe tbody tr th:only-of-type {\n",
       "        vertical-align: middle;\n",
       "    }\n",
       "\n",
       "    .dataframe tbody tr th {\n",
       "        vertical-align: top;\n",
       "    }\n",
       "\n",
       "    .dataframe thead th {\n",
       "        text-align: right;\n",
       "    }\n",
       "</style>\n",
       "<table border=\"1\" class=\"dataframe\">\n",
       "  <thead>\n",
       "    <tr style=\"text-align: right;\">\n",
       "      <th></th>\n",
       "      <th>en_text</th>\n",
       "      <th>pl_text</th>\n",
       "    </tr>\n",
       "  </thead>\n",
       "  <tbody>\n",
       "    <tr>\n",
       "      <th>0</th>\n",
       "      <td>Hey, everyone! Wanna hear about Fyresdal?</td>\n",
       "      <td>Ej, ludzie! Chcecie posłuchać o Fyresdal?</td>\n",
       "    </tr>\n",
       "    <tr>\n",
       "      <th>1</th>\n",
       "      <td>Hey, good folk! Wanna hear what our brave guar...</td>\n",
       "      <td>Ej, ludzie! Chcecie usłyszeć, co nasz dzielny ...</td>\n",
       "    </tr>\n",
       "    <tr>\n",
       "      <th>2</th>\n",
       "      <td>Shut your trap, dammit!</td>\n",
       "      <td>Stul pysk, do cholery!</td>\n",
       "    </tr>\n",
       "    <tr>\n",
       "      <th>3</th>\n",
       "      <td>Four against one - and you came out alive.</td>\n",
       "      <td>Czterech na jednego. A dałeś radę.</td>\n",
       "    </tr>\n",
       "    <tr>\n",
       "      <th>4</th>\n",
       "      <td>Shame to let such a lad waste away behind bars...</td>\n",
       "      <td>Szkoda, żeby taki chłop marniał za kratkami......</td>\n",
       "    </tr>\n",
       "    <tr>\n",
       "      <th>...</th>\n",
       "      <td>...</td>\n",
       "      <td>...</td>\n",
       "    </tr>\n",
       "    <tr>\n",
       "      <th>8376</th>\n",
       "      <td>Farewell.</td>\n",
       "      <td>Bywaj.</td>\n",
       "    </tr>\n",
       "    <tr>\n",
       "      <th>8377</th>\n",
       "      <td>Farewell.</td>\n",
       "      <td>Bywaj.</td>\n",
       "    </tr>\n",
       "    <tr>\n",
       "      <th>8378</th>\n",
       "      <td>What do you have on offer?</td>\n",
       "      <td>Pokaż mi swoje towary.</td>\n",
       "    </tr>\n",
       "    <tr>\n",
       "      <th>8379</th>\n",
       "      <td>Show me what you have in stock.</td>\n",
       "      <td>Pokaż mi swoje towary.</td>\n",
       "    </tr>\n",
       "    <tr>\n",
       "      <th>8380</th>\n",
       "      <td>You're back, White Hair.</td>\n",
       "      <td>Wróciłeś, białowłosy.</td>\n",
       "    </tr>\n",
       "  </tbody>\n",
       "</table>\n",
       "<p>8381 rows × 2 columns</p>\n",
       "</div>"
      ],
      "text/plain": [
       "                                                en_text  \\\n",
       "0             Hey, everyone! Wanna hear about Fyresdal?   \n",
       "1     Hey, good folk! Wanna hear what our brave guar...   \n",
       "2                               Shut your trap, dammit!   \n",
       "3            Four against one - and you came out alive.   \n",
       "4     Shame to let such a lad waste away behind bars...   \n",
       "...                                                 ...   \n",
       "8376                                          Farewell.   \n",
       "8377                                          Farewell.   \n",
       "8378                         What do you have on offer?   \n",
       "8379                    Show me what you have in stock.   \n",
       "8380                           You're back, White Hair.   \n",
       "\n",
       "                                                pl_text  \n",
       "0             Ej, ludzie! Chcecie posłuchać o Fyresdal?  \n",
       "1     Ej, ludzie! Chcecie usłyszeć, co nasz dzielny ...  \n",
       "2                                Stul pysk, do cholery!  \n",
       "3                    Czterech na jednego. A dałeś radę.  \n",
       "4     Szkoda, żeby taki chłop marniał za kratkami......  \n",
       "...                                                 ...  \n",
       "8376                                             Bywaj.  \n",
       "8377                                             Bywaj.  \n",
       "8378                             Pokaż mi swoje towary.  \n",
       "8379                             Pokaż mi swoje towary.  \n",
       "8380                              Wróciłeś, białowłosy.  \n",
       "\n",
       "[8381 rows x 2 columns]"
      ]
     },
     "execution_count": 7,
     "metadata": {},
     "output_type": "execute_result"
    }
   ],
   "source": [
    "df"
   ]
  },
  {
   "cell_type": "code",
   "execution_count": 8,
   "metadata": {},
   "outputs": [],
   "source": [
    "import nltk\n",
    "from nltk.translate.bleu_score import sentence_bleu"
   ]
  },
  {
   "cell_type": "code",
   "execution_count": 9,
   "metadata": {},
   "outputs": [
    {
     "name": "stderr",
     "output_type": "stream",
     "text": [
      "[nltk_data] Downloading package punkt to\n",
      "[nltk_data]     C:\\Users\\kajet\\AppData\\Roaming\\nltk_data...\n",
      "[nltk_data]   Package punkt is already up-to-date!\n"
     ]
    },
    {
     "data": {
      "text/plain": [
       "True"
      ]
     },
     "execution_count": 9,
     "metadata": {},
     "output_type": "execute_result"
    }
   ],
   "source": [
    "nltk.download('punkt')"
   ]
  },
  {
   "cell_type": "code",
   "execution_count": 10,
   "metadata": {},
   "outputs": [],
   "source": [
    "sentence_1 = nltk.word_tokenize(df['pl_text'][0])\n",
    "sentence_2 = nltk.word_tokenize(\"ej, ludzie! Chcecie posłuchać o Fyresdal?\")"
   ]
  },
  {
   "cell_type": "code",
   "execution_count": 11,
   "metadata": {},
   "outputs": [],
   "source": [
    "# Define the reference and hypothesis\n",
    "reference = [sentence_1]  # Treating sentence_1 as the reference\n",
    "hypothesis = sentence_2   # Treating sentence_2 as the hypothesis"
   ]
  },
  {
   "cell_type": "code",
   "execution_count": 12,
   "metadata": {},
   "outputs": [
    {
     "data": {
      "text/plain": [
       "[['Ej', ',', 'ludzie', '!', 'Chcecie', 'posłuchać', 'o', 'Fyresdal', '?']]"
      ]
     },
     "execution_count": 12,
     "metadata": {},
     "output_type": "execute_result"
    }
   ],
   "source": [
    "reference"
   ]
  },
  {
   "cell_type": "code",
   "execution_count": 13,
   "metadata": {},
   "outputs": [
    {
     "data": {
      "text/plain": [
       "['ej', ',', 'ludzie', '!', 'Chcecie', 'posłuchać', 'o', 'Fyresdal', '?']"
      ]
     },
     "execution_count": 13,
     "metadata": {},
     "output_type": "execute_result"
    }
   ],
   "source": [
    "hypothesis"
   ]
  },
  {
   "cell_type": "code",
   "execution_count": 14,
   "metadata": {},
   "outputs": [],
   "source": [
    "bleu_score = sentence_bleu(reference, hypothesis)"
   ]
  },
  {
   "cell_type": "code",
   "execution_count": 15,
   "metadata": {},
   "outputs": [
    {
     "data": {
      "text/plain": [
       "0.8633400213704505"
      ]
     },
     "execution_count": 15,
     "metadata": {},
     "output_type": "execute_result"
    }
   ],
   "source": [
    "bleu_score"
   ]
  },
  {
   "cell_type": "code",
   "execution_count": 16,
   "metadata": {},
   "outputs": [],
   "source": [
    "models = [\"bielik\", \"llama3.1\", \"llama3.1-8b\"]"
   ]
  },
  {
   "cell_type": "code",
   "execution_count": 49,
   "metadata": {},
   "outputs": [
    {
     "name": "stderr",
     "output_type": "stream",
     "text": [
      "d:\\Magister\\Magisterka\\pipeline_prototype\\.venv\\Lib\\site-packages\\nltk\\translate\\bleu_score.py:577: UserWarning: \n",
      "The hypothesis contains 0 counts of 3-gram overlaps.\n",
      "Therefore the BLEU score evaluates to 0, independently of\n",
      "how many N-gram overlaps of lower order it contains.\n",
      "Consider using lower n-gram order or use SmoothingFunction()\n",
      "  warnings.warn(_msg)\n"
     ]
    }
   ],
   "source": [
    "scores = []\n",
    "prompts = []\n",
    "for english_text, polish_text in zip(df[\"en_text\"].head(10), df[\"pl_text\"].head(10)):\n",
    "    prompt = prompt_chat('llama3.1', f\"Przetłumacz na polski i nie dodawaj niczego więcej: '{english_text}'\")\n",
    "    bleu_score = sentence_bleu([polish_text], prompt)\n",
    "    scores.append(bleu_score)\n",
    "    prompts.append(prompt)"
   ]
  },
  {
   "cell_type": "code",
   "execution_count": 50,
   "metadata": {},
   "outputs": [
    {
     "data": {
      "text/plain": [
       "0.38634308671236706"
      ]
     },
     "execution_count": 50,
     "metadata": {},
     "output_type": "execute_result"
    }
   ],
   "source": [
    "sum(scores) / len (scores)"
   ]
  },
  {
   "cell_type": "code",
   "execution_count": 35,
   "metadata": {},
   "outputs": [
    {
     "name": "stderr",
     "output_type": "stream",
     "text": [
      "d:\\Magister\\Magisterka\\pipeline_prototype\\.venv\\Lib\\site-packages\\nltk\\translate\\bleu_score.py:577: UserWarning: \n",
      "The hypothesis contains 0 counts of 2-gram overlaps.\n",
      "Therefore the BLEU score evaluates to 0, independently of\n",
      "how many N-gram overlaps of lower order it contains.\n",
      "Consider using lower n-gram order or use SmoothingFunction()\n",
      "  warnings.warn(_msg)\n",
      "d:\\Magister\\Magisterka\\pipeline_prototype\\.venv\\Lib\\site-packages\\nltk\\translate\\bleu_score.py:577: UserWarning: \n",
      "The hypothesis contains 0 counts of 3-gram overlaps.\n",
      "Therefore the BLEU score evaluates to 0, independently of\n",
      "how many N-gram overlaps of lower order it contains.\n",
      "Consider using lower n-gram order or use SmoothingFunction()\n",
      "  warnings.warn(_msg)\n",
      "d:\\Magister\\Magisterka\\pipeline_prototype\\.venv\\Lib\\site-packages\\nltk\\translate\\bleu_score.py:577: UserWarning: \n",
      "The hypothesis contains 0 counts of 4-gram overlaps.\n",
      "Therefore the BLEU score evaluates to 0, independently of\n",
      "how many N-gram overlaps of lower order it contains.\n",
      "Consider using lower n-gram order or use SmoothingFunction()\n",
      "  warnings.warn(_msg)\n"
     ]
    }
   ],
   "source": [
    "scores = []\n",
    "prompts = []\n",
    "for english_text, polish_text in zip(df[\"en_text\"].head(100), df[\"pl_text\"].head(100)):\n",
    "    prompt = prompt_chat_custom_temperature('llama3.1', f\"Przetłumacz na polski i nie dodawaj niczego więcej: '{english_text}'\", 0.0)\n",
    "    bleu_score = sentence_bleu([polish_text], prompt)\n",
    "    scores.append(bleu_score)\n",
    "    prompts.append(prompt)"
   ]
  },
  {
   "cell_type": "code",
   "execution_count": 36,
   "metadata": {},
   "outputs": [
    {
     "data": {
      "text/plain": [
       "0.45116670415916055"
      ]
     },
     "execution_count": 36,
     "metadata": {},
     "output_type": "execute_result"
    }
   ],
   "source": [
    "sum(scores) / len (scores)"
   ]
  },
  {
   "cell_type": "code",
   "execution_count": 44,
   "metadata": {},
   "outputs": [],
   "source": [
    "import numpy as np"
   ]
  },
  {
   "cell_type": "code",
   "execution_count": 58,
   "metadata": {},
   "outputs": [
    {
     "name": "stderr",
     "output_type": "stream",
     "text": [
      "d:\\Magister\\Magisterka\\pipeline_prototype\\.venv\\Lib\\site-packages\\nltk\\translate\\bleu_score.py:577: UserWarning: \n",
      "The hypothesis contains 0 counts of 2-gram overlaps.\n",
      "Therefore the BLEU score evaluates to 0, independently of\n",
      "how many N-gram overlaps of lower order it contains.\n",
      "Consider using lower n-gram order or use SmoothingFunction()\n",
      "  warnings.warn(_msg)\n"
     ]
    },
    {
     "name": "stdout",
     "output_type": "stream",
     "text": [
      "0.40316752684369705\n",
      "0.4014677001894846\n",
      "0.29393019643971746\n"
     ]
    }
   ],
   "source": [
    "model_bleu_scores = {}\n",
    "\n",
    "for model in models:\n",
    "    scores = []\n",
    "    for english_text, polish_text in zip(df[\"en_text\"].head(100), df[\"pl_text\"].head(100)):\n",
    "        prompt = prompt_chat(model, f\"Przetłumacz na polski i nie dodawaj niczego więcej: '{english_text}'\")\n",
    "        bleu_score = sentence_bleu([polish_text], prompt)\n",
    "        scores.append(bleu_score)\n",
    "    print(sum(scores) / len (scores))\n",
    "    model_bleu_scores[model] = sum(scores) / len (scores)"
   ]
  },
  {
   "cell_type": "code",
   "execution_count": null,
   "metadata": {},
   "outputs": [
    {
     "data": {
      "image/png": "[encoded data removed]",
      "text/plain": [
       "<Figure size 800x500 with 1 Axes>"
      ]
     },
     "metadata": {},
     "output_type": "display_data"
    }
   ],
   "source": [
    "import matplotlib.pyplot as plt\n",
    "\n",
    "# Plot bar chart\n",
    "plt.figure(figsize=(8, 5))\n",
    "plt.bar(model_bleu_scores.keys(), model_bleu_scores.values(), color=['blue', 'green', 'red'])\n",
    "\n",
    "# Labels and title\n",
    "plt.xlabel(\"Model\")\n",
    "plt.ylabel(\"Mean BLEU Score\")\n",
    "plt.title(\"Mean BLEU Score for Different Translation Models\")\n",
    "plt.ylim(0, 1)  # BLEU scores range from 0 to 1\n",
    "\n",
    "# Show values on top of bars\n",
    "for model, score in model_bleu_scores.items():\n",
    "    plt.text(model, score + 0.02, f\"{score:.4f}\", ha='center', fontsize=12)\n",
    "\n",
    "plt.show()\n"
   ]
  },
  {
   "cell_type": "code",
   "execution_count": 61,
   "metadata": {},
   "outputs": [
    {
     "name": "stderr",
     "output_type": "stream",
     "text": [
      "d:\\Magister\\Magisterka\\pipeline_prototype\\.venv\\Lib\\site-packages\\nltk\\translate\\bleu_score.py:577: UserWarning: \n",
      "The hypothesis contains 0 counts of 4-gram overlaps.\n",
      "Therefore the BLEU score evaluates to 0, independently of\n",
      "how many N-gram overlaps of lower order it contains.\n",
      "Consider using lower n-gram order or use SmoothingFunction()\n",
      "  warnings.warn(_msg)\n",
      "d:\\Magister\\Magisterka\\pipeline_prototype\\.venv\\Lib\\site-packages\\nltk\\translate\\bleu_score.py:577: UserWarning: \n",
      "The hypothesis contains 0 counts of 2-gram overlaps.\n",
      "Therefore the BLEU score evaluates to 0, independently of\n",
      "how many N-gram overlaps of lower order it contains.\n",
      "Consider using lower n-gram order or use SmoothingFunction()\n",
      "  warnings.warn(_msg)\n",
      "d:\\Magister\\Magisterka\\pipeline_prototype\\.venv\\Lib\\site-packages\\nltk\\translate\\bleu_score.py:577: UserWarning: \n",
      "The hypothesis contains 0 counts of 3-gram overlaps.\n",
      "Therefore the BLEU score evaluates to 0, independently of\n",
      "how many N-gram overlaps of lower order it contains.\n",
      "Consider using lower n-gram order or use SmoothingFunction()\n",
      "  warnings.warn(_msg)\n"
     ]
    },
    {
     "name": "stdout",
     "output_type": "stream",
     "text": [
      "0.41542017860627634\n",
      "0.45116670415916055\n",
      "0.36845434974871905\n"
     ]
    }
   ],
   "source": [
    "model_bleu_scores = {}\n",
    "\n",
    "for model in models:\n",
    "    scores = []\n",
    "    for english_text, polish_text in zip(df[\"en_text\"].head(100), df[\"pl_text\"].head(100)):\n",
    "        prompt = prompt_chat_custom_temperature(model, f\"Przetłumacz na polski i nie dodawaj niczego więcej: '{english_text}'\", 0.0)\n",
    "        bleu_score = sentence_bleu([polish_text], prompt)\n",
    "        scores.append(bleu_score)\n",
    "    print(sum(scores) / len (scores))\n",
    "    model_bleu_scores[model] = sum(scores) / len (scores)"
   ]
  },
  {
   "cell_type": "code",
   "execution_count": 62,
   "metadata": {},
   "outputs": [
    {
     "data": {
      "image/png": "[encoded data removed]",
      "text/plain": [
       "<Figure size 800x500 with 1 Axes>"
      ]
     },
     "metadata": {},
     "output_type": "display_data"
    }
   ],
   "source": [
    "import matplotlib.pyplot as plt\n",
    "\n",
    "# Plot bar chart\n",
    "plt.figure(figsize=(8, 5))\n",
    "plt.bar(model_bleu_scores.keys(), model_bleu_scores.values(), color=['blue', 'green', 'red'])\n",
    "\n",
    "# Labels and title\n",
    "plt.xlabel(\"Model\")\n",
    "plt.ylabel(\"Mean BLEU Score\")\n",
    "plt.title(\"Mean BLEU Score for Different Translation Models\")\n",
    "plt.ylim(0, 1)  # BLEU scores range from 0 to 1\n",
    "\n",
    "# Show values on top of bars\n",
    "for model, score in model_bleu_scores.items():\n",
    "    plt.text(model, score + 0.02, f\"{score:.4f}\", ha='center', fontsize=12)\n",
    "\n",
    "plt.show()\n"
   ]
  },
  {
   "cell_type": "code",
   "execution_count": 68,
   "metadata": {},
   "outputs": [
    {
     "name": "stderr",
     "output_type": "stream",
     "text": [
      "d:\\Magister\\Magisterka\\pipeline_prototype\\.venv\\Lib\\site-packages\\nltk\\translate\\bleu_score.py:577: UserWarning: \n",
      "The hypothesis contains 0 counts of 4-gram overlaps.\n",
      "Therefore the BLEU score evaluates to 0, independently of\n",
      "how many N-gram overlaps of lower order it contains.\n",
      "Consider using lower n-gram order or use SmoothingFunction()\n",
      "  warnings.warn(_msg)\n",
      "d:\\Magister\\Magisterka\\pipeline_prototype\\.venv\\Lib\\site-packages\\nltk\\translate\\bleu_score.py:577: UserWarning: \n",
      "The hypothesis contains 0 counts of 3-gram overlaps.\n",
      "Therefore the BLEU score evaluates to 0, independently of\n",
      "how many N-gram overlaps of lower order it contains.\n",
      "Consider using lower n-gram order or use SmoothingFunction()\n",
      "  warnings.warn(_msg)\n",
      "d:\\Magister\\Magisterka\\pipeline_prototype\\.venv\\Lib\\site-packages\\nltk\\translate\\bleu_score.py:577: UserWarning: \n",
      "The hypothesis contains 0 counts of 2-gram overlaps.\n",
      "Therefore the BLEU score evaluates to 0, independently of\n",
      "how many N-gram overlaps of lower order it contains.\n",
      "Consider using lower n-gram order or use SmoothingFunction()\n",
      "  warnings.warn(_msg)\n"
     ]
    },
    {
     "name": "stdout",
     "output_type": "stream",
     "text": [
      "0.2970521360037641\n",
      "0.3129053850093158\n",
      "0.23895191963060197\n"
     ]
    },
    {
     "data": {
      "image/png": "[encoded data removed]",
      "text/plain": [
       "<Figure size 800x500 with 1 Axes>"
      ]
     },
     "metadata": {},
     "output_type": "display_data"
    }
   ],
   "source": [
    "model_bleu_scores = {}\n",
    "sampled_df = df.sample(n=1000, random_state=42)\n",
    "\n",
    "for model in models:\n",
    "    scores = []\n",
    "    for english_text, polish_text in zip(sampled_df[\"en_text\"], sampled_df[\"pl_text\"]):\n",
    "        prompt = prompt_chat(model, f\"Przetłumacz na polski i nie dodawaj niczego więcej: '{english_text}'\")\n",
    "        if prompt is None:\n",
    "            continue\n",
    "        bleu_score = sentence_bleu([polish_text], prompt)\n",
    "        scores.append(bleu_score)\n",
    "    print(sum(scores) / len (scores))\n",
    "    model_bleu_scores[model] = sum(scores) / len (scores)\n",
    "\n",
    "plt.figure(figsize=(8, 5))\n",
    "plt.bar(model_bleu_scores.keys(), model_bleu_scores.values(), color=['blue', 'green', 'red'])\n",
    "\n",
    "# Labels and title\n",
    "plt.xlabel(\"Model\")\n",
    "plt.ylabel(\"Mean BLEU Score\")\n",
    "plt.title(\"Mean BLEU Score for Different Translation Models\")\n",
    "plt.ylim(0, 1)  # BLEU scores range from 0 to 1\n",
    "\n",
    "# Show values on top of bars\n",
    "for model, score in model_bleu_scores.items():\n",
    "    plt.text(model, score + 0.02, f\"{score:.4f}\", ha='center', fontsize=12)\n",
    "\n",
    "plt.show()"
   ]
  },
  {
   "cell_type": "code",
   "execution_count": 69,
   "metadata": {},
   "outputs": [
    {
     "name": "stderr",
     "output_type": "stream",
     "text": [
      "d:\\Magister\\Magisterka\\pipeline_prototype\\.venv\\Lib\\site-packages\\nltk\\translate\\bleu_score.py:577: UserWarning: \n",
      "The hypothesis contains 0 counts of 3-gram overlaps.\n",
      "Therefore the BLEU score evaluates to 0, independently of\n",
      "how many N-gram overlaps of lower order it contains.\n",
      "Consider using lower n-gram order or use SmoothingFunction()\n",
      "  warnings.warn(_msg)\n",
      "d:\\Magister\\Magisterka\\pipeline_prototype\\.venv\\Lib\\site-packages\\nltk\\translate\\bleu_score.py:577: UserWarning: \n",
      "The hypothesis contains 0 counts of 4-gram overlaps.\n",
      "Therefore the BLEU score evaluates to 0, independently of\n",
      "how many N-gram overlaps of lower order it contains.\n",
      "Consider using lower n-gram order or use SmoothingFunction()\n",
      "  warnings.warn(_msg)\n",
      "d:\\Magister\\Magisterka\\pipeline_prototype\\.venv\\Lib\\site-packages\\nltk\\translate\\bleu_score.py:577: UserWarning: \n",
      "The hypothesis contains 0 counts of 2-gram overlaps.\n",
      "Therefore the BLEU score evaluates to 0, independently of\n",
      "how many N-gram overlaps of lower order it contains.\n",
      "Consider using lower n-gram order or use SmoothingFunction()\n",
      "  warnings.warn(_msg)\n"
     ]
    },
    {
     "name": "stdout",
     "output_type": "stream",
     "text": [
      "0.3243337386349764\n",
      "0.343028291629572\n",
      "0.29068934433354005\n"
     ]
    },
    {
     "data": {
      "image/png": "[encoded data removed]",
      "text/plain": [
       "<Figure size 800x500 with 1 Axes>"
      ]
     },
     "metadata": {},
     "output_type": "display_data"
    }
   ],
   "source": [
    "model_bleu_scores = {}\n",
    "sampled_df = df.sample(n=1000, random_state=42)\n",
    "\n",
    "for model in models:\n",
    "    scores = []\n",
    "    for english_text, polish_text in zip(sampled_df[\"en_text\"], sampled_df[\"pl_text\"]):\n",
    "        prompt = prompt_chat_custom_temperature(model, f\"Przetłumacz na polski i nie dodawaj niczego więcej: '{english_text}'\", 0.0)\n",
    "        if prompt is None:\n",
    "            continue\n",
    "        bleu_score = sentence_bleu([polish_text], prompt)\n",
    "        scores.append(bleu_score)\n",
    "    print(sum(scores) / len (scores))\n",
    "    model_bleu_scores[model] = sum(scores) / len (scores)\n",
    "\n",
    "plt.figure(figsize=(8, 5))\n",
    "plt.bar(model_bleu_scores.keys(), model_bleu_scores.values(), color=['blue', 'green', 'red'])\n",
    "\n",
    "# Labels and title\n",
    "plt.xlabel(\"Model\")\n",
    "plt.ylabel(\"Mean BLEU Score\")\n",
    "plt.title(\"Mean BLEU Score for Different Translation Models\")\n",
    "plt.ylim(0, 1)  # BLEU scores range from 0 to 1\n",
    "\n",
    "# Show values on top of bars\n",
    "for model, score in model_bleu_scores.items():\n",
    "    plt.text(model, score + 0.02, f\"{score:.4f}\", ha='center', fontsize=12)\n",
    "\n",
    "plt.show()"
   ]
  },
  {
   "cell_type": "code",
   "execution_count": 88,
   "metadata": {},
   "outputs": [
    {
     "name": "stderr",
     "output_type": "stream",
     "text": [
      "d:\\Magister\\Magisterka\\pipeline_prototype\\.venv\\Lib\\site-packages\\nltk\\translate\\bleu_score.py:577: UserWarning: \n",
      "The hypothesis contains 0 counts of 3-gram overlaps.\n",
      "Therefore the BLEU score evaluates to 0, independently of\n",
      "how many N-gram overlaps of lower order it contains.\n",
      "Consider using lower n-gram order or use SmoothingFunction()\n",
      "  warnings.warn(_msg)\n",
      "d:\\Magister\\Magisterka\\pipeline_prototype\\.venv\\Lib\\site-packages\\nltk\\translate\\bleu_score.py:577: UserWarning: \n",
      "The hypothesis contains 0 counts of 4-gram overlaps.\n",
      "Therefore the BLEU score evaluates to 0, independently of\n",
      "how many N-gram overlaps of lower order it contains.\n",
      "Consider using lower n-gram order or use SmoothingFunction()\n",
      "  warnings.warn(_msg)\n",
      "d:\\Magister\\Magisterka\\pipeline_prototype\\.venv\\Lib\\site-packages\\nltk\\translate\\bleu_score.py:577: UserWarning: \n",
      "The hypothesis contains 0 counts of 2-gram overlaps.\n",
      "Therefore the BLEU score evaluates to 0, independently of\n",
      "how many N-gram overlaps of lower order it contains.\n",
      "Consider using lower n-gram order or use SmoothingFunction()\n",
      "  warnings.warn(_msg)\n"
     ]
    },
    {
     "data": {
      "image/png": "[encoded data removed]",
      "text/plain": [
       "<Figure size 1000x600 with 1 Axes>"
      ]
     },
     "metadata": {},
     "output_type": "display_data"
    }
   ],
   "source": [
    "import matplotlib.pyplot as plt\n",
    "from nltk.translate.bleu_score import sentence_bleu\n",
    "\n",
    "temperatures = [0.0, 0.1, 0.2, 0.3, 0.4, 0.5, 0.6, 0.7, 0.8, 0.9, 1]\n",
    "model_bleu_scores = {temp: {} for temp in temperatures}\n",
    "sampled_df = df.sample(n=10, random_state=42)\n",
    "\n",
    "for temp in temperatures:\n",
    "    for model in models:\n",
    "        scores = []\n",
    "        for english_text, polish_text in zip(sampled_df[\"en_text\"], sampled_df[\"pl_text\"]):\n",
    "            prompt = prompt_chat_custom_temperature(model, \n",
    "                f\"Przetłumacz na polski i nie dodawaj niczego więcej: '{english_text}'\", temp)\n",
    "            if prompt is None:\n",
    "                continue\n",
    "            bleu_score = sentence_bleu([polish_text], prompt)\n",
    "            scores.append(bleu_score)\n",
    "\n",
    "        avg_bleu = sum(scores) / len(scores) if scores else 0\n",
    "        model_bleu_scores[temp][model] = avg_bleu\n",
    "\n",
    "# Find the maximum BLEU score in data and add a margin\n",
    "max_bleu = max(max(scores.values(), default=0) for scores in model_bleu_scores.values())\n",
    "y_max = min(1.0, max_bleu + 0.05)  # Ensure it does not exceed 1.0\n",
    "\n",
    "plt.figure(figsize=(10, 6))\n",
    "bar_width = 0.2  # Width of each bar\n",
    "x_labels = [str(temp) for temp in temperatures]\n",
    "x_positions = range(len(temperatures))\n",
    "\n",
    "for i, model in enumerate(models):\n",
    "    model_scores = [model_bleu_scores[temp].get(model, 0) for temp in temperatures]\n",
    "    plt.bar(\n",
    "        [x + i * bar_width for x in x_positions],  # Offset bars for different models\n",
    "        model_scores,\n",
    "        width=bar_width,\n",
    "        label=model\n",
    "    )\n",
    "\n",
    "# Labels and title\n",
    "plt.xlabel(\"Temperature\")\n",
    "plt.ylabel(\"Mean BLEU Score\")\n",
    "plt.title(\"Mean BLEU Score for Different Models at Various Temperatures\")\n",
    "plt.xticks([x + bar_width for x in x_positions], x_labels)  # Adjust x-ticks to align with groups\n",
    "plt.ylim(0, y_max)  # Dynamically set y-axis limit\n",
    "plt.legend(title=\"Models\")\n",
    "\n",
    "plt.show()"
   ]
  },
  {
   "cell_type": "code",
   "execution_count": 84,
   "metadata": {},
   "outputs": [
    {
     "data": {
      "text/plain": [
       "'Cześć wszystkim. Chcecie usłyszeć o Fyresdal?'"
      ]
     },
     "execution_count": 84,
     "metadata": {},
     "output_type": "execute_result"
    }
   ],
   "source": [
    "prompt_chat_custom_temperature(\"llama3.1\", f\"Przetłumacz na polski i nie dodawaj niczego więcej: 'Hey, everyone! Wanna hear about Fyresdal?'\", 0.0)"
   ]
  },
  {
   "cell_type": "code",
   "execution_count": 85,
   "metadata": {},
   "outputs": [
    {
     "data": {
      "text/plain": [
       "'Cześć wszystkim. Chcecie posłuchać o Fyresdal?'"
      ]
     },
     "execution_count": 85,
     "metadata": {},
     "output_type": "execute_result"
    }
   ],
   "source": [
    "prompt_chat_custom_temperature(\"llama3.1\", f\"Przetłumacz na polski i nie dodawaj niczego więcej: 'Hey, everyone! Wanna hear about Fyresdal?'\", 0.1)"
   ]
  },
  {
   "cell_type": "code",
   "execution_count": null,
   "metadata": {},
   "outputs": [],
   "source": []
  }
 ],
 "metadata": {
  "kernelspec": {
   "display_name": ".venv",
   "language": "python",
   "name": "python3"
  },
  "language_info": {
   "codemirror_mode": {
    "name": "ipython",
    "version": 3
   },
   "file_extension": ".py",
   "mimetype": "text/x-python",
   "name": "python",
   "nbconvert_exporter": "python",
   "pygments_lexer": "ipython3",
   "version": "3.11.2"
  }
 },
 "nbformat": 4,
 "nbformat_minor": 2
}
